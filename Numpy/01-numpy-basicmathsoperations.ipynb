{
 "cells": [
  {
   "cell_type": "markdown",
   "metadata": {},
   "source": [
    "Basic Mathematical Operations\n",
    "==============================\n",
    "<a href=\"PyDataWorkshop.Github.io\">Main Page</a> | <a href=\"index.html\"> numpy </a>\n",
    "\n",
    "<ol> \n",
    "<li> <code>sum</code> and <code>cumsum</code>\n",
    "<li> <code>prod</code> and <code>cumprod</code>\n",
    "<li> the <code>diff</code> function\n",
    "<li> Logarithms and Exponentials\n",
    "<li> Rounding functions\n",
    "</ol>\n"
   ]
  },
  {
   "cell_type": "code",
   "execution_count": 16,
   "metadata": {
    "collapsed": false
   },
   "outputs": [],
   "source": [
    "from __future__ import division\n",
    "from __future__ import print_function\n",
    "# Preliminaries\n",
    "import scipy\n",
    "import scipy.stats as stats\n",
    "import sys\n",
    "from pylab import *\n",
    "from numpy import *\n",
    "# End Imports\n"
   ]
  },
  {
   "cell_type": "markdown",
   "metadata": {},
   "source": [
    "### 1.1 `sum` and `cumsum`\n",
    "sum sums elements in an array. By default, it will sum all elements in the array, and\n",
    "so the second argument is normally used to provide the axis to use { 0 to sum down\n",
    "columns, 1 to sum across rows. \n",
    "\n",
    "`cumsum` produces the cumulative sum of the values in\n",
    "the array, and is also usually used with the second argument to indicate the axis to use."
   ]
  },
  {
   "cell_type": "code",
   "execution_count": 17,
   "metadata": {
    "collapsed": false
   },
   "outputs": [
    {
     "name": "stdout",
     "output_type": "stream",
     "text": [
      "[[-0.25600702  1.98814712 -0.34082453 -0.90064304]\n",
      " [ 2.37244575 -0.48624868 -1.37991357 -0.55191162]\n",
      " [-0.46229085 -0.73612159 -0.12632763 -0.49540312]]\n"
     ]
    }
   ],
   "source": [
    "x = randn(3,4)\n",
    "print(x)"
   ]
  },
  {
   "cell_type": "code",
   "execution_count": 18,
   "metadata": {
    "collapsed": false
   },
   "outputs": [
    {
     "name": "stdout",
     "output_type": "stream",
     "text": [
      "-1.37509875383\n",
      "[ 1.65414789  0.76577685 -1.84706572 -1.94795778]\n",
      "[ 0.49067254 -0.0456281  -1.82014319]\n"
     ]
    }
   ],
   "source": [
    "print( sum(x) ) # all 12 elements\n",
    "\n",
    "print( sum(x, 0) ) # Summation of rows, 4 elements\n",
    "\n",
    "print( sum(x, 1) ) # Summation of columns, 3 elements\n",
    "\n",
    "# Answers printed here in order"
   ]
  },
  {
   "cell_type": "code",
   "execution_count": 19,
   "metadata": {
    "collapsed": false
   },
   "outputs": [
    {
     "data": {
      "text/plain": [
       "array([-0.25600702,  1.73214011,  1.39131558,  0.49067254,  2.86311829,\n",
       "        2.37686962,  0.99695605,  0.44504444, -0.01724641, -0.753368  ,\n",
       "       -0.87969563, -1.37509875])"
      ]
     },
     "execution_count": 19,
     "metadata": {},
     "output_type": "execute_result"
    }
   ],
   "source": [
    "cumsum(x)"
   ]
  },
  {
   "cell_type": "code",
   "execution_count": 20,
   "metadata": {
    "collapsed": false
   },
   "outputs": [
    {
     "data": {
      "text/plain": [
       "array([[-0.25600702,  1.98814712, -0.34082453, -0.90064304],\n",
       "       [ 2.11643874,  1.50189845, -1.72073809, -1.45255466],\n",
       "       [ 1.65414789,  0.76577685, -1.84706572, -1.94795778]])"
      ]
     },
     "execution_count": 20,
     "metadata": {},
     "output_type": "execute_result"
    }
   ],
   "source": [
    "cumsum(x,0) # Down rows"
   ]
  },
  {
   "cell_type": "markdown",
   "metadata": {},
   "source": [
    "sum and cumsum can both be used as function or as methods. When used as methods,\n",
    "the first input is the axis so that sum(x,0) is the same as x.sum(0)."
   ]
  },
  {
   "cell_type": "markdown",
   "metadata": {},
   "source": [
    "### 1.2. `prod` and `cumprod`\n",
    "\n",
    " - `prod` and `cumprod` behave similarly to `sum` and `cumsum` except that the product and cumulative product are returned. \n",
    " - `prod` and `cumprod` can be called as function or methods."
   ]
  },
  {
   "cell_type": "code",
   "execution_count": 21,
   "metadata": {
    "collapsed": false
   },
   "outputs": [
    {
     "name": "stdout",
     "output_type": "stream",
     "text": [
      "0.00292335800859\n",
      "[ 0.28077824  0.7116337  -0.05941294 -0.24625268]\n",
      "[-0.15623701 -0.87856954  0.02129717]\n"
     ]
    }
   ],
   "source": [
    "print(prod(x))\n",
    "print(prod(x,0))\n",
    "print(prod(x,1))\n"
   ]
  },
  {
   "cell_type": "markdown",
   "metadata": {},
   "source": [
    "### 1.3 the `diff` function\n",
    "\n",
    "- `diff` computes the finite difference of a vector (also array) and returns an **n-1** element\n",
    "vector when used on an n element vector. \n",
    "- `diff` operates on the last axis by default, and\n",
    "so diff(x) operates across columns and returns `x[:,1:size(x,1)]` or `x[:,: size(x,1)1]`\n",
    "for a 2-dimensional array.\n",
    "- `diff` takes an optional keyword argument axis so that `diff(x, axis=0)` will operate\n",
    "across rows. \n",
    "- `diff` can also be used to produce higher order differences (e.g. double\n",
    "difference)."
   ]
  },
  {
   "cell_type": "code",
   "execution_count": 22,
   "metadata": {
    "collapsed": false
   },
   "outputs": [
    {
     "data": {
      "text/plain": [
       "array([[ 2.24415414, -2.32897165, -0.55981851],\n",
       "       [-2.85869443, -0.89366489,  0.82800195],\n",
       "       [-0.27383075,  0.60979396, -0.36907549]])"
      ]
     },
     "execution_count": 22,
     "metadata": {},
     "output_type": "execute_result"
    }
   ],
   "source": [
    "diff(x) # Same as diff(x,1)"
   ]
  },
  {
   "cell_type": "code",
   "execution_count": 23,
   "metadata": {
    "collapsed": false
   },
   "outputs": [
    {
     "data": {
      "text/plain": [
       "array([[-0.25600702,  1.98814712, -0.34082453, -0.90064304],\n",
       "       [ 2.37244575, -0.48624868, -1.37991357, -0.55191162],\n",
       "       [-0.46229085, -0.73612159, -0.12632763, -0.49540312]])"
      ]
     },
     "execution_count": 23,
     "metadata": {},
     "output_type": "execute_result"
    }
   ],
   "source": [
    "diff(x,0)  # doesnt do anything. The output here is just x itself."
   ]
  },
  {
   "cell_type": "code",
   "execution_count": 24,
   "metadata": {
    "collapsed": false
   },
   "outputs": [
    {
     "data": {
      "text/plain": [
       "array([[ 2.62845277, -2.4743958 , -1.03908904,  0.34873142],\n",
       "       [-2.8347366 , -0.24987292,  1.25358594,  0.05650849]])"
      ]
     },
     "execution_count": 24,
     "metadata": {},
     "output_type": "execute_result"
    }
   ],
   "source": [
    "diff(x, axis = 0)"
   ]
  },
  {
   "cell_type": "code",
   "execution_count": 25,
   "metadata": {
    "collapsed": false
   },
   "outputs": [
    {
     "data": {
      "text/plain": [
       "array([[-5.46318937,  2.22452288,  2.29267497, -0.29222293]])"
      ]
     },
     "execution_count": 25,
     "metadata": {},
     "output_type": "execute_result"
    }
   ],
   "source": [
    "diff(x, 2, axis=0) # Double difference, columnbycolumn\n",
    "#  Check what precisely this means"
   ]
  },
  {
   "cell_type": "markdown",
   "metadata": {},
   "source": [
    "### 1.4  Some Mathematical Functions\n",
    "\n",
    "- `exp`\n",
    "\n",
    "exp returns the element-by-element exponential for an array.\n",
    "\n",
    "- `log`\n",
    "\n",
    "log returns the element-by-element natural logarithm (*ln(x)*)for an array.\n",
    "\n",
    "- `log10`\n",
    "\n",
    "log10 returns the element-by-element base-10 logarithm for an array."
   ]
  },
  {
   "cell_type": "code",
   "execution_count": 26,
   "metadata": {
    "collapsed": false
   },
   "outputs": [
    {
     "name": "stdout",
     "output_type": "stream",
     "text": [
      "2.71828182846\n",
      "7.38905609893\n",
      "1.60943791243\n",
      "0.698970004336\n"
     ]
    }
   ],
   "source": [
    "print(exp(1))\n",
    "print(exp(2))\n",
    "print(log(5))\n",
    "print(log10(5))"
   ]
  },
  {
   "cell_type": "markdown",
   "metadata": {},
   "source": [
    "### 1.5 Rounding\n",
    "\n",
    "Functions: `around` and `round`\n",
    "    \n",
    "`around` rounds to the nearest integer, or to a particular decimal place when called with\n",
    "two arguments."
   ]
  },
  {
   "cell_type": "code",
   "execution_count": 27,
   "metadata": {
    "collapsed": false
   },
   "outputs": [
    {
     "data": {
      "text/plain": [
       "array([ 0.48193971,  0.08574694,  0.40960621])"
      ]
     },
     "execution_count": 27,
     "metadata": {},
     "output_type": "execute_result"
    }
   ],
   "source": [
    "x = randn(3)\n",
    "x\n"
   ]
  },
  {
   "cell_type": "code",
   "execution_count": 28,
   "metadata": {
    "collapsed": false
   },
   "outputs": [
    {
     "data": {
      "text/plain": [
       "array([ 0.,  0.,  0.])"
      ]
     },
     "execution_count": 28,
     "metadata": {},
     "output_type": "execute_result"
    }
   ],
   "source": [
    "around(x)\n"
   ]
  },
  {
   "cell_type": "code",
   "execution_count": 29,
   "metadata": {
    "collapsed": false
   },
   "outputs": [
    {
     "data": {
      "text/plain": [
       "array([ 0.48,  0.09,  0.41])"
      ]
     },
     "execution_count": 29,
     "metadata": {},
     "output_type": "execute_result"
    }
   ],
   "source": [
    "around(x, 2)"
   ]
  },
  {
   "cell_type": "markdown",
   "metadata": {},
   "source": [
    "- `around` can also be used as a method on an ndarray, except that the method is\n",
    "named `round`. \n",
    "- For example, `x.round(2)` is identical to `around(x, 2)`. \n",
    "- The change of names is needed to avoid conflicting with the Python built-in function `round`."
   ]
  },
  {
   "cell_type": "markdown",
   "metadata": {},
   "source": [
    "#### `floor` and `ceil`\n",
    "- `floor` rounds down to the next smallest integer.\n",
    "- `ceil` rounds up to the next highest integer (i.e the ceiling)."
   ]
  },
  {
   "cell_type": "code",
   "execution_count": 30,
   "metadata": {
    "collapsed": false
   },
   "outputs": [
    {
     "name": "stdout",
     "output_type": "stream",
     "text": [
      "[-0.09669392  0.94108466  0.11908116]\n",
      "[-1.  0.  0.]\n",
      "[-0.  1.  1.]\n"
     ]
    }
   ],
   "source": [
    "x = randn(3)\n",
    "print(x)\n",
    "\n",
    "print(floor(x))\n",
    "print(ceil(x))"
   ]
  }
 ],
 "metadata": {
  "kernelspec": {
   "display_name": "Python 3",
   "language": "python",
   "name": "python3"
  },
  "language_info": {
   "codemirror_mode": {
    "name": "ipython",
    "version": 3
   },
   "file_extension": ".py",
   "mimetype": "text/x-python",
   "name": "python",
   "nbconvert_exporter": "python",
   "pygments_lexer": "ipython3",
   "version": "3.5.1"
  }
 },
 "nbformat": 4,
 "nbformat_minor": 0
}
