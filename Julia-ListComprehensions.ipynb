{
 "cells": [
  {
   "cell_type": "markdown",
   "metadata": {},
   "source": [
    "List Comprehension in Julia\n",
    "==============================================\n",
    "\n",
    "\n",
    "- Many programming languages offer a construct called list comprehension, which allows one to define a new list from an existing one. \n",
    "- Similar to map, list comprehension is syntactic sugar for applying operations to a list by succinctly iterating over its elements. \n",
    "- For example, suppose we want a list of the first 10 perfect squares. \n",
    "- We could do this in Julia with the following code, adding elements to a list one at a time:\n"
   ]
  },
  {
   "cell_type": "code",
   "execution_count": 1,
   "metadata": {
    "collapsed": true
   },
   "outputs": [],
   "source": [
    "sq = Array(Int64, 0)\n",
    "\n",
    "for x in 1:10\n",
    "    push!(sq, x*x)\n",
    "end"
   ]
  },
  {
   "cell_type": "markdown",
   "metadata": {},
   "source": [
    "We can accomplish the same thing in one line using list comprehension, in the following way:\n"
   ]
  },
  {
   "cell_type": "code",
   "execution_count": 1,
   "metadata": {
    "collapsed": false
   },
   "outputs": [
    {
     "data": {
      "text/plain": [
       "10-element Array{Int32,1}:\n",
       "   1\n",
       "   4\n",
       "   9\n",
       "  16\n",
       "  25\n",
       "  36\n",
       "  49\n",
       "  64\n",
       "  81\n",
       " 100"
      ]
     },
     "execution_count": 1,
     "metadata": {},
     "output_type": "execute_result"
    }
   ],
   "source": [
    "sq = [x*x for x in 1:10]"
   ]
  },
  {
   "cell_type": "markdown",
   "metadata": {},
   "source": [
    "Not only is this syntax more compact, but it is more intuitive and suggestive of set-builder notation used in mathematics. \n",
    "That is, we can think of the above list as the set $ \\{x^2 \\; | \\; x \\in \\{1, \\ldots, 10\\}  \\}  . $ \n",
    "\n",
    "With set-builder notation, we can also restrict which elements our function is applied to simply by adding a predicate such as “x is even”. Can we do this in Julia using comprehension syntax?\n"
   ]
  },
  {
   "cell_type": "markdown",
   "metadata": {},
   "source": [
    "#### Python\n",
    "\n",
    "Most programming languages support the use of a predicate in a list comprehension. This is called conditional list comprehension. In Python, this looks like:\n",
    "<code>\n",
    "sq = [x*x for x in range(10) if x % 2 == 0]\n",
    "</code>"
   ]
  },
  {
   "cell_type": "markdown",
   "metadata": {},
   "source": [
    "#### Conditional List Comprehension\n",
    "\n",
    "Unfortunately, at the time of this writing, Julia does not support conditional list comprehension, \n",
    "though there are (messier) workarounds. We can use filter to achieve the same effect:\n"
   ]
  },
  {
   "cell_type": "code",
   "execution_count": 2,
   "metadata": {
    "collapsed": false
   },
   "outputs": [
    {
     "ename": "LoadError",
     "evalue": "LoadError: error compiling anonymous: unsupported or misplaced expression \"&\" in function anonymous\nwhile loading In[2], in expression starting on line 3",
     "output_type": "error",
     "traceback": [
      "LoadError: error compiling anonymous: unsupported or misplaced expression \"&\" in function anonymous\nwhile loading In[2], in expression starting on line 3",
      ""
     ]
    }
   ],
   "source": [
    "\n",
    "\n",
    "sq = [x*x for x in filter(x -&gt; x % 2 == 0, 1:10)]\n"
   ]
  },
  {
   "cell_type": "code",
   "execution_count": null,
   "metadata": {
    "collapsed": true
   },
   "outputs": [],
   "source": []
  },
  {
   "cell_type": "code",
   "execution_count": null,
   "metadata": {
    "collapsed": true
   },
   "outputs": [],
   "source": []
  },
  {
   "cell_type": "code",
   "execution_count": null,
   "metadata": {
    "collapsed": true
   },
   "outputs": [],
   "source": []
  },
  {
   "cell_type": "code",
   "execution_count": null,
   "metadata": {
    "collapsed": true
   },
   "outputs": [],
   "source": []
  },
  {
   "cell_type": "code",
   "execution_count": null,
   "metadata": {
    "collapsed": true
   },
   "outputs": [],
   "source": []
  }
 ],
 "metadata": {
  "kernelspec": {
   "display_name": "Julia 0.4.5",
   "language": "julia",
   "name": "julia-0.4"
  },
  "language_info": {
   "file_extension": ".jl",
   "mimetype": "application/julia",
   "name": "julia",
   "version": "0.4.5"
  }
 },
 "nbformat": 4,
 "nbformat_minor": 0
}
