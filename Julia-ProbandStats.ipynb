{
 "cells": [
  {
   "cell_type": "code",
   "execution_count": 4,
   "metadata": {
    "collapsed": false
   },
   "outputs": [
    {
     "ename": "LoadError",
     "evalue": "LoadError: UndefVarError: randint not defined\nwhile loading In[4], in expression starting on line 1",
     "output_type": "error",
     "traceback": [
      "LoadError: UndefVarError: randint not defined\nwhile loading In[4], in expression starting on line 1",
      ""
     ]
    }
   ],
   "source": [
    "x = randint(0,10,(100))\n",
    "print(x)\n",
    "x.max() # Is 9 since range is [0,10)\n",
    "y = random_integers(0,10,(100))\n",
    "print(y)\n",
    "y.max() # Is 10 since range is [0,10]\n",
    "\n",
    "\n"
   ]
  },
  {
   "cell_type": "code",
   "execution_count": 5,
   "metadata": {
    "collapsed": false
   },
   "outputs": [
    {
     "ename": "LoadError",
     "evalue": "LoadError: UndefVarError: arange not defined\nwhile loading In[5], in expression starting on line 1",
     "output_type": "error",
     "traceback": [
      "LoadError: UndefVarError: arange not defined\nwhile loading In[5], in expression starting on line 1",
      ""
     ]
    }
   ],
   "source": [
    "x = arange(10)\n",
    "print(x)\n",
    "shuffle(x)\n",
    "x\n",
    "\n"
   ]
  },
  {
   "cell_type": "code",
   "execution_count": 6,
   "metadata": {
    "collapsed": false
   },
   "outputs": [
    {
     "name": "stdout",
     "output_type": "stream",
     "text": [
      "-0.8836663014650246 0.8444932467163153 1.4758424188154675 0.29297174505718027\n",
      " -1.04845035706596 -0.29864044091028025 0.8106418529146089 -0.6034748318464025\n",
      " -1.4232413301905305 0.20976007402797395 1.0379572572183238 -0.39442191448682845]"
     ]
    },
    {
     "ename": "LoadError",
     "evalue": "LoadError: UndefVarError: arange not defined\nwhile loading In[6], in expression starting on line 1",
     "output_type": "error",
     "traceback": [
      "LoadError: UndefVarError: arange not defined\nwhile loading In[6], in expression starting on line 1",
      ""
     ]
    }
   ],
   "source": [
    "x = arange(10)\n",
    "print(x)\n",
    "permutation(x)\n",
    "print(x)"
   ]
  },
  {
   "cell_type": "code",
   "execution_count": 9,
   "metadata": {
    "collapsed": false
   },
   "outputs": [
    {
     "ename": "LoadError",
     "evalue": "LoadError: UndefVarError: arange not defined\nwhile loading In[9], in expression starting on line 1",
     "output_type": "error",
     "traceback": [
      "LoadError: UndefVarError: arange not defined\nwhile loading In[9], in expression starting on line 1",
      ""
     ]
    }
   ],
   "source": [
    "x = arange(10.0)\n",
    "x.mean()\n",
    "mean(x)\n",
    "x= reshape(arange(20.0),(4,5))\n",
    "mean(x,0)\n",
    "x.mean(1)\n",
    "\n",
    "x= randn(4,5)\n",
    "x\n",
    "median(x)\n",
    "median(x, 0)\n"
   ]
  },
  {
   "cell_type": "code",
   "execution_count": 10,
   "metadata": {
    "collapsed": false
   },
   "outputs": [
    {
     "ename": "LoadError",
     "evalue": "LoadError: UndefVarError: corrcoef not defined\nwhile loading In[10], in expression starting on line 2",
     "output_type": "error",
     "traceback": [
      "LoadError: UndefVarError: corrcoef not defined\nwhile loading In[10], in expression starting on line 2",
      ""
     ]
    }
   ],
   "source": [
    "\n",
    "\n",
    "x = randn(1000)\n",
    "count, binends = histogram(x)\n",
    "count\n",
    "binends\n",
    "count, binends = histogram(x, 25)\n"
   ]
  },
  {
   "cell_type": "code",
   "execution_count": 11,
   "metadata": {
    "collapsed": false
   },
   "outputs": [
    {
     "ename": "LoadError",
     "evalue": "LoadError: UndefVarError: stats not defined\nwhile loading In[11], in expression starting on line 1",
     "output_type": "error",
     "traceback": [
      "LoadError: UndefVarError: stats not defined\nwhile loading In[11], in expression starting on line 1",
      ""
     ]
    }
   ],
   "source": []
  },
  {
   "cell_type": "code",
   "execution_count": 12,
   "metadata": {
    "collapsed": false
   },
   "outputs": [
    {
     "ename": "LoadError",
     "evalue": "LoadError: UndefVarError: scipy not defined\nwhile loading In[12], in expression starting on line 2",
     "output_type": "error",
     "traceback": [
      "LoadError: UndefVarError: scipy not defined\nwhile loading In[12], in expression starting on line 2",
      ""
     ]
    }
   ],
   "source": [
    "\n",
    "g = scipy.stats.gamma(1, scale=2)\n",
    "g.cdf(1)\n",
    "\n",
    "x=randint(1,11,1000)\n",
    "stats.mode(x)\n",
    "\n",
    "x = randn(1000)\n",
    "moment = stats.moment\n",
    "moment(x,2) - moment(x,1)**2\n",
    "var(x)\n",
    "x = randn(1000,2)\n",
    "moment(x,2,0) # axis 0\n",
    "\n",
    "x = randn(1000)\n",
    "skew = stats.skew\n",
    "skew(x)\n",
    "x = randn(1000,2)\n",
    "skew(x,0)\n",
    "\n",
    "x = randn(1000)\n",
    "kurtosis = stats.kurtosis\n",
    "kurtosis(x)\n",
    "kurtosis(x, fisher=False)\n",
    "kurtosis(x, fisher=False) - kurtosis(x) # Must be 3\n",
    "x = randn(1000,2)\n",
    "kurtosis(x,0)"
   ]
  },
  {
   "cell_type": "code",
   "execution_count": 15,
   "metadata": {
    "collapsed": false
   },
   "outputs": [
    {
     "ename": "LoadError",
     "evalue": "LoadError: UndefVarError: stats not defined\nwhile loading In[15], in expression starting on line 3",
     "output_type": "error",
     "traceback": [
      "LoadError: UndefVarError: stats not defined\nwhile loading In[15], in expression starting on line 3",
      ""
     ]
    }
   ],
   "source": [
    "x = randn(10)\n",
    "y = x + randn(10)\n",
    "linregress = stats.linregress\n",
    "slope, intercept, rvalue, pvalue, stderr = linregress(x,y)\n",
    "slope\n",
    "rsquare = rvalue**2\n",
    "rsquare\n",
    "x.shape = 10,1\n",
    "y.shape = 10,1\n",
    "z = hstack((x,y))\n",
    "linregress(z) # Alternative form, [x y]\n"
   ]
  },
  {
   "cell_type": "code",
   "execution_count": 16,
   "metadata": {
    "collapsed": false
   },
   "outputs": [
    {
     "ename": "LoadError",
     "evalue": "LoadError: UndefVarError: stats not defined\nwhile loading In[16], in expression starting on line 2",
     "output_type": "error",
     "traceback": [
      "LoadError: UndefVarError: stats not defined\nwhile loading In[16], in expression starting on line 2",
      ""
     ]
    }
   ],
   "source": [
    "x = randn(100)\n",
    "kstest = stats.kstest\n",
    "stat, pval = kstest(x, 'norm')\n",
    "stat\n",
    "pval\n",
    "ncdf = stats.norm().cdf # No () on cdf to get the function\n",
    "kstest(x, ncdf)\n",
    "x = gamma.rvs(2, size = 100)\n",
    "kstest(x, 'gamma', (2,)) # (2,) contains the shape parameter\n",
    "gcdf = gamma(2).cdf\n",
    "kstest(x, gcdf)"
   ]
  },
  {
   "cell_type": "code",
   "execution_count": null,
   "metadata": {
    "collapsed": true
   },
   "outputs": [],
   "source": []
  },
  {
   "cell_type": "code",
   "execution_count": null,
   "metadata": {
    "collapsed": true
   },
   "outputs": [],
   "source": []
  },
  {
   "cell_type": "code",
   "execution_count": null,
   "metadata": {
    "collapsed": true
   },
   "outputs": [],
   "source": []
  },
  {
   "cell_type": "code",
   "execution_count": null,
   "metadata": {
    "collapsed": true
   },
   "outputs": [],
   "source": []
  },
  {
   "cell_type": "code",
   "execution_count": null,
   "metadata": {
    "collapsed": true
   },
   "outputs": [],
   "source": []
  }
 ],
 "metadata": {
  "kernelspec": {
   "display_name": "Julia 0.4.5",
   "language": "julia",
   "name": "julia-0.4"
  },
  "language_info": {
   "file_extension": ".jl",
   "mimetype": "application/julia",
   "name": "julia",
   "version": "0.4.5"
  }
 },
 "nbformat": 4,
 "nbformat_minor": 0
}
