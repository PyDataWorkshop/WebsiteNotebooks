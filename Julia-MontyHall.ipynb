{
 "cells": [
  {
   "cell_type": "markdown",
   "metadata": {},
   "source": [
    "Monty Hall Problem\n",
    "==========================\n",
    "Back to <a href=\"index.html\"> Main Page </a>\n",
    "\n",
    "- Suppose that there are three closed doors on the set of the ***Let's Make a Deal***, a TV game show presented by Monty Hall. \n",
    "- Behind one of these doors is a car; behind the other two are goats. \n",
    "- The contestant does not know where the car is, but Monty Hall does.\n",
    "- The contestant selects a door, but not the outcome is not immediately evident. \n",
    "- Monty opens one of the remaining ``wrong\" doors. \n",
    "- If the contestant has already chosen the correct door, Monty is equally likely to open either of the two remaining doors.\n",
    "- After Monty has shown a goat behind the door that he opens, the contestant is always given the option to switch doors. \n",
    "- What is the probability of winning the car if she stays with her first choice? What if she decides to switch?\n",
    "        "
   ]
  },
  {
   "cell_type": "markdown",
   "metadata": {},
   "source": [
    "#### Using Set Theory to Implement the Problem\n",
    " - `union()`\n",
    " - `ìntersect()`\n",
    " - `setdiff()`\n",
    " "
   ]
  },
  {
   "cell_type": "markdown",
   "metadata": {},
   "source": [
    "#### Some Terminology\n",
    "- correct door : the door with the car\n",
    "- wrong door : door with a goat behind it\n",
    "- choice : contestant's selected door. "
   ]
  },
  {
   "cell_type": "code",
   "execution_count": 178,
   "metadata": {
    "collapsed": false
   },
   "outputs": [
    {
     "data": {
      "text/plain": [
       "3-element Array{Int32,1}:\n",
       " 1\n",
       " 2\n",
       " 3"
      ]
     },
     "execution_count": 178,
     "metadata": {},
     "output_type": "execute_result"
    }
   ],
   "source": [
    "# Set up \"doors\" as the Universal Set\n",
    "\n",
    "doors = collect(1:3)"
   ]
  },
  {
   "cell_type": "code",
   "execution_count": 179,
   "metadata": {
    "collapsed": false
   },
   "outputs": [
    {
     "data": {
      "text/plain": [
       "2"
      ]
     },
     "execution_count": 179,
     "metadata": {},
     "output_type": "execute_result"
    }
   ],
   "source": [
    "correct=doors[rand(1:end)]"
   ]
  },
  {
   "cell_type": "code",
   "execution_count": 180,
   "metadata": {
    "collapsed": false
   },
   "outputs": [
    {
     "data": {
      "text/plain": [
       "3"
      ]
     },
     "execution_count": 180,
     "metadata": {},
     "output_type": "execute_result"
    }
   ],
   "source": [
    "choice=doors[rand(1:end)]"
   ]
  },
  {
   "cell_type": "markdown",
   "metadata": {},
   "source": [
    "### Revealing a Goat\n",
    "- Now, Monty will open a door to reveal a goat.\n",
    "- He cant choose the door that the contestant selected, and he cant choose the correct door.\n",
    "- First let us select the doors that must stay closed, then find the ones we can choose from to open\n",
    "\n"
   ]
  },
  {
   "cell_type": "code",
   "execution_count": 191,
   "metadata": {
    "collapsed": false
   },
   "outputs": [
    {
     "data": {
      "text/plain": [
       "1-element Array{Int32,1}:\n",
       " 1"
      ]
     },
     "execution_count": 191,
     "metadata": {},
     "output_type": "execute_result"
    }
   ],
   "source": [
    "canopen=setdiff(doors,union(correct,choice))"
   ]
  },
  {
   "cell_type": "code",
   "execution_count": 192,
   "metadata": {
    "collapsed": false
   },
   "outputs": [
    {
     "data": {
      "text/plain": [
       "1"
      ]
     },
     "execution_count": 192,
     "metadata": {},
     "output_type": "execute_result"
    }
   ],
   "source": [
    "doesopen=canopen[rand(1:end)] #Goat is Revealed"
   ]
  },
  {
   "cell_type": "markdown",
   "metadata": {},
   "source": [
    "#### Which doors are still closed? \n",
    "This set must contain two doors, and must include the correct door and the door the contestant has chosen.\n",
    "Two scenarios must be accounted for.\n",
    "   1. Contestant chose an incorrect door; correct door and chosen door are different doors.\n",
    "   2. Contestant chose the correct door; correct door and chosen door are the same. A \"wrong\" door is also closed."
   ]
  },
  {
   "cell_type": "code",
   "execution_count": 193,
   "metadata": {
    "collapsed": false
   },
   "outputs": [
    {
     "data": {
      "text/plain": [
       "2-element Array{Int32,1}:\n",
       " 2\n",
       " 3"
      ]
     },
     "execution_count": 193,
     "metadata": {},
     "output_type": "execute_result"
    }
   ],
   "source": [
    "stillclosed = setdiff(doors,doesopen)"
   ]
  },
  {
   "cell_type": "markdown",
   "metadata": {},
   "source": [
    "#### Stick or Switch?\n",
    "\n",
    "- the contestant \"sticks\" with their original choice.\n",
    "- the contestant \"switchs\" to other closed door.\n",
    "\n",
    "***Important:*** Watch out for \"types\"."
   ]
  },
  {
   "cell_type": "code",
   "execution_count": 194,
   "metadata": {
    "collapsed": false
   },
   "outputs": [
    {
     "data": {
      "text/plain": [
       "2"
      ]
     },
     "execution_count": 194,
     "metadata": {},
     "output_type": "execute_result"
    }
   ],
   "source": [
    "correct"
   ]
  },
  {
   "cell_type": "code",
   "execution_count": 195,
   "metadata": {
    "collapsed": false
   },
   "outputs": [
    {
     "data": {
      "text/plain": [
       "3"
      ]
     },
     "execution_count": 195,
     "metadata": {},
     "output_type": "execute_result"
    }
   ],
   "source": [
    "stick  = choice  # not absolutely necessary to update the name"
   ]
  },
  {
   "cell_type": "code",
   "execution_count": 196,
   "metadata": {
    "collapsed": false
   },
   "outputs": [
    {
     "data": {
      "text/plain": [
       "1-element Array{Int32,1}:\n",
       " 2"
      ]
     },
     "execution_count": 196,
     "metadata": {},
     "output_type": "execute_result"
    }
   ],
   "source": [
    "switch = setdiff(stillclosed,choice)"
   ]
  },
  {
   "cell_type": "code",
   "execution_count": 197,
   "metadata": {
    "collapsed": false
   },
   "outputs": [
    {
     "data": {
      "text/plain": [
       "false"
      ]
     },
     "execution_count": 197,
     "metadata": {},
     "output_type": "execute_result"
    }
   ],
   "source": [
    "switch==correct"
   ]
  },
  {
   "cell_type": "code",
   "execution_count": 198,
   "metadata": {
    "collapsed": false
   },
   "outputs": [
    {
     "data": {
      "text/plain": [
       "true"
      ]
     },
     "execution_count": 198,
     "metadata": {},
     "output_type": "execute_result"
    }
   ],
   "source": [
    "switch[end]==correct"
   ]
  },
  {
   "cell_type": "markdown",
   "metadata": {},
   "source": [
    "### Simulation Study\n",
    "\n",
    "Let's run this procedure a large number of times and count how many the \"stick\" decision was correct. Is it 50%?\n",
    "\n",
    "#### Implemention\n",
    " - Write an function that return either 0 if switch was the correct decision, or 1 if stick was the correct decision.\n",
    " - (Remark: Once you read through the code, the answer starts to become obvious)\n",
    " - No input arguments are necessary for this function."
   ]
  },
  {
   "cell_type": "code",
   "execution_count": 199,
   "metadata": {
    "collapsed": false
   },
   "outputs": [
    {
     "data": {
      "text/plain": [
       "montyhall (generic function with 1 method)"
      ]
     },
     "execution_count": 199,
     "metadata": {},
     "output_type": "execute_result"
    }
   ],
   "source": [
    "function montyhall()\n",
    "doors = collect(1:3)\n",
    "    correct=doors[rand(1:end)]\n",
    "    choice=doors[rand(1:end)]\n",
    "    canopen=setdiff(doors,union(correct,choice))\n",
    "    doesopen=canopen[rand(1:end)] \n",
    "    stillclosed = setdiff(doors,doesopen)\n",
    "    stick  = choice;  \n",
    "    switch = setdiff(stillclosed,choice)\n",
    "    answer = mean(stick==correct)\n",
    "    return(answer)\n",
    "end"
   ]
  },
  {
   "cell_type": "code",
   "execution_count": 200,
   "metadata": {
    "collapsed": false
   },
   "outputs": [
    {
     "data": {
      "text/plain": [
       "0.0"
      ]
     },
     "execution_count": 200,
     "metadata": {},
     "output_type": "execute_result"
    }
   ],
   "source": [
    "montyhall()"
   ]
  },
  {
   "cell_type": "markdown",
   "metadata": {},
   "source": [
    "#### Simulation\n",
    "- Let us perform a simulation study of the Monty Hall problem, computing the probability of \"stick\" being correct. \n",
    "- We are putting the function we have written already, placed in a `for` loop."
   ]
  },
  {
   "cell_type": "code",
   "execution_count": 201,
   "metadata": {
    "collapsed": true
   },
   "outputs": [],
   "source": [
    "M=100000\n",
    "count=0.0\n",
    "for i in 1:M\n",
    "    count=count+montyhall()\n",
    "end\n"
   ]
  },
  {
   "cell_type": "code",
   "execution_count": 202,
   "metadata": {
    "collapsed": false
   },
   "outputs": [
    {
     "data": {
      "text/plain": [
       "0.33278"
      ]
     },
     "execution_count": 202,
     "metadata": {},
     "output_type": "execute_result"
    }
   ],
   "source": [
    "count/M"
   ]
  },
  {
   "cell_type": "code",
   "execution_count": null,
   "metadata": {
    "collapsed": true
   },
   "outputs": [],
   "source": []
  },
  {
   "cell_type": "code",
   "execution_count": null,
   "metadata": {
    "collapsed": true
   },
   "outputs": [],
   "source": []
  }
 ],
 "metadata": {
  "kernelspec": {
   "display_name": "Julia 0.4.5",
   "language": "julia",
   "name": "julia-0.4"
  },
  "language_info": {
   "file_extension": ".jl",
   "mimetype": "application/julia",
   "name": "julia",
   "version": "0.4.5"
  }
 },
 "nbformat": 4,
 "nbformat_minor": 0
}
