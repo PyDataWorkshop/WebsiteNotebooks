{
 "cells": [
  {
   "cell_type": "markdown",
   "metadata": {},
   "source": [
    "Dice Roll Experiment\n",
    "============================"
   ]
  },
  {
   "cell_type": "markdown",
   "metadata": {},
   "source": [
    "#### Rolling Dice\n",
    "-  set up an array of all possible outcomes\n",
    "-  randomly select one number from this group"
   ]
  },
  {
   "cell_type": "code",
   "execution_count": 1,
   "metadata": {
    "collapsed": false
   },
   "outputs": [
    {
     "data": {
      "text/plain": [
       "6-element Array{Int32,1}:\n",
       " 1\n",
       " 2\n",
       " 3\n",
       " 4\n",
       " 5\n",
       " 6"
      ]
     },
     "execution_count": 1,
     "metadata": {},
     "output_type": "execute_result"
    }
   ],
   "source": [
    "A=[1,2,3,4,5,6]"
   ]
  },
  {
   "cell_type": "code",
   "execution_count": 1,
   "metadata": {
    "collapsed": false
   },
   "outputs": [
    {
     "ename": "LoadError",
     "evalue": "LoadError: UndefVarError: A not defined\nwhile loading In[1], in expression starting on line 1",
     "output_type": "error",
     "traceback": [
      "LoadError: UndefVarError: A not defined\nwhile loading In[1], in expression starting on line 1",
      ""
     ]
    }
   ],
   "source": [
    "A[4]"
   ]
  },
  {
   "cell_type": "code",
   "execution_count": 2,
   "metadata": {
    "collapsed": false
   },
   "outputs": [
    {
     "ename": "LoadError",
     "evalue": "LoadError: UndefVarError: A not defined\nwhile loading In[2], in expression starting on line 1",
     "output_type": "error",
     "traceback": [
      "LoadError: UndefVarError: A not defined\nwhile loading In[2], in expression starting on line 1",
      ""
     ]
    }
   ],
   "source": [
    "A[rand(1:end)]"
   ]
  },
  {
   "cell_type": "markdown",
   "metadata": {},
   "source": [
    "#### Simulating 10 Dice Rolls\n",
    "- using uniform distribution\n",
    "- using the ceiling function to round up to integer\n",
    "- can also convert to `Int32` type using ` round(Int32 , ...) ` , but not absolutely necessary"
   ]
  },
  {
   "cell_type": "code",
   "execution_count": 3,
   "metadata": {
    "collapsed": false
   },
   "outputs": [
    {
     "data": {
      "text/plain": [
       "10-element Array{Float64,1}:\n",
       " 6.0\n",
       " 6.0\n",
       " 6.0\n",
       " 3.0\n",
       " 4.0\n",
       " 1.0\n",
       " 6.0\n",
       " 3.0\n",
       " 6.0\n",
       " 2.0"
      ]
     },
     "execution_count": 3,
     "metadata": {},
     "output_type": "execute_result"
    }
   ],
   "source": [
    "ceil(6*rand(10))"
   ]
  },
  {
   "cell_type": "markdown",
   "metadata": {},
   "source": [
    "### Sum of 100 Dice Rolls\n",
    " - A key part of this exercise is get the sum of 100 dice rolls.\n",
    " - The expected value of this is `E(sum) = 350`.\n",
    " - That would be the theoretical average of all of the outcomes."
   ]
  },
  {
   "cell_type": "code",
   "execution_count": 8,
   "metadata": {
    "collapsed": false
   },
   "outputs": [
    {
     "data": {
      "text/plain": [
       "372.0"
      ]
     },
     "execution_count": 8,
     "metadata": {},
     "output_type": "execute_result"
    }
   ],
   "source": [
    "sum(ceil(6*rand(100)))"
   ]
  },
  {
   "cell_type": "markdown",
   "metadata": {},
   "source": [
    "- What we can do is to repeat the same experiment ( i.e. determine the sum of 100 dice rolls ) \n",
    "    again and again, and collect up the results"
   ]
  },
  {
   "cell_type": "code",
   "execution_count": 9,
   "metadata": {
    "collapsed": true
   },
   "outputs": [],
   "source": [
    "popul =[]\n",
    "for i in 1:100000\n",
    "    push!(popul,sum(ceil(6*rand(100))))\n",
    "end"
   ]
  },
  {
   "cell_type": "code",
   "execution_count": 10,
   "metadata": {
    "collapsed": false
   },
   "outputs": [
    {
     "data": {
      "text/plain": [
       "2443-element Array{Any,1}:\n",
       " 350.0\n",
       " 350.0\n",
       " 350.0\n",
       " 350.0\n",
       " 350.0\n",
       " 350.0\n",
       " 350.0\n",
       " 350.0\n",
       " 350.0\n",
       " 350.0\n",
       " 350.0\n",
       " 350.0\n",
       " 350.0\n",
       "   ⋮  \n",
       " 350.0\n",
       " 350.0\n",
       " 350.0\n",
       " 350.0\n",
       " 350.0\n",
       " 350.0\n",
       " 350.0\n",
       " 350.0\n",
       " 350.0\n",
       " 350.0\n",
       " 350.0\n",
       " 350.0"
      ]
     },
     "execution_count": 10,
     "metadata": {},
     "output_type": "execute_result"
    }
   ],
   "source": [
    "popul[popul.==350]"
   ]
  },
  {
   "cell_type": "code",
   "execution_count": null,
   "metadata": {
    "collapsed": true
   },
   "outputs": [],
   "source": []
  }
 ],
 "metadata": {
  "kernelspec": {
   "display_name": "Julia 0.4.5",
   "language": "julia",
   "name": "julia-0.4"
  },
  "language_info": {
   "file_extension": ".jl",
   "mimetype": "application/julia",
   "name": "julia",
   "version": "0.4.5"
  }
 },
 "nbformat": 4,
 "nbformat_minor": 0
}
