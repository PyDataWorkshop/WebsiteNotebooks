{
 "cells": [
  {
   "cell_type": "code",
   "execution_count": 2,
   "metadata": {
    "collapsed": false
   },
   "outputs": [
    {
     "data": {
      "text/html": [
       "\n",
       "\n",
       "    <script type=\"text/javascript\">\n",
       "      \n",
       "      (function(global) {\n",
       "        function now() {\n",
       "          return new Date();\n",
       "        }\n",
       "      \n",
       "        if (typeof (window._bokeh_onload_callbacks) === \"undefined\") {\n",
       "          window._bokeh_onload_callbacks = [];\n",
       "        }\n",
       "      \n",
       "        function run_callbacks() {\n",
       "          window._bokeh_onload_callbacks.forEach(function(callback) { callback() });\n",
       "          delete window._bokeh_onload_callbacks\n",
       "          console.info(\"Bokeh: all callbacks have finished\");\n",
       "        }\n",
       "      \n",
       "        function load_libs(js_urls, callback) {\n",
       "          window._bokeh_onload_callbacks.push(callback);\n",
       "          if (window._bokeh_is_loading > 0) {\n",
       "            console.log(\"Bokeh: BokehJS is being loaded, scheduling callback at\", now());\n",
       "            return null;\n",
       "          }\n",
       "          if (js_urls == null || js_urls.length === 0) {\n",
       "            run_callbacks();\n",
       "            return null;\n",
       "          }\n",
       "          console.log(\"Bokeh: BokehJS not loaded, scheduling load and callback at\", now());\n",
       "          window._bokeh_is_loading = js_urls.length;\n",
       "          for (var i = 0; i < js_urls.length; i++) {\n",
       "            var url = js_urls[i];\n",
       "            var s = document.createElement('script');\n",
       "            s.src = url;\n",
       "            s.async = false;\n",
       "            s.onreadystatechange = s.onload = function() {\n",
       "              window._bokeh_is_loading--;\n",
       "              if (window._bokeh_is_loading === 0) {\n",
       "                console.log(\"Bokeh: all BokehJS libraries loaded\");\n",
       "                run_callbacks()\n",
       "              }\n",
       "            };\n",
       "            s.onerror = function() {\n",
       "              console.warn(\"failed to load library \" + url);\n",
       "            };\n",
       "            console.log(\"Bokeh: injecting script tag for BokehJS library: \", url);\n",
       "            document.getElementsByTagName(\"head\")[0].appendChild(s);\n",
       "          }\n",
       "        };var js_urls = ['https://cdn.pydata.org/bokeh/release/bokeh-0.11.0.min.js', 'https://cdn.pydata.org/bokeh/release/bokeh-widgets-0.11.0.min.js', 'https://cdn.pydata.org/bokeh/release/bokeh-compiler-0.11.0.min.js'];\n",
       "      \n",
       "        var inline_js = [\n",
       "          function(Bokeh) {\n",
       "            Bokeh.set_log_level(\"info\");\n",
       "          },\n",
       "          function(Bokeh) {\n",
       "            console.log(\"Bokeh: injecting CSS: https://cdn.pydata.org/bokeh/release/bokeh-0.11.0.min.css\");\n",
       "            Bokeh.embed.inject_css(\"https://cdn.pydata.org/bokeh/release/bokeh-0.11.0.min.css\");\n",
       "            console.log(\"Bokeh: injecting CSS: https://cdn.pydata.org/bokeh/release/bokeh-widgets-0.11.0.min.css\");\n",
       "            Bokeh.embed.inject_css(\"https://cdn.pydata.org/bokeh/release/bokeh-widgets-0.11.0.min.css\");\n",
       "          }\n",
       "        ];\n",
       "      \n",
       "        function run_inline_js() {\n",
       "          for (var i = 0; i < inline_js.length; i++) {\n",
       "            inline_js[i](window.Bokeh);\n",
       "          }\n",
       "        }\n",
       "      \n",
       "        if (window._bokeh_is_loading === 0) {\n",
       "          console.log(\"Bokeh: BokehJS loaded, going straight to plotting\");\n",
       "          run_inline_js();\n",
       "        } else {\n",
       "          load_libs(js_urls, function() {\n",
       "            console.log(\"Bokeh: BokehJS plotting callback run at\", now());\n",
       "            run_inline_js();\n",
       "          });\n",
       "        }\n",
       "      }(this));\n",
       "    </script>\n",
       "    <div>\n",
       "        <a href=\"http://bokeh.pydata.org\" target=\"_blank\" class=\"bk-logo bk-logo-small bk-logo-notebook\"></a>\n",
       "        <span>BokehJS successfully loaded.</span>\n",
       "    </div>"
      ]
     },
     "metadata": {},
     "output_type": "display_data"
    }
   ],
   "source": [
    "import numpy as np\n",
    "import bokeh.plotting as plt\n",
    "plt.output_notebook()"
   ]
  },
  {
   "cell_type": "code",
   "execution_count": 3,
   "metadata": {
    "collapsed": false
   },
   "outputs": [
    {
     "data": {
      "text/plain": [
       "'0.11.0'"
      ]
     },
     "execution_count": 3,
     "metadata": {},
     "output_type": "execute_result"
    }
   ],
   "source": [
    "bokeh.__version__"
   ]
  },
  {
   "cell_type": "code",
   "execution_count": 4,
   "metadata": {
    "collapsed": false
   },
   "outputs": [],
   "source": [
    "source = plt.ColumnDataSource(\n",
    "    data=dict(\n",
    "        a = [1,2,3,4,5],\n",
    "        b = [1,4,9,16,25],\n",
    "        c = np.array([0,10,20,30,40]),\n",
    "        size = [True, False, True, False, True],\n",
    "    )\n",
    ")\n"
   ]
  },
  {
   "cell_type": "code",
   "execution_count": 5,
   "metadata": {
    "collapsed": false
   },
   "outputs": [
    {
     "data": {
      "text/plain": [
       "bokeh.models.sources.ColumnDataSource"
      ]
     },
     "execution_count": 5,
     "metadata": {},
     "output_type": "execute_result"
    }
   ],
   "source": [
    "type(source)"
   ]
  },
  {
   "cell_type": "code",
   "execution_count": 6,
   "metadata": {
    "collapsed": false
   },
   "outputs": [
    {
     "name": "stdout",
     "output_type": "stream",
     "text": [
      "[True, False, True, False, True]\n"
     ]
    }
   ],
   "source": [
    "print(source.data['size'])"
   ]
  },
  {
   "cell_type": "code",
   "execution_count": 7,
   "metadata": {
    "collapsed": false
   },
   "outputs": [
    {
     "data": {
      "text/html": [
       "\n",
       "\n",
       "    <div class=\"plotdiv\" id=\"7724fd6b-5cb1-4492-af0f-ce30389e7734\"></div>\n",
       "<script type=\"text/javascript\">\n",
       "  \n",
       "  (function(global) {\n",
       "    function now() {\n",
       "      return new Date();\n",
       "    }\n",
       "  \n",
       "    if (typeof (window._bokeh_onload_callbacks) === \"undefined\") {\n",
       "      window._bokeh_onload_callbacks = [];\n",
       "    }\n",
       "  \n",
       "    function run_callbacks() {\n",
       "      window._bokeh_onload_callbacks.forEach(function(callback) { callback() });\n",
       "      delete window._bokeh_onload_callbacks\n",
       "      console.info(\"Bokeh: all callbacks have finished\");\n",
       "    }\n",
       "  \n",
       "    function load_libs(js_urls, callback) {\n",
       "      window._bokeh_onload_callbacks.push(callback);\n",
       "      if (window._bokeh_is_loading > 0) {\n",
       "        console.log(\"Bokeh: BokehJS is being loaded, scheduling callback at\", now());\n",
       "        return null;\n",
       "      }\n",
       "      if (js_urls == null || js_urls.length === 0) {\n",
       "        run_callbacks();\n",
       "        return null;\n",
       "      }\n",
       "      console.log(\"Bokeh: BokehJS not loaded, scheduling load and callback at\", now());\n",
       "      window._bokeh_is_loading = js_urls.length;\n",
       "      for (var i = 0; i < js_urls.length; i++) {\n",
       "        var url = js_urls[i];\n",
       "        var s = document.createElement('script');\n",
       "        s.src = url;\n",
       "        s.async = false;\n",
       "        s.onreadystatechange = s.onload = function() {\n",
       "          window._bokeh_is_loading--;\n",
       "          if (window._bokeh_is_loading === 0) {\n",
       "            console.log(\"Bokeh: all BokehJS libraries loaded\");\n",
       "            run_callbacks()\n",
       "          }\n",
       "        };\n",
       "        s.onerror = function() {\n",
       "          console.warn(\"failed to load library \" + url);\n",
       "        };\n",
       "        console.log(\"Bokeh: injecting script tag for BokehJS library: \", url);\n",
       "        document.getElementsByTagName(\"head\")[0].appendChild(s);\n",
       "      }\n",
       "    };var element = document.getElementById(\"7724fd6b-5cb1-4492-af0f-ce30389e7734\");\n",
       "    if (element == null) {\n",
       "      console.log(\"Bokeh: ERROR: autoload.js configured with elementid '7724fd6b-5cb1-4492-af0f-ce30389e7734' but no matching script tag was found. \")\n",
       "      return false;\n",
       "    }var js_urls = [];\n",
       "  \n",
       "    var inline_js = [\n",
       "      function(Bokeh) {\n",
       "        Bokeh.$(function() {\n",
       "            var docs_json = {\"ee5353e3-54e6-432d-8e7e-104c8ce2baec\": {\"version\": \"0.11.0\", \"roots\": {\"root_ids\": [\"c898a21b-6587-4a64-9dbd-b12a4ec2a1ab\"], \"references\": [{\"attributes\": {\"plot\": {\"subtype\": \"Figure\", \"type\": \"Plot\", \"id\": \"c898a21b-6587-4a64-9dbd-b12a4ec2a1ab\"}}, \"type\": \"PanTool\", \"id\": \"78f56862-bb23-45ff-b6e3-f56442347fa7\"}, {\"attributes\": {\"plot\": {\"subtype\": \"Figure\", \"type\": \"Plot\", \"id\": \"c898a21b-6587-4a64-9dbd-b12a4ec2a1ab\"}}, \"type\": \"PreviewSaveTool\", \"id\": \"bf839f71-406e-4784-a577-a8b89cc78ac6\"}, {\"attributes\": {\"plot\": {\"subtype\": \"Figure\", \"type\": \"Plot\", \"id\": \"c898a21b-6587-4a64-9dbd-b12a4ec2a1ab\"}, \"overlay\": {\"type\": \"BoxAnnotation\", \"id\": \"789f5b27-08cf-4c76-8e6c-8ec4c07a066e\"}}, \"type\": \"BoxZoomTool\", \"id\": \"f750db02-b706-4e70-86d1-c6c526676303\"}, {\"attributes\": {\"plot\": {\"subtype\": \"Figure\", \"type\": \"Plot\", \"id\": \"c898a21b-6587-4a64-9dbd-b12a4ec2a1ab\"}, \"formatter\": {\"type\": \"BasicTickFormatter\", \"id\": \"530e8eb3-850e-4753-85e8-e58b02d76898\"}, \"ticker\": {\"type\": \"BasicTicker\", \"id\": \"b117e380-8ade-49eb-8d10-411575cd8524\"}}, \"type\": \"LinearAxis\", \"id\": \"b5f57307-9d81-4f55-821d-6297e08ee951\"}, {\"attributes\": {\"plot\": {\"subtype\": \"Figure\", \"type\": \"Plot\", \"id\": \"c898a21b-6587-4a64-9dbd-b12a4ec2a1ab\"}}, \"type\": \"ResizeTool\", \"id\": \"95912cbf-c7f6-49f0-afc5-f514e76fbdd6\"}, {\"attributes\": {\"callback\": null}, \"type\": \"DataRange1d\", \"id\": \"2f239294-5c8f-4007-ac6c-731c88684956\"}, {\"attributes\": {}, \"type\": \"ToolEvents\", \"id\": \"07295626-67d1-4f1f-b4a2-9a6b566ee9da\"}, {\"attributes\": {\"plot\": {\"subtype\": \"Figure\", \"type\": \"Plot\", \"id\": \"c898a21b-6587-4a64-9dbd-b12a4ec2a1ab\"}}, \"type\": \"WheelZoomTool\", \"id\": \"b11f7343-a4a2-457b-b2d3-045f2e0e1956\"}, {\"attributes\": {\"x_range\": {\"type\": \"DataRange1d\", \"id\": \"58e92f11-3e5a-43eb-a2e9-f6477c35d602\"}, \"y_range\": {\"type\": \"DataRange1d\", \"id\": \"2f239294-5c8f-4007-ac6c-731c88684956\"}, \"renderers\": [{\"type\": \"LinearAxis\", \"id\": \"b5f57307-9d81-4f55-821d-6297e08ee951\"}, {\"type\": \"Grid\", \"id\": \"cd1db38c-0d80-428f-bf21-66aded0d06af\"}, {\"type\": \"LinearAxis\", \"id\": \"4fe592fb-d630-4b17-a006-289951245e6a\"}, {\"type\": \"Grid\", \"id\": \"42909d3b-a2e1-4552-bda2-d81ae29d41cd\"}, {\"type\": \"BoxAnnotation\", \"id\": \"789f5b27-08cf-4c76-8e6c-8ec4c07a066e\"}, {\"type\": \"GlyphRenderer\", \"id\": \"59ec9f7c-d745-42de-a498-71b82174f8c5\"}], \"below\": [{\"type\": \"LinearAxis\", \"id\": \"b5f57307-9d81-4f55-821d-6297e08ee951\"}], \"tool_events\": {\"type\": \"ToolEvents\", \"id\": \"07295626-67d1-4f1f-b4a2-9a6b566ee9da\"}, \"tools\": [{\"type\": \"PanTool\", \"id\": \"78f56862-bb23-45ff-b6e3-f56442347fa7\"}, {\"type\": \"WheelZoomTool\", \"id\": \"b11f7343-a4a2-457b-b2d3-045f2e0e1956\"}, {\"type\": \"BoxZoomTool\", \"id\": \"f750db02-b706-4e70-86d1-c6c526676303\"}, {\"type\": \"PreviewSaveTool\", \"id\": \"bf839f71-406e-4784-a577-a8b89cc78ac6\"}, {\"type\": \"ResizeTool\", \"id\": \"95912cbf-c7f6-49f0-afc5-f514e76fbdd6\"}, {\"type\": \"ResetTool\", \"id\": \"353402f1-429f-4600-b549-972aee0e8cd1\"}, {\"type\": \"HelpTool\", \"id\": \"fb12aa68-3d6a-4c5a-8eb7-5d7e858d9cfa\"}], \"left\": [{\"type\": \"LinearAxis\", \"id\": \"4fe592fb-d630-4b17-a006-289951245e6a\"}]}, \"type\": \"Plot\", \"id\": \"c898a21b-6587-4a64-9dbd-b12a4ec2a1ab\", \"subtype\": \"Figure\"}, {\"attributes\": {\"plot\": {\"subtype\": \"Figure\", \"type\": \"Plot\", \"id\": \"c898a21b-6587-4a64-9dbd-b12a4ec2a1ab\"}, \"formatter\": {\"type\": \"BasicTickFormatter\", \"id\": \"f8db5130-cb5e-48c1-a9c9-93060b6a49c5\"}, \"ticker\": {\"type\": \"BasicTicker\", \"id\": \"35b1c1af-53ba-4413-8b88-0e1b239ec76b\"}}, \"type\": \"LinearAxis\", \"id\": \"4fe592fb-d630-4b17-a006-289951245e6a\"}, {\"attributes\": {\"line_color\": {\"value\": \"#1f77b4\"}, \"line_alpha\": {\"value\": 0.1}, \"fill_color\": {\"value\": \"#1f77b4\"}, \"fill_alpha\": {\"value\": 0.1}, \"y\": {\"field\": \"b\"}, \"x\": {\"field\": \"a\"}, \"size\": {\"units\": \"screen\", \"field\": \"size\"}}, \"type\": \"Circle\", \"id\": \"6306c44e-ed04-49af-b8d4-3c783cc2ea3a\"}, {\"attributes\": {}, \"type\": \"BasicTicker\", \"id\": \"b117e380-8ade-49eb-8d10-411575cd8524\"}, {\"attributes\": {\"callback\": null, \"column_names\": [\"a\", \"c\", \"b\", \"size\", \"size\"], \"data\": {\"a\": [1, 2, 3, 4, 5], \"c\": [0, 10, 20, 30, 40], \"b\": [1, 4, 9, 16, 25], \"size\": [2, 4, 6, 8, 10]}}, \"type\": \"ColumnDataSource\", \"id\": \"c2326334-c1f7-406d-864c-152bd6908be0\"}, {\"attributes\": {\"plot\": {\"subtype\": \"Figure\", \"type\": \"Plot\", \"id\": \"c898a21b-6587-4a64-9dbd-b12a4ec2a1ab\"}, \"ticker\": {\"type\": \"BasicTicker\", \"id\": \"35b1c1af-53ba-4413-8b88-0e1b239ec76b\"}, \"dimension\": 1}, \"type\": \"Grid\", \"id\": \"42909d3b-a2e1-4552-bda2-d81ae29d41cd\"}, {\"attributes\": {\"callback\": null}, \"type\": \"DataRange1d\", \"id\": \"58e92f11-3e5a-43eb-a2e9-f6477c35d602\"}, {\"attributes\": {\"plot\": {\"subtype\": \"Figure\", \"type\": \"Plot\", \"id\": \"c898a21b-6587-4a64-9dbd-b12a4ec2a1ab\"}}, \"type\": \"ResetTool\", \"id\": \"353402f1-429f-4600-b549-972aee0e8cd1\"}, {\"attributes\": {}, \"type\": \"BasicTickFormatter\", \"id\": \"530e8eb3-850e-4753-85e8-e58b02d76898\"}, {\"attributes\": {\"line_color\": {\"value\": \"#1f77b4\"}, \"x\": {\"field\": \"a\"}, \"y\": {\"field\": \"b\"}, \"fill_color\": {\"value\": \"#1f77b4\"}, \"size\": {\"units\": \"screen\", \"field\": \"size\"}}, \"type\": \"Circle\", \"id\": \"eca87956-9b59-4b1f-945e-d6baf97c6545\"}, {\"attributes\": {\"plot\": {\"subtype\": \"Figure\", \"type\": \"Plot\", \"id\": \"c898a21b-6587-4a64-9dbd-b12a4ec2a1ab\"}, \"ticker\": {\"type\": \"BasicTicker\", \"id\": \"b117e380-8ade-49eb-8d10-411575cd8524\"}}, \"type\": \"Grid\", \"id\": \"cd1db38c-0d80-428f-bf21-66aded0d06af\"}, {\"attributes\": {}, \"type\": \"BasicTickFormatter\", \"id\": \"f8db5130-cb5e-48c1-a9c9-93060b6a49c5\"}, {\"attributes\": {\"plot\": {\"subtype\": \"Figure\", \"type\": \"Plot\", \"id\": \"c898a21b-6587-4a64-9dbd-b12a4ec2a1ab\"}}, \"type\": \"HelpTool\", \"id\": \"fb12aa68-3d6a-4c5a-8eb7-5d7e858d9cfa\"}, {\"attributes\": {}, \"type\": \"BasicTicker\", \"id\": \"35b1c1af-53ba-4413-8b88-0e1b239ec76b\"}, {\"attributes\": {\"line_color\": {\"value\": \"black\"}, \"line_alpha\": {\"value\": 1.0}, \"render_mode\": \"css\", \"bottom_units\": \"screen\", \"level\": \"overlay\", \"top_units\": \"screen\", \"fill_alpha\": {\"value\": 0.5}, \"plot\": null, \"left_units\": \"screen\", \"line_dash\": [4, 4], \"line_width\": {\"value\": 2}, \"right_units\": \"screen\", \"fill_color\": {\"value\": \"lightgrey\"}}, \"type\": \"BoxAnnotation\", \"id\": \"789f5b27-08cf-4c76-8e6c-8ec4c07a066e\"}, {\"attributes\": {\"nonselection_glyph\": {\"type\": \"Circle\", \"id\": \"6306c44e-ed04-49af-b8d4-3c783cc2ea3a\"}, \"data_source\": {\"type\": \"ColumnDataSource\", \"id\": \"c2326334-c1f7-406d-864c-152bd6908be0\"}, \"selection_glyph\": null, \"hover_glyph\": null, \"glyph\": {\"type\": \"Circle\", \"id\": \"eca87956-9b59-4b1f-945e-d6baf97c6545\"}}, \"type\": \"GlyphRenderer\", \"id\": \"59ec9f7c-d745-42de-a498-71b82174f8c5\"}]}, \"title\": \"Bokeh Application\"}};\n",
       "            var render_items = [{\"notebook_comms_target\": \"641475b2-210f-43a1-9fa4-2cb8df7a9dc2\", \"docid\": \"ee5353e3-54e6-432d-8e7e-104c8ce2baec\", \"elementid\": \"7724fd6b-5cb1-4492-af0f-ce30389e7734\", \"modelid\": \"c898a21b-6587-4a64-9dbd-b12a4ec2a1ab\"}];\n",
       "            \n",
       "            Bokeh.embed.embed_items(docs_json, render_items);\n",
       "        });\n",
       "      },\n",
       "      function(Bokeh) {\n",
       "      }\n",
       "    ];\n",
       "  \n",
       "    function run_inline_js() {\n",
       "      for (var i = 0; i < inline_js.length; i++) {\n",
       "        inline_js[i](window.Bokeh);\n",
       "      }\n",
       "    }\n",
       "  \n",
       "    if (window._bokeh_is_loading === 0) {\n",
       "      console.log(\"Bokeh: BokehJS loaded, going straight to plotting\");\n",
       "      run_inline_js();\n",
       "    } else {\n",
       "      load_libs(js_urls, function() {\n",
       "        console.log(\"Bokeh: BokehJS plotting callback run at\", now());\n",
       "        run_inline_js();\n",
       "      });\n",
       "    }\n",
       "  }(this));\n",
       "</script>"
      ]
     },
     "metadata": {},
     "output_type": "display_data"
    },
    {
     "ename": "ImportError",
     "evalue": "No module named ipykernel.comm",
     "output_type": "error",
     "traceback": [
      "\u001b[1;31m---------------------------------------------------------------------------\u001b[0m",
      "\u001b[1;31mImportError\u001b[0m                               Traceback (most recent call last)",
      "\u001b[1;32m<ipython-input-7-5aff7fa9fa88>\u001b[0m in \u001b[0;36m<module>\u001b[1;34m()\u001b[0m\n\u001b[0;32m      1\u001b[0m \u001b[0mfig\u001b[0m \u001b[1;33m=\u001b[0m \u001b[0mplt\u001b[0m\u001b[1;33m.\u001b[0m\u001b[0mfigure\u001b[0m\u001b[1;33m(\u001b[0m\u001b[1;33m)\u001b[0m\u001b[1;33m\u001b[0m\u001b[0m\n\u001b[0;32m      2\u001b[0m \u001b[0mfig\u001b[0m\u001b[1;33m.\u001b[0m\u001b[0mscatter\u001b[0m\u001b[1;33m(\u001b[0m\u001b[1;34m'a'\u001b[0m\u001b[1;33m,\u001b[0m \u001b[1;34m'b'\u001b[0m\u001b[1;33m,\u001b[0m \u001b[0msource\u001b[0m\u001b[1;33m=\u001b[0m\u001b[0msource\u001b[0m\u001b[1;33m,\u001b[0m \u001b[0msize\u001b[0m\u001b[1;33m=\u001b[0m\u001b[1;33m(\u001b[0m\u001b[1;33m(\u001b[0m\u001b[0msource\u001b[0m\u001b[1;33m.\u001b[0m\u001b[0mdata\u001b[0m\u001b[1;33m[\u001b[0m\u001b[1;34m'c'\u001b[0m\u001b[1;33m]\u001b[0m\u001b[1;33m+\u001b[0m\u001b[1;36m10\u001b[0m\u001b[1;33m)\u001b[0m\u001b[1;33m/\u001b[0m\u001b[1;36m5\u001b[0m\u001b[1;33m)\u001b[0m\u001b[1;33m)\u001b[0m\u001b[1;33m\u001b[0m\u001b[0m\n\u001b[1;32m----> 3\u001b[1;33m \u001b[0mplt\u001b[0m\u001b[1;33m.\u001b[0m\u001b[0mshow\u001b[0m\u001b[1;33m(\u001b[0m\u001b[0mfig\u001b[0m\u001b[1;33m)\u001b[0m\u001b[1;33m\u001b[0m\u001b[0m\n\u001b[0m\u001b[0;32m      4\u001b[0m \u001b[1;33m\u001b[0m\u001b[0m\n",
      "\u001b[1;32mC:\\Users\\Kevin\\Anaconda\\lib\\site-packages\\bokeh\\io.py\u001b[0m in \u001b[0;36mshow\u001b[1;34m(obj, browser, new)\u001b[0m\n\u001b[0;32m    277\u001b[0m \u001b[1;33m\u001b[0m\u001b[0m\n\u001b[0;32m    278\u001b[0m     '''\n\u001b[1;32m--> 279\u001b[1;33m     \u001b[1;32mreturn\u001b[0m \u001b[0m_show_with_state\u001b[0m\u001b[1;33m(\u001b[0m\u001b[0mobj\u001b[0m\u001b[1;33m,\u001b[0m \u001b[0m_state\u001b[0m\u001b[1;33m,\u001b[0m \u001b[0mbrowser\u001b[0m\u001b[1;33m,\u001b[0m \u001b[0mnew\u001b[0m\u001b[1;33m)\u001b[0m\u001b[1;33m\u001b[0m\u001b[0m\n\u001b[0m\u001b[0;32m    280\u001b[0m \u001b[1;33m\u001b[0m\u001b[0m\n\u001b[0;32m    281\u001b[0m \u001b[1;32mdef\u001b[0m \u001b[0m_show_with_state\u001b[0m\u001b[1;33m(\u001b[0m\u001b[0mobj\u001b[0m\u001b[1;33m,\u001b[0m \u001b[0mstate\u001b[0m\u001b[1;33m,\u001b[0m \u001b[0mbrowser\u001b[0m\u001b[1;33m,\u001b[0m \u001b[0mnew\u001b[0m\u001b[1;33m)\u001b[0m\u001b[1;33m:\u001b[0m\u001b[1;33m\u001b[0m\u001b[0m\n",
      "\u001b[1;32mC:\\Users\\Kevin\\Anaconda\\lib\\site-packages\\bokeh\\io.py\u001b[0m in \u001b[0;36m_show_with_state\u001b[1;34m(obj, state, browser, new)\u001b[0m\n\u001b[0;32m    285\u001b[0m \u001b[1;33m\u001b[0m\u001b[0m\n\u001b[0;32m    286\u001b[0m     \u001b[1;32mif\u001b[0m \u001b[0mstate\u001b[0m\u001b[1;33m.\u001b[0m\u001b[0mnotebook\u001b[0m\u001b[1;33m:\u001b[0m\u001b[1;33m\u001b[0m\u001b[0m\n\u001b[1;32m--> 287\u001b[1;33m         \u001b[0mcomms_handle\u001b[0m \u001b[1;33m=\u001b[0m \u001b[0m_show_notebook_with_state\u001b[0m\u001b[1;33m(\u001b[0m\u001b[0mobj\u001b[0m\u001b[1;33m,\u001b[0m \u001b[0mstate\u001b[0m\u001b[1;33m)\u001b[0m\u001b[1;33m\u001b[0m\u001b[0m\n\u001b[0m\u001b[0;32m    288\u001b[0m \u001b[1;33m\u001b[0m\u001b[0m\n\u001b[0;32m    289\u001b[0m     \u001b[1;32melif\u001b[0m \u001b[0mstate\u001b[0m\u001b[1;33m.\u001b[0m\u001b[0mserver_enabled\u001b[0m\u001b[1;33m:\u001b[0m\u001b[1;33m\u001b[0m\u001b[0m\n",
      "\u001b[1;32mC:\\Users\\Kevin\\Anaconda\\lib\\site-packages\\bokeh\\io.py\u001b[0m in \u001b[0;36m_show_notebook_with_state\u001b[1;34m(obj, state)\u001b[0m\n\u001b[0;32m    307\u001b[0m         \u001b[0mcomms_target\u001b[0m \u001b[1;33m=\u001b[0m \u001b[0mstr\u001b[0m\u001b[1;33m(\u001b[0m\u001b[0muuid\u001b[0m\u001b[1;33m.\u001b[0m\u001b[0muuid4\u001b[0m\u001b[1;33m(\u001b[0m\u001b[1;33m)\u001b[0m\u001b[1;33m)\u001b[0m\u001b[1;33m\u001b[0m\u001b[0m\n\u001b[0;32m    308\u001b[0m         \u001b[0mpublish_display_data\u001b[0m\u001b[1;33m(\u001b[0m\u001b[1;33m{\u001b[0m\u001b[1;34m'text/html'\u001b[0m\u001b[1;33m:\u001b[0m \u001b[0mnotebook_div\u001b[0m\u001b[1;33m(\u001b[0m\u001b[0mobj\u001b[0m\u001b[1;33m,\u001b[0m \u001b[0mcomms_target\u001b[0m\u001b[1;33m)\u001b[0m\u001b[1;33m}\u001b[0m\u001b[1;33m)\u001b[0m\u001b[1;33m\u001b[0m\u001b[0m\n\u001b[1;32m--> 309\u001b[1;33m         \u001b[0mhandle\u001b[0m \u001b[1;33m=\u001b[0m \u001b[0m_CommsHandle\u001b[0m\u001b[1;33m(\u001b[0m\u001b[0mget_comms\u001b[0m\u001b[1;33m(\u001b[0m\u001b[0mcomms_target\u001b[0m\u001b[1;33m)\u001b[0m\u001b[1;33m,\u001b[0m \u001b[0mstate\u001b[0m\u001b[1;33m.\u001b[0m\u001b[0mdocument\u001b[0m\u001b[1;33m,\u001b[0m \u001b[0mstate\u001b[0m\u001b[1;33m.\u001b[0m\u001b[0mdocument\u001b[0m\u001b[1;33m.\u001b[0m\u001b[0mto_json\u001b[0m\u001b[1;33m(\u001b[0m\u001b[1;33m)\u001b[0m\u001b[1;33m)\u001b[0m\u001b[1;33m\u001b[0m\u001b[0m\n\u001b[0m\u001b[0;32m    310\u001b[0m         \u001b[0mstate\u001b[0m\u001b[1;33m.\u001b[0m\u001b[0mlast_comms_handle\u001b[0m \u001b[1;33m=\u001b[0m \u001b[0mhandle\u001b[0m\u001b[1;33m\u001b[0m\u001b[0m\n\u001b[0;32m    311\u001b[0m         \u001b[1;32mreturn\u001b[0m \u001b[0mhandle\u001b[0m\u001b[1;33m\u001b[0m\u001b[0m\n",
      "\u001b[1;32mC:\\Users\\Kevin\\Anaconda\\lib\\site-packages\\bokeh\\util\\notebook.py\u001b[0m in \u001b[0;36mget_comms\u001b[1;34m(target_name)\u001b[0m\n\u001b[0;32m    105\u001b[0m \u001b[1;33m\u001b[0m\u001b[0m\n\u001b[0;32m    106\u001b[0m     '''\n\u001b[1;32m--> 107\u001b[1;33m     \u001b[1;32mfrom\u001b[0m \u001b[0mipykernel\u001b[0m\u001b[1;33m.\u001b[0m\u001b[0mcomm\u001b[0m \u001b[1;32mimport\u001b[0m \u001b[0mComm\u001b[0m\u001b[1;33m\u001b[0m\u001b[0m\n\u001b[0m\u001b[0;32m    108\u001b[0m     \u001b[1;32mreturn\u001b[0m \u001b[0mComm\u001b[0m\u001b[1;33m(\u001b[0m\u001b[0mtarget_name\u001b[0m\u001b[1;33m=\u001b[0m\u001b[0mtarget_name\u001b[0m\u001b[1;33m,\u001b[0m \u001b[0mdata\u001b[0m\u001b[1;33m=\u001b[0m\u001b[1;33m{\u001b[0m\u001b[1;33m}\u001b[0m\u001b[1;33m)\u001b[0m\u001b[1;33m\u001b[0m\u001b[0m\n\u001b[0;32m    109\u001b[0m \u001b[1;33m\u001b[0m\u001b[0m\n",
      "\u001b[1;31mImportError\u001b[0m: No module named ipykernel.comm"
     ]
    }
   ],
   "source": [
    "fig = plt.figure()\n",
    "fig.scatter('a', 'b', source=source, size=((source.data['c']+10)/5))\n",
    "plt.show(fig)\n",
    "\n"
   ]
  },
  {
   "cell_type": "code",
   "execution_count": 8,
   "metadata": {
    "collapsed": false
   },
   "outputs": [
    {
     "data": {
      "text/html": [
       "\n",
       "\n",
       "    <div class=\"plotdiv\" id=\"0a75fccb-c584-4142-9f38-29d200200db6\"></div>\n",
       "<script type=\"text/javascript\">\n",
       "  \n",
       "  (function(global) {\n",
       "    function now() {\n",
       "      return new Date();\n",
       "    }\n",
       "  \n",
       "    if (typeof (window._bokeh_onload_callbacks) === \"undefined\") {\n",
       "      window._bokeh_onload_callbacks = [];\n",
       "    }\n",
       "  \n",
       "    function run_callbacks() {\n",
       "      window._bokeh_onload_callbacks.forEach(function(callback) { callback() });\n",
       "      delete window._bokeh_onload_callbacks\n",
       "      console.info(\"Bokeh: all callbacks have finished\");\n",
       "    }\n",
       "  \n",
       "    function load_libs(js_urls, callback) {\n",
       "      window._bokeh_onload_callbacks.push(callback);\n",
       "      if (window._bokeh_is_loading > 0) {\n",
       "        console.log(\"Bokeh: BokehJS is being loaded, scheduling callback at\", now());\n",
       "        return null;\n",
       "      }\n",
       "      if (js_urls == null || js_urls.length === 0) {\n",
       "        run_callbacks();\n",
       "        return null;\n",
       "      }\n",
       "      console.log(\"Bokeh: BokehJS not loaded, scheduling load and callback at\", now());\n",
       "      window._bokeh_is_loading = js_urls.length;\n",
       "      for (var i = 0; i < js_urls.length; i++) {\n",
       "        var url = js_urls[i];\n",
       "        var s = document.createElement('script');\n",
       "        s.src = url;\n",
       "        s.async = false;\n",
       "        s.onreadystatechange = s.onload = function() {\n",
       "          window._bokeh_is_loading--;\n",
       "          if (window._bokeh_is_loading === 0) {\n",
       "            console.log(\"Bokeh: all BokehJS libraries loaded\");\n",
       "            run_callbacks()\n",
       "          }\n",
       "        };\n",
       "        s.onerror = function() {\n",
       "          console.warn(\"failed to load library \" + url);\n",
       "        };\n",
       "        console.log(\"Bokeh: injecting script tag for BokehJS library: \", url);\n",
       "        document.getElementsByTagName(\"head\")[0].appendChild(s);\n",
       "      }\n",
       "    };var element = document.getElementById(\"0a75fccb-c584-4142-9f38-29d200200db6\");\n",
       "    if (element == null) {\n",
       "      console.log(\"Bokeh: ERROR: autoload.js configured with elementid '0a75fccb-c584-4142-9f38-29d200200db6' but no matching script tag was found. \")\n",
       "      return false;\n",
       "    }var js_urls = [];\n",
       "  \n",
       "    var inline_js = [\n",
       "      function(Bokeh) {\n",
       "        Bokeh.$(function() {\n",
       "            var docs_json = {\"daa4801a-b47c-4631-af6c-1cafb4b30cdf\": {\"version\": \"0.11.0\", \"roots\": {\"root_ids\": [\"c898a21b-6587-4a64-9dbd-b12a4ec2a1ab\", \"ff8fb0c9-2611-4497-9d9d-ee5e2212f135\"], \"references\": [{\"attributes\": {\"x_range\": {\"type\": \"DataRange1d\", \"id\": \"5dff5557-a960-432c-ba71-9d501d783ad5\"}, \"y_range\": {\"type\": \"DataRange1d\", \"id\": \"a8f6fe0c-da30-478b-9c12-f74e50dcedac\"}, \"renderers\": [{\"type\": \"LinearAxis\", \"id\": \"50b3fed4-8a18-4afa-b4c9-bc9a31cb6d3f\"}, {\"type\": \"Grid\", \"id\": \"5c821c76-5287-49a9-b290-bbb88357fef7\"}, {\"type\": \"LinearAxis\", \"id\": \"cbd2344b-365d-490d-ad75-18af42c860d1\"}, {\"type\": \"Grid\", \"id\": \"09d53b30-ea68-49e3-b6f9-c7adb6af4807\"}, {\"type\": \"BoxAnnotation\", \"id\": \"9006a939-1be2-4c98-9670-96f63c99073b\"}, {\"type\": \"GlyphRenderer\", \"id\": \"83bf0ae9-c34e-459d-8683-27adc6d71b4f\"}], \"below\": [{\"type\": \"LinearAxis\", \"id\": \"50b3fed4-8a18-4afa-b4c9-bc9a31cb6d3f\"}], \"tool_events\": {\"type\": \"ToolEvents\", \"id\": \"9b2d1498-7ac1-4025-923f-78c0b3070ccf\"}, \"tools\": [{\"type\": \"PanTool\", \"id\": \"ed7be54a-089b-4c31-bbee-2d6c612a0069\"}, {\"type\": \"WheelZoomTool\", \"id\": \"1a582fc6-42e3-4770-84f0-228298e50863\"}, {\"type\": \"BoxZoomTool\", \"id\": \"8461f5cd-9782-424b-acfe-b4a178c3f6ca\"}, {\"type\": \"PreviewSaveTool\", \"id\": \"2cf0c398-82cd-45a9-95d8-25dfd4f51245\"}, {\"type\": \"ResizeTool\", \"id\": \"33f5f94f-3dd3-482b-906e-95223d02ac01\"}, {\"type\": \"ResetTool\", \"id\": \"82056546-7bb5-4ead-94bf-80ec75b2d209\"}, {\"type\": \"HelpTool\", \"id\": \"21e087b4-3fef-4c45-a92b-5d202e177d6b\"}], \"left\": [{\"type\": \"LinearAxis\", \"id\": \"cbd2344b-365d-490d-ad75-18af42c860d1\"}]}, \"type\": \"Plot\", \"id\": \"ff8fb0c9-2611-4497-9d9d-ee5e2212f135\", \"subtype\": \"Figure\"}, {\"attributes\": {\"callback\": null}, \"type\": \"DataRange1d\", \"id\": \"2f239294-5c8f-4007-ac6c-731c88684956\"}, {\"attributes\": {\"plot\": {\"subtype\": \"Figure\", \"type\": \"Plot\", \"id\": \"c898a21b-6587-4a64-9dbd-b12a4ec2a1ab\"}}, \"type\": \"PanTool\", \"id\": \"78f56862-bb23-45ff-b6e3-f56442347fa7\"}, {\"attributes\": {\"plot\": {\"subtype\": \"Figure\", \"type\": \"Plot\", \"id\": \"c898a21b-6587-4a64-9dbd-b12a4ec2a1ab\"}}, \"type\": \"PreviewSaveTool\", \"id\": \"bf839f71-406e-4784-a577-a8b89cc78ac6\"}, {\"attributes\": {}, \"type\": \"ToolEvents\", \"id\": \"07295626-67d1-4f1f-b4a2-9a6b566ee9da\"}, {\"attributes\": {\"plot\": {\"subtype\": \"Figure\", \"type\": \"Plot\", \"id\": \"ff8fb0c9-2611-4497-9d9d-ee5e2212f135\"}}, \"type\": \"WheelZoomTool\", \"id\": \"1a582fc6-42e3-4770-84f0-228298e50863\"}, {\"attributes\": {\"plot\": {\"subtype\": \"Figure\", \"type\": \"Plot\", \"id\": \"c898a21b-6587-4a64-9dbd-b12a4ec2a1ab\"}, \"overlay\": {\"type\": \"BoxAnnotation\", \"id\": \"789f5b27-08cf-4c76-8e6c-8ec4c07a066e\"}}, \"type\": \"BoxZoomTool\", \"id\": \"f750db02-b706-4e70-86d1-c6c526676303\"}, {\"attributes\": {\"plot\": {\"subtype\": \"Figure\", \"type\": \"Plot\", \"id\": \"c898a21b-6587-4a64-9dbd-b12a4ec2a1ab\"}, \"formatter\": {\"type\": \"BasicTickFormatter\", \"id\": \"530e8eb3-850e-4753-85e8-e58b02d76898\"}, \"ticker\": {\"type\": \"BasicTicker\", \"id\": \"b117e380-8ade-49eb-8d10-411575cd8524\"}}, \"type\": \"LinearAxis\", \"id\": \"b5f57307-9d81-4f55-821d-6297e08ee951\"}, {\"attributes\": {\"plot\": {\"subtype\": \"Figure\", \"type\": \"Plot\", \"id\": \"c898a21b-6587-4a64-9dbd-b12a4ec2a1ab\"}}, \"type\": \"ResizeTool\", \"id\": \"95912cbf-c7f6-49f0-afc5-f514e76fbdd6\"}, {\"attributes\": {}, \"type\": \"ToolEvents\", \"id\": \"9b2d1498-7ac1-4025-923f-78c0b3070ccf\"}, {\"attributes\": {\"line_color\": {\"value\": \"black\"}, \"line_alpha\": {\"value\": 1.0}, \"render_mode\": \"css\", \"bottom_units\": \"screen\", \"level\": \"overlay\", \"top_units\": \"screen\", \"fill_alpha\": {\"value\": 0.5}, \"plot\": null, \"left_units\": \"screen\", \"line_dash\": [4, 4], \"line_width\": {\"value\": 2}, \"right_units\": \"screen\", \"fill_color\": {\"value\": \"lightgrey\"}}, \"type\": \"BoxAnnotation\", \"id\": \"789f5b27-08cf-4c76-8e6c-8ec4c07a066e\"}, {\"attributes\": {\"plot\": {\"subtype\": \"Figure\", \"type\": \"Plot\", \"id\": \"ff8fb0c9-2611-4497-9d9d-ee5e2212f135\"}}, \"type\": \"HelpTool\", \"id\": \"21e087b4-3fef-4c45-a92b-5d202e177d6b\"}, {\"attributes\": {}, \"type\": \"BasicTicker\", \"id\": \"1f777017-9d3e-49f6-a959-370046ae0336\"}, {\"attributes\": {\"nonselection_glyph\": {\"type\": \"Circle\", \"id\": \"4143871c-d80e-4b03-9595-862e968fbd63\"}, \"data_source\": {\"type\": \"ColumnDataSource\", \"id\": \"c2326334-c1f7-406d-864c-152bd6908be0\"}, \"selection_glyph\": null, \"hover_glyph\": null, \"glyph\": {\"type\": \"Circle\", \"id\": \"0f2e567b-8cba-4149-b51a-5584c1721c23\"}}, \"type\": \"GlyphRenderer\", \"id\": \"83bf0ae9-c34e-459d-8683-27adc6d71b4f\"}, {\"attributes\": {\"plot\": {\"subtype\": \"Figure\", \"type\": \"Plot\", \"id\": \"c898a21b-6587-4a64-9dbd-b12a4ec2a1ab\"}}, \"type\": \"WheelZoomTool\", \"id\": \"b11f7343-a4a2-457b-b2d3-045f2e0e1956\"}, {\"attributes\": {\"x_range\": {\"type\": \"DataRange1d\", \"id\": \"58e92f11-3e5a-43eb-a2e9-f6477c35d602\"}, \"y_range\": {\"type\": \"DataRange1d\", \"id\": \"2f239294-5c8f-4007-ac6c-731c88684956\"}, \"renderers\": [{\"type\": \"LinearAxis\", \"id\": \"b5f57307-9d81-4f55-821d-6297e08ee951\"}, {\"type\": \"Grid\", \"id\": \"cd1db38c-0d80-428f-bf21-66aded0d06af\"}, {\"type\": \"LinearAxis\", \"id\": \"4fe592fb-d630-4b17-a006-289951245e6a\"}, {\"type\": \"Grid\", \"id\": \"42909d3b-a2e1-4552-bda2-d81ae29d41cd\"}, {\"type\": \"BoxAnnotation\", \"id\": \"789f5b27-08cf-4c76-8e6c-8ec4c07a066e\"}, {\"type\": \"GlyphRenderer\", \"id\": \"59ec9f7c-d745-42de-a498-71b82174f8c5\"}], \"below\": [{\"type\": \"LinearAxis\", \"id\": \"b5f57307-9d81-4f55-821d-6297e08ee951\"}], \"tool_events\": {\"type\": \"ToolEvents\", \"id\": \"07295626-67d1-4f1f-b4a2-9a6b566ee9da\"}, \"tools\": [{\"type\": \"PanTool\", \"id\": \"78f56862-bb23-45ff-b6e3-f56442347fa7\"}, {\"type\": \"WheelZoomTool\", \"id\": \"b11f7343-a4a2-457b-b2d3-045f2e0e1956\"}, {\"type\": \"BoxZoomTool\", \"id\": \"f750db02-b706-4e70-86d1-c6c526676303\"}, {\"type\": \"PreviewSaveTool\", \"id\": \"bf839f71-406e-4784-a577-a8b89cc78ac6\"}, {\"type\": \"ResizeTool\", \"id\": \"95912cbf-c7f6-49f0-afc5-f514e76fbdd6\"}, {\"type\": \"ResetTool\", \"id\": \"353402f1-429f-4600-b549-972aee0e8cd1\"}, {\"type\": \"HelpTool\", \"id\": \"fb12aa68-3d6a-4c5a-8eb7-5d7e858d9cfa\"}], \"left\": [{\"type\": \"LinearAxis\", \"id\": \"4fe592fb-d630-4b17-a006-289951245e6a\"}]}, \"type\": \"Plot\", \"id\": \"c898a21b-6587-4a64-9dbd-b12a4ec2a1ab\", \"subtype\": \"Figure\"}, {\"attributes\": {\"plot\": {\"subtype\": \"Figure\", \"type\": \"Plot\", \"id\": \"c898a21b-6587-4a64-9dbd-b12a4ec2a1ab\"}, \"formatter\": {\"type\": \"BasicTickFormatter\", \"id\": \"f8db5130-cb5e-48c1-a9c9-93060b6a49c5\"}, \"ticker\": {\"type\": \"BasicTicker\", \"id\": \"35b1c1af-53ba-4413-8b88-0e1b239ec76b\"}}, \"type\": \"LinearAxis\", \"id\": \"4fe592fb-d630-4b17-a006-289951245e6a\"}, {\"attributes\": {\"plot\": {\"subtype\": \"Figure\", \"type\": \"Plot\", \"id\": \"ff8fb0c9-2611-4497-9d9d-ee5e2212f135\"}}, \"type\": \"ResetTool\", \"id\": \"82056546-7bb5-4ead-94bf-80ec75b2d209\"}, {\"attributes\": {\"line_color\": {\"value\": \"#1f77b4\"}, \"line_alpha\": {\"value\": 0.1}, \"fill_color\": {\"value\": \"#1f77b4\"}, \"fill_alpha\": {\"value\": 0.1}, \"y\": {\"field\": \"b\"}, \"x\": {\"field\": \"a\"}, \"size\": {\"units\": \"screen\", \"field\": \"size\"}}, \"type\": \"Circle\", \"id\": \"6306c44e-ed04-49af-b8d4-3c783cc2ea3a\"}, {\"attributes\": {}, \"type\": \"BasicTicker\", \"id\": \"b117e380-8ade-49eb-8d10-411575cd8524\"}, {\"attributes\": {\"callback\": null, \"column_names\": [\"a\", \"c\", \"b\", \"size\", \"size\"], \"data\": {\"a\": [1, 2, 3, 4, 5], \"c\": [0, 10, 20, 30, 40], \"b\": [1, 4, 9, 16, 25], \"size\": [2, 4, 6, 8, 10]}}, \"type\": \"ColumnDataSource\", \"id\": \"c2326334-c1f7-406d-864c-152bd6908be0\"}, {\"attributes\": {\"plot\": {\"subtype\": \"Figure\", \"type\": \"Plot\", \"id\": \"ff8fb0c9-2611-4497-9d9d-ee5e2212f135\"}, \"ticker\": {\"type\": \"BasicTicker\", \"id\": \"1f777017-9d3e-49f6-a959-370046ae0336\"}, \"dimension\": 1}, \"type\": \"Grid\", \"id\": \"09d53b30-ea68-49e3-b6f9-c7adb6af4807\"}, {\"attributes\": {\"line_color\": {\"value\": \"black\"}, \"line_alpha\": {\"value\": 1.0}, \"render_mode\": \"css\", \"bottom_units\": \"screen\", \"level\": \"overlay\", \"top_units\": \"screen\", \"fill_alpha\": {\"value\": 0.5}, \"plot\": null, \"left_units\": \"screen\", \"line_dash\": [4, 4], \"line_width\": {\"value\": 2}, \"right_units\": \"screen\", \"fill_color\": {\"value\": \"lightgrey\"}}, \"type\": \"BoxAnnotation\", \"id\": \"9006a939-1be2-4c98-9670-96f63c99073b\"}, {\"attributes\": {\"line_color\": {\"value\": \"#1f77b4\"}, \"x\": {\"field\": \"a\"}, \"y\": {\"field\": \"b\"}, \"fill_color\": {\"value\": \"#1f77b4\"}, \"size\": {\"units\": \"screen\", \"value\": 30}}, \"type\": \"Circle\", \"id\": \"0f2e567b-8cba-4149-b51a-5584c1721c23\"}, {\"attributes\": {\"plot\": {\"subtype\": \"Figure\", \"type\": \"Plot\", \"id\": \"ff8fb0c9-2611-4497-9d9d-ee5e2212f135\"}, \"formatter\": {\"type\": \"BasicTickFormatter\", \"id\": \"58001de6-9bb6-41dc-ba07-f77890f39b7f\"}, \"ticker\": {\"type\": \"BasicTicker\", \"id\": \"67d3fc4f-5158-4fd3-b83d-af624a32399a\"}}, \"type\": \"LinearAxis\", \"id\": \"50b3fed4-8a18-4afa-b4c9-bc9a31cb6d3f\"}, {\"attributes\": {\"plot\": {\"subtype\": \"Figure\", \"type\": \"Plot\", \"id\": \"c898a21b-6587-4a64-9dbd-b12a4ec2a1ab\"}, \"ticker\": {\"type\": \"BasicTicker\", \"id\": \"35b1c1af-53ba-4413-8b88-0e1b239ec76b\"}, \"dimension\": 1}, \"type\": \"Grid\", \"id\": \"42909d3b-a2e1-4552-bda2-d81ae29d41cd\"}, {\"attributes\": {}, \"type\": \"BasicTicker\", \"id\": \"67d3fc4f-5158-4fd3-b83d-af624a32399a\"}, {\"attributes\": {\"line_color\": {\"value\": \"#1f77b4\"}, \"line_alpha\": {\"value\": 0.1}, \"fill_color\": {\"value\": \"#1f77b4\"}, \"fill_alpha\": {\"value\": 0.1}, \"y\": {\"field\": \"b\"}, \"x\": {\"field\": \"a\"}, \"size\": {\"units\": \"screen\", \"value\": 30}}, \"type\": \"Circle\", \"id\": \"4143871c-d80e-4b03-9595-862e968fbd63\"}, {\"attributes\": {\"plot\": {\"subtype\": \"Figure\", \"type\": \"Plot\", \"id\": \"ff8fb0c9-2611-4497-9d9d-ee5e2212f135\"}, \"ticker\": {\"type\": \"BasicTicker\", \"id\": \"67d3fc4f-5158-4fd3-b83d-af624a32399a\"}}, \"type\": \"Grid\", \"id\": \"5c821c76-5287-49a9-b290-bbb88357fef7\"}, {\"attributes\": {\"callback\": null}, \"type\": \"DataRange1d\", \"id\": \"5dff5557-a960-432c-ba71-9d501d783ad5\"}, {\"attributes\": {\"plot\": {\"subtype\": \"Figure\", \"type\": \"Plot\", \"id\": \"ff8fb0c9-2611-4497-9d9d-ee5e2212f135\"}, \"formatter\": {\"type\": \"BasicTickFormatter\", \"id\": \"f55db83c-db0f-478f-8c65-8eab80d16c36\"}, \"ticker\": {\"type\": \"BasicTicker\", \"id\": \"1f777017-9d3e-49f6-a959-370046ae0336\"}}, \"type\": \"LinearAxis\", \"id\": \"cbd2344b-365d-490d-ad75-18af42c860d1\"}, {\"attributes\": {\"callback\": null}, \"type\": \"DataRange1d\", \"id\": \"58e92f11-3e5a-43eb-a2e9-f6477c35d602\"}, {\"attributes\": {\"plot\": {\"subtype\": \"Figure\", \"type\": \"Plot\", \"id\": \"ff8fb0c9-2611-4497-9d9d-ee5e2212f135\"}}, \"type\": \"PanTool\", \"id\": \"ed7be54a-089b-4c31-bbee-2d6c612a0069\"}, {\"attributes\": {\"plot\": {\"subtype\": \"Figure\", \"type\": \"Plot\", \"id\": \"c898a21b-6587-4a64-9dbd-b12a4ec2a1ab\"}}, \"type\": \"ResetTool\", \"id\": \"353402f1-429f-4600-b549-972aee0e8cd1\"}, {\"attributes\": {}, \"type\": \"BasicTickFormatter\", \"id\": \"530e8eb3-850e-4753-85e8-e58b02d76898\"}, {\"attributes\": {\"plot\": {\"subtype\": \"Figure\", \"type\": \"Plot\", \"id\": \"ff8fb0c9-2611-4497-9d9d-ee5e2212f135\"}, \"overlay\": {\"type\": \"BoxAnnotation\", \"id\": \"9006a939-1be2-4c98-9670-96f63c99073b\"}}, \"type\": \"BoxZoomTool\", \"id\": \"8461f5cd-9782-424b-acfe-b4a178c3f6ca\"}, {\"attributes\": {\"line_color\": {\"value\": \"#1f77b4\"}, \"x\": {\"field\": \"a\"}, \"y\": {\"field\": \"b\"}, \"fill_color\": {\"value\": \"#1f77b4\"}, \"size\": {\"units\": \"screen\", \"field\": \"size\"}}, \"type\": \"Circle\", \"id\": \"eca87956-9b59-4b1f-945e-d6baf97c6545\"}, {\"attributes\": {}, \"type\": \"BasicTickFormatter\", \"id\": \"58001de6-9bb6-41dc-ba07-f77890f39b7f\"}, {\"attributes\": {\"plot\": {\"subtype\": \"Figure\", \"type\": \"Plot\", \"id\": \"c898a21b-6587-4a64-9dbd-b12a4ec2a1ab\"}, \"ticker\": {\"type\": \"BasicTicker\", \"id\": \"b117e380-8ade-49eb-8d10-411575cd8524\"}}, \"type\": \"Grid\", \"id\": \"cd1db38c-0d80-428f-bf21-66aded0d06af\"}, {\"attributes\": {}, \"type\": \"BasicTickFormatter\", \"id\": \"f8db5130-cb5e-48c1-a9c9-93060b6a49c5\"}, {\"attributes\": {\"plot\": {\"subtype\": \"Figure\", \"type\": \"Plot\", \"id\": \"c898a21b-6587-4a64-9dbd-b12a4ec2a1ab\"}}, \"type\": \"HelpTool\", \"id\": \"fb12aa68-3d6a-4c5a-8eb7-5d7e858d9cfa\"}, {\"attributes\": {}, \"type\": \"BasicTicker\", \"id\": \"35b1c1af-53ba-4413-8b88-0e1b239ec76b\"}, {\"attributes\": {\"plot\": {\"subtype\": \"Figure\", \"type\": \"Plot\", \"id\": \"ff8fb0c9-2611-4497-9d9d-ee5e2212f135\"}}, \"type\": \"PreviewSaveTool\", \"id\": \"2cf0c398-82cd-45a9-95d8-25dfd4f51245\"}, {\"attributes\": {\"nonselection_glyph\": {\"type\": \"Circle\", \"id\": \"6306c44e-ed04-49af-b8d4-3c783cc2ea3a\"}, \"data_source\": {\"type\": \"ColumnDataSource\", \"id\": \"c2326334-c1f7-406d-864c-152bd6908be0\"}, \"selection_glyph\": null, \"hover_glyph\": null, \"glyph\": {\"type\": \"Circle\", \"id\": \"eca87956-9b59-4b1f-945e-d6baf97c6545\"}}, \"type\": \"GlyphRenderer\", \"id\": \"59ec9f7c-d745-42de-a498-71b82174f8c5\"}, {\"attributes\": {\"callback\": null}, \"type\": \"DataRange1d\", \"id\": \"a8f6fe0c-da30-478b-9c12-f74e50dcedac\"}, {\"attributes\": {}, \"type\": \"BasicTickFormatter\", \"id\": \"f55db83c-db0f-478f-8c65-8eab80d16c36\"}, {\"attributes\": {\"plot\": {\"subtype\": \"Figure\", \"type\": \"Plot\", \"id\": \"ff8fb0c9-2611-4497-9d9d-ee5e2212f135\"}}, \"type\": \"ResizeTool\", \"id\": \"33f5f94f-3dd3-482b-906e-95223d02ac01\"}]}, \"title\": \"Bokeh Application\"}};\n",
       "            var render_items = [{\"notebook_comms_target\": \"c233203d-a712-4922-b128-51695271a91e\", \"docid\": \"daa4801a-b47c-4631-af6c-1cafb4b30cdf\", \"elementid\": \"0a75fccb-c584-4142-9f38-29d200200db6\", \"modelid\": \"ff8fb0c9-2611-4497-9d9d-ee5e2212f135\"}];\n",
       "            \n",
       "            Bokeh.embed.embed_items(docs_json, render_items);\n",
       "        });\n",
       "      },\n",
       "      function(Bokeh) {\n",
       "      }\n",
       "    ];\n",
       "  \n",
       "    function run_inline_js() {\n",
       "      for (var i = 0; i < inline_js.length; i++) {\n",
       "        inline_js[i](window.Bokeh);\n",
       "      }\n",
       "    }\n",
       "  \n",
       "    if (window._bokeh_is_loading === 0) {\n",
       "      console.log(\"Bokeh: BokehJS loaded, going straight to plotting\");\n",
       "      run_inline_js();\n",
       "    } else {\n",
       "      load_libs(js_urls, function() {\n",
       "        console.log(\"Bokeh: BokehJS plotting callback run at\", now());\n",
       "        run_inline_js();\n",
       "      });\n",
       "    }\n",
       "  }(this));\n",
       "</script>"
      ]
     },
     "metadata": {},
     "output_type": "display_data"
    },
    {
     "ename": "ImportError",
     "evalue": "No module named ipykernel.comm",
     "output_type": "error",
     "traceback": [
      "\u001b[1;31m---------------------------------------------------------------------------\u001b[0m",
      "\u001b[1;31mImportError\u001b[0m                               Traceback (most recent call last)",
      "\u001b[1;32m<ipython-input-8-d8366d236b0e>\u001b[0m in \u001b[0;36m<module>\u001b[1;34m()\u001b[0m\n\u001b[0;32m      2\u001b[0m \u001b[0mfig\u001b[0m \u001b[1;33m=\u001b[0m \u001b[0mplt\u001b[0m\u001b[1;33m.\u001b[0m\u001b[0mfigure\u001b[0m\u001b[1;33m(\u001b[0m\u001b[1;33m)\u001b[0m\u001b[1;33m\u001b[0m\u001b[0m\n\u001b[0;32m      3\u001b[0m \u001b[0mfig\u001b[0m\u001b[1;33m.\u001b[0m\u001b[0mscatter\u001b[0m\u001b[1;33m(\u001b[0m\u001b[1;34m'a'\u001b[0m\u001b[1;33m,\u001b[0m \u001b[1;34m'b'\u001b[0m\u001b[1;33m,\u001b[0m \u001b[0msource\u001b[0m\u001b[1;33m=\u001b[0m\u001b[0msource\u001b[0m\u001b[1;33m,\u001b[0m \u001b[0msize\u001b[0m\u001b[1;33m=\u001b[0m\u001b[1;33m(\u001b[0m\u001b[1;36m30\u001b[0m\u001b[1;33m)\u001b[0m\u001b[1;33m)\u001b[0m\u001b[1;33m\u001b[0m\u001b[0m\n\u001b[1;32m----> 4\u001b[1;33m \u001b[0mplt\u001b[0m\u001b[1;33m.\u001b[0m\u001b[0mshow\u001b[0m\u001b[1;33m(\u001b[0m\u001b[0mfig\u001b[0m\u001b[1;33m)\u001b[0m\u001b[1;33m\u001b[0m\u001b[0m\n\u001b[0m",
      "\u001b[1;32mC:\\Users\\Kevin\\Anaconda\\lib\\site-packages\\bokeh\\io.py\u001b[0m in \u001b[0;36mshow\u001b[1;34m(obj, browser, new)\u001b[0m\n\u001b[0;32m    277\u001b[0m \u001b[1;33m\u001b[0m\u001b[0m\n\u001b[0;32m    278\u001b[0m     '''\n\u001b[1;32m--> 279\u001b[1;33m     \u001b[1;32mreturn\u001b[0m \u001b[0m_show_with_state\u001b[0m\u001b[1;33m(\u001b[0m\u001b[0mobj\u001b[0m\u001b[1;33m,\u001b[0m \u001b[0m_state\u001b[0m\u001b[1;33m,\u001b[0m \u001b[0mbrowser\u001b[0m\u001b[1;33m,\u001b[0m \u001b[0mnew\u001b[0m\u001b[1;33m)\u001b[0m\u001b[1;33m\u001b[0m\u001b[0m\n\u001b[0m\u001b[0;32m    280\u001b[0m \u001b[1;33m\u001b[0m\u001b[0m\n\u001b[0;32m    281\u001b[0m \u001b[1;32mdef\u001b[0m \u001b[0m_show_with_state\u001b[0m\u001b[1;33m(\u001b[0m\u001b[0mobj\u001b[0m\u001b[1;33m,\u001b[0m \u001b[0mstate\u001b[0m\u001b[1;33m,\u001b[0m \u001b[0mbrowser\u001b[0m\u001b[1;33m,\u001b[0m \u001b[0mnew\u001b[0m\u001b[1;33m)\u001b[0m\u001b[1;33m:\u001b[0m\u001b[1;33m\u001b[0m\u001b[0m\n",
      "\u001b[1;32mC:\\Users\\Kevin\\Anaconda\\lib\\site-packages\\bokeh\\io.py\u001b[0m in \u001b[0;36m_show_with_state\u001b[1;34m(obj, state, browser, new)\u001b[0m\n\u001b[0;32m    285\u001b[0m \u001b[1;33m\u001b[0m\u001b[0m\n\u001b[0;32m    286\u001b[0m     \u001b[1;32mif\u001b[0m \u001b[0mstate\u001b[0m\u001b[1;33m.\u001b[0m\u001b[0mnotebook\u001b[0m\u001b[1;33m:\u001b[0m\u001b[1;33m\u001b[0m\u001b[0m\n\u001b[1;32m--> 287\u001b[1;33m         \u001b[0mcomms_handle\u001b[0m \u001b[1;33m=\u001b[0m \u001b[0m_show_notebook_with_state\u001b[0m\u001b[1;33m(\u001b[0m\u001b[0mobj\u001b[0m\u001b[1;33m,\u001b[0m \u001b[0mstate\u001b[0m\u001b[1;33m)\u001b[0m\u001b[1;33m\u001b[0m\u001b[0m\n\u001b[0m\u001b[0;32m    288\u001b[0m \u001b[1;33m\u001b[0m\u001b[0m\n\u001b[0;32m    289\u001b[0m     \u001b[1;32melif\u001b[0m \u001b[0mstate\u001b[0m\u001b[1;33m.\u001b[0m\u001b[0mserver_enabled\u001b[0m\u001b[1;33m:\u001b[0m\u001b[1;33m\u001b[0m\u001b[0m\n",
      "\u001b[1;32mC:\\Users\\Kevin\\Anaconda\\lib\\site-packages\\bokeh\\io.py\u001b[0m in \u001b[0;36m_show_notebook_with_state\u001b[1;34m(obj, state)\u001b[0m\n\u001b[0;32m    307\u001b[0m         \u001b[0mcomms_target\u001b[0m \u001b[1;33m=\u001b[0m \u001b[0mstr\u001b[0m\u001b[1;33m(\u001b[0m\u001b[0muuid\u001b[0m\u001b[1;33m.\u001b[0m\u001b[0muuid4\u001b[0m\u001b[1;33m(\u001b[0m\u001b[1;33m)\u001b[0m\u001b[1;33m)\u001b[0m\u001b[1;33m\u001b[0m\u001b[0m\n\u001b[0;32m    308\u001b[0m         \u001b[0mpublish_display_data\u001b[0m\u001b[1;33m(\u001b[0m\u001b[1;33m{\u001b[0m\u001b[1;34m'text/html'\u001b[0m\u001b[1;33m:\u001b[0m \u001b[0mnotebook_div\u001b[0m\u001b[1;33m(\u001b[0m\u001b[0mobj\u001b[0m\u001b[1;33m,\u001b[0m \u001b[0mcomms_target\u001b[0m\u001b[1;33m)\u001b[0m\u001b[1;33m}\u001b[0m\u001b[1;33m)\u001b[0m\u001b[1;33m\u001b[0m\u001b[0m\n\u001b[1;32m--> 309\u001b[1;33m         \u001b[0mhandle\u001b[0m \u001b[1;33m=\u001b[0m \u001b[0m_CommsHandle\u001b[0m\u001b[1;33m(\u001b[0m\u001b[0mget_comms\u001b[0m\u001b[1;33m(\u001b[0m\u001b[0mcomms_target\u001b[0m\u001b[1;33m)\u001b[0m\u001b[1;33m,\u001b[0m \u001b[0mstate\u001b[0m\u001b[1;33m.\u001b[0m\u001b[0mdocument\u001b[0m\u001b[1;33m,\u001b[0m \u001b[0mstate\u001b[0m\u001b[1;33m.\u001b[0m\u001b[0mdocument\u001b[0m\u001b[1;33m.\u001b[0m\u001b[0mto_json\u001b[0m\u001b[1;33m(\u001b[0m\u001b[1;33m)\u001b[0m\u001b[1;33m)\u001b[0m\u001b[1;33m\u001b[0m\u001b[0m\n\u001b[0m\u001b[0;32m    310\u001b[0m         \u001b[0mstate\u001b[0m\u001b[1;33m.\u001b[0m\u001b[0mlast_comms_handle\u001b[0m \u001b[1;33m=\u001b[0m \u001b[0mhandle\u001b[0m\u001b[1;33m\u001b[0m\u001b[0m\n\u001b[0;32m    311\u001b[0m         \u001b[1;32mreturn\u001b[0m \u001b[0mhandle\u001b[0m\u001b[1;33m\u001b[0m\u001b[0m\n",
      "\u001b[1;32mC:\\Users\\Kevin\\Anaconda\\lib\\site-packages\\bokeh\\util\\notebook.py\u001b[0m in \u001b[0;36mget_comms\u001b[1;34m(target_name)\u001b[0m\n\u001b[0;32m    105\u001b[0m \u001b[1;33m\u001b[0m\u001b[0m\n\u001b[0;32m    106\u001b[0m     '''\n\u001b[1;32m--> 107\u001b[1;33m     \u001b[1;32mfrom\u001b[0m \u001b[0mipykernel\u001b[0m\u001b[1;33m.\u001b[0m\u001b[0mcomm\u001b[0m \u001b[1;32mimport\u001b[0m \u001b[0mComm\u001b[0m\u001b[1;33m\u001b[0m\u001b[0m\n\u001b[0m\u001b[0;32m    108\u001b[0m     \u001b[1;32mreturn\u001b[0m \u001b[0mComm\u001b[0m\u001b[1;33m(\u001b[0m\u001b[0mtarget_name\u001b[0m\u001b[1;33m=\u001b[0m\u001b[0mtarget_name\u001b[0m\u001b[1;33m,\u001b[0m \u001b[0mdata\u001b[0m\u001b[1;33m=\u001b[0m\u001b[1;33m{\u001b[0m\u001b[1;33m}\u001b[0m\u001b[1;33m)\u001b[0m\u001b[1;33m\u001b[0m\u001b[0m\n\u001b[0;32m    109\u001b[0m \u001b[1;33m\u001b[0m\u001b[0m\n",
      "\u001b[1;31mImportError\u001b[0m: No module named ipykernel.comm"
     ]
    }
   ],
   "source": [
    "\n",
    "fig = plt.figure()\n",
    "fig.scatter('a', 'b', source=source, size=(30))\n",
    "plt.show(fig)\n"
   ]
  },
  {
   "cell_type": "code",
   "execution_count": 9,
   "metadata": {
    "collapsed": true
   },
   "outputs": [],
   "source": [
    "#Import library\n",
    "from bokeh.charts import Bar, output_notebook, show\n",
    "#use output_file to visualize it in html file\n",
    "#use output_notebook to visualize it in notebook\n",
    "# create a simple data set\n",
    "myData = {\"y\": [1, 2, 3, 4, 5]}\n",
    "# Output to Line.HTML\n",
    "\n"
   ]
  },
  {
   "cell_type": "code",
   "execution_count": 10,
   "metadata": {
    "collapsed": false
   },
   "outputs": [
    {
     "data": {
      "text/html": [
       "\n",
       "\n",
       "    <script type=\"text/javascript\">\n",
       "      \n",
       "      (function(global) {\n",
       "        function now() {\n",
       "          return new Date();\n",
       "        }\n",
       "      \n",
       "        if (typeof (window._bokeh_onload_callbacks) === \"undefined\") {\n",
       "          window._bokeh_onload_callbacks = [];\n",
       "        }\n",
       "      \n",
       "        function run_callbacks() {\n",
       "          window._bokeh_onload_callbacks.forEach(function(callback) { callback() });\n",
       "          delete window._bokeh_onload_callbacks\n",
       "          console.info(\"Bokeh: all callbacks have finished\");\n",
       "        }\n",
       "      \n",
       "        function load_libs(js_urls, callback) {\n",
       "          window._bokeh_onload_callbacks.push(callback);\n",
       "          if (window._bokeh_is_loading > 0) {\n",
       "            console.log(\"Bokeh: BokehJS is being loaded, scheduling callback at\", now());\n",
       "            return null;\n",
       "          }\n",
       "          if (js_urls == null || js_urls.length === 0) {\n",
       "            run_callbacks();\n",
       "            return null;\n",
       "          }\n",
       "          console.log(\"Bokeh: BokehJS not loaded, scheduling load and callback at\", now());\n",
       "          window._bokeh_is_loading = js_urls.length;\n",
       "          for (var i = 0; i < js_urls.length; i++) {\n",
       "            var url = js_urls[i];\n",
       "            var s = document.createElement('script');\n",
       "            s.src = url;\n",
       "            s.async = false;\n",
       "            s.onreadystatechange = s.onload = function() {\n",
       "              window._bokeh_is_loading--;\n",
       "              if (window._bokeh_is_loading === 0) {\n",
       "                console.log(\"Bokeh: all BokehJS libraries loaded\");\n",
       "                run_callbacks()\n",
       "              }\n",
       "            };\n",
       "            s.onerror = function() {\n",
       "              console.warn(\"failed to load library \" + url);\n",
       "            };\n",
       "            console.log(\"Bokeh: injecting script tag for BokehJS library: \", url);\n",
       "            document.getElementsByTagName(\"head\")[0].appendChild(s);\n",
       "          }\n",
       "        };var js_urls = ['https://cdn.pydata.org/bokeh/release/bokeh-0.11.0.min.js', 'https://cdn.pydata.org/bokeh/release/bokeh-widgets-0.11.0.min.js', 'https://cdn.pydata.org/bokeh/release/bokeh-compiler-0.11.0.min.js'];\n",
       "      \n",
       "        var inline_js = [\n",
       "          function(Bokeh) {\n",
       "            Bokeh.set_log_level(\"info\");\n",
       "          },\n",
       "          function(Bokeh) {\n",
       "            console.log(\"Bokeh: injecting CSS: https://cdn.pydata.org/bokeh/release/bokeh-0.11.0.min.css\");\n",
       "            Bokeh.embed.inject_css(\"https://cdn.pydata.org/bokeh/release/bokeh-0.11.0.min.css\");\n",
       "            console.log(\"Bokeh: injecting CSS: https://cdn.pydata.org/bokeh/release/bokeh-widgets-0.11.0.min.css\");\n",
       "            Bokeh.embed.inject_css(\"https://cdn.pydata.org/bokeh/release/bokeh-widgets-0.11.0.min.css\");\n",
       "          }\n",
       "        ];\n",
       "      \n",
       "        function run_inline_js() {\n",
       "          for (var i = 0; i < inline_js.length; i++) {\n",
       "            inline_js[i](window.Bokeh);\n",
       "          }\n",
       "        }\n",
       "      \n",
       "        if (window._bokeh_is_loading === 0) {\n",
       "          console.log(\"Bokeh: BokehJS loaded, going straight to plotting\");\n",
       "          run_inline_js();\n",
       "        } else {\n",
       "          load_libs(js_urls, function() {\n",
       "            console.log(\"Bokeh: BokehJS plotting callback run at\", now());\n",
       "            run_inline_js();\n",
       "          });\n",
       "        }\n",
       "      }(this));\n",
       "    </script>\n",
       "    <div>\n",
       "        <a href=\"http://bokeh.pydata.org\" target=\"_blank\" class=\"bk-logo bk-logo-small bk-logo-notebook\"></a>\n",
       "        <span>BokehJS successfully loaded.</span>\n",
       "    </div>"
      ]
     },
     "metadata": {},
     "output_type": "display_data"
    }
   ],
   "source": [
    "# output_file(\"lines.html\", title=\"line plot example\")\n",
    "output_notebook()\n",
    "\n",
    "# create a new line chat with a title and axis labels\n",
    "p = Bar(myData,\"y\", title=\"Simple Bar Chart Example\", \n",
    "        xlabel=\"x\", ylabel=\"values\",width=400, height=400)"
   ]
  },
  {
   "cell_type": "code",
   "execution_count": 11,
   "metadata": {
    "collapsed": false
   },
   "outputs": [
    {
     "data": {
      "text/html": [
       "\n",
       "\n",
       "    <div class=\"plotdiv\" id=\"43af5af5-fa72-4e63-ae63-8e4795b078eb\"></div>\n",
       "<script type=\"text/javascript\">\n",
       "  \n",
       "  (function(global) {\n",
       "    function now() {\n",
       "      return new Date();\n",
       "    }\n",
       "  \n",
       "    if (typeof (window._bokeh_onload_callbacks) === \"undefined\") {\n",
       "      window._bokeh_onload_callbacks = [];\n",
       "    }\n",
       "  \n",
       "    function run_callbacks() {\n",
       "      window._bokeh_onload_callbacks.forEach(function(callback) { callback() });\n",
       "      delete window._bokeh_onload_callbacks\n",
       "      console.info(\"Bokeh: all callbacks have finished\");\n",
       "    }\n",
       "  \n",
       "    function load_libs(js_urls, callback) {\n",
       "      window._bokeh_onload_callbacks.push(callback);\n",
       "      if (window._bokeh_is_loading > 0) {\n",
       "        console.log(\"Bokeh: BokehJS is being loaded, scheduling callback at\", now());\n",
       "        return null;\n",
       "      }\n",
       "      if (js_urls == null || js_urls.length === 0) {\n",
       "        run_callbacks();\n",
       "        return null;\n",
       "      }\n",
       "      console.log(\"Bokeh: BokehJS not loaded, scheduling load and callback at\", now());\n",
       "      window._bokeh_is_loading = js_urls.length;\n",
       "      for (var i = 0; i < js_urls.length; i++) {\n",
       "        var url = js_urls[i];\n",
       "        var s = document.createElement('script');\n",
       "        s.src = url;\n",
       "        s.async = false;\n",
       "        s.onreadystatechange = s.onload = function() {\n",
       "          window._bokeh_is_loading--;\n",
       "          if (window._bokeh_is_loading === 0) {\n",
       "            console.log(\"Bokeh: all BokehJS libraries loaded\");\n",
       "            run_callbacks()\n",
       "          }\n",
       "        };\n",
       "        s.onerror = function() {\n",
       "          console.warn(\"failed to load library \" + url);\n",
       "        };\n",
       "        console.log(\"Bokeh: injecting script tag for BokehJS library: \", url);\n",
       "        document.getElementsByTagName(\"head\")[0].appendChild(s);\n",
       "      }\n",
       "    };var element = document.getElementById(\"43af5af5-fa72-4e63-ae63-8e4795b078eb\");\n",
       "    if (element == null) {\n",
       "      console.log(\"Bokeh: ERROR: autoload.js configured with elementid '43af5af5-fa72-4e63-ae63-8e4795b078eb' but no matching script tag was found. \")\n",
       "      return false;\n",
       "    }var js_urls = [];\n",
       "  \n",
       "    var inline_js = [\n",
       "      function(Bokeh) {\n",
       "        Bokeh.$(function() {\n",
       "            var docs_json = {\"6866215a-4742-4fcd-a3bc-f3e88ad0df7a\": {\"version\": \"0.11.0\", \"roots\": {\"root_ids\": [\"c898a21b-6587-4a64-9dbd-b12a4ec2a1ab\", \"ff8fb0c9-2611-4497-9d9d-ee5e2212f135\", \"4da9ab72-b73b-49ae-baf7-f1ba84727de2\"], \"references\": [{\"attributes\": {\"x_range\": {\"type\": \"DataRange1d\", \"id\": \"5dff5557-a960-432c-ba71-9d501d783ad5\"}, \"y_range\": {\"type\": \"DataRange1d\", \"id\": \"a8f6fe0c-da30-478b-9c12-f74e50dcedac\"}, \"renderers\": [{\"type\": \"LinearAxis\", \"id\": \"50b3fed4-8a18-4afa-b4c9-bc9a31cb6d3f\"}, {\"type\": \"Grid\", \"id\": \"5c821c76-5287-49a9-b290-bbb88357fef7\"}, {\"type\": \"LinearAxis\", \"id\": \"cbd2344b-365d-490d-ad75-18af42c860d1\"}, {\"type\": \"Grid\", \"id\": \"09d53b30-ea68-49e3-b6f9-c7adb6af4807\"}, {\"type\": \"BoxAnnotation\", \"id\": \"9006a939-1be2-4c98-9670-96f63c99073b\"}, {\"type\": \"GlyphRenderer\", \"id\": \"83bf0ae9-c34e-459d-8683-27adc6d71b4f\"}], \"below\": [{\"type\": \"LinearAxis\", \"id\": \"50b3fed4-8a18-4afa-b4c9-bc9a31cb6d3f\"}], \"tool_events\": {\"type\": \"ToolEvents\", \"id\": \"9b2d1498-7ac1-4025-923f-78c0b3070ccf\"}, \"tools\": [{\"type\": \"PanTool\", \"id\": \"ed7be54a-089b-4c31-bbee-2d6c612a0069\"}, {\"type\": \"WheelZoomTool\", \"id\": \"1a582fc6-42e3-4770-84f0-228298e50863\"}, {\"type\": \"BoxZoomTool\", \"id\": \"8461f5cd-9782-424b-acfe-b4a178c3f6ca\"}, {\"type\": \"PreviewSaveTool\", \"id\": \"2cf0c398-82cd-45a9-95d8-25dfd4f51245\"}, {\"type\": \"ResizeTool\", \"id\": \"33f5f94f-3dd3-482b-906e-95223d02ac01\"}, {\"type\": \"ResetTool\", \"id\": \"82056546-7bb5-4ead-94bf-80ec75b2d209\"}, {\"type\": \"HelpTool\", \"id\": \"21e087b4-3fef-4c45-a92b-5d202e177d6b\"}], \"left\": [{\"type\": \"LinearAxis\", \"id\": \"cbd2344b-365d-490d-ad75-18af42c860d1\"}]}, \"type\": \"Plot\", \"id\": \"ff8fb0c9-2611-4497-9d9d-ee5e2212f135\", \"subtype\": \"Figure\"}, {\"attributes\": {\"callback\": null}, \"type\": \"DataRange1d\", \"id\": \"2f239294-5c8f-4007-ac6c-731c88684956\"}, {\"attributes\": {\"plot\": {\"subtype\": \"Figure\", \"type\": \"Plot\", \"id\": \"c898a21b-6587-4a64-9dbd-b12a4ec2a1ab\"}}, \"type\": \"PanTool\", \"id\": \"78f56862-bb23-45ff-b6e3-f56442347fa7\"}, {\"attributes\": {\"plot\": {\"subtype\": \"Figure\", \"type\": \"Plot\", \"id\": \"ff8fb0c9-2611-4497-9d9d-ee5e2212f135\"}, \"formatter\": {\"type\": \"BasicTickFormatter\", \"id\": \"f55db83c-db0f-478f-8c65-8eab80d16c36\"}, \"ticker\": {\"type\": \"BasicTicker\", \"id\": \"1f777017-9d3e-49f6-a959-370046ae0336\"}}, \"type\": \"LinearAxis\", \"id\": \"cbd2344b-365d-490d-ad75-18af42c860d1\"}, {\"attributes\": {\"plot\": {\"subtype\": \"Figure\", \"type\": \"Plot\", \"id\": \"c898a21b-6587-4a64-9dbd-b12a4ec2a1ab\"}}, \"type\": \"PreviewSaveTool\", \"id\": \"bf839f71-406e-4784-a577-a8b89cc78ac6\"}, {\"attributes\": {\"callback\": null, \"column_names\": [\"line_color\", \"line_alpha\", \"color\", \"fill_alpha\", \"height\", \"width\", \"y\", \"x\"], \"data\": {\"line_color\": [\"white\"], \"line_alpha\": [1.0], \"chart_index\": [{\"y\": 3}], \"color\": [\"#f22c40\"], \"fill_alpha\": [0.8], \"height\": [1.0], \"width\": [0.8], \"y\": [3], \"x\": [\"3\"]}}, \"type\": \"ColumnDataSource\", \"id\": \"f3e81304-10b3-4406-901c-5f1dbafd9e5c\"}, {\"attributes\": {\"plot\": {\"subtype\": \"Chart\", \"type\": \"Plot\", \"id\": \"4da9ab72-b73b-49ae-baf7-f1ba84727de2\"}}, \"type\": \"ResizeTool\", \"id\": \"72ae091e-3289-429b-b549-f7243ca53425\"}, {\"attributes\": {\"plot\": {\"subtype\": \"Figure\", \"type\": \"Plot\", \"id\": \"ff8fb0c9-2611-4497-9d9d-ee5e2212f135\"}, \"overlay\": {\"type\": \"BoxAnnotation\", \"id\": \"9006a939-1be2-4c98-9670-96f63c99073b\"}}, \"type\": \"BoxZoomTool\", \"id\": \"8461f5cd-9782-424b-acfe-b4a178c3f6ca\"}, {\"attributes\": {\"plot\": {\"subtype\": \"Figure\", \"type\": \"Plot\", \"id\": \"ff8fb0c9-2611-4497-9d9d-ee5e2212f135\"}}, \"type\": \"WheelZoomTool\", \"id\": \"1a582fc6-42e3-4770-84f0-228298e50863\"}, {\"attributes\": {\"line_color\": {\"field\": \"line_color\"}, \"fill_color\": {\"field\": \"color\"}, \"fill_alpha\": {\"field\": \"fill_alpha\"}, \"height\": {\"units\": \"data\", \"field\": \"height\"}, \"width\": {\"units\": \"data\", \"field\": \"width\"}, \"y\": {\"field\": \"y\"}, \"x\": {\"field\": \"x\"}}, \"type\": \"Rect\", \"id\": \"0a47f8a3-5786-405b-9ec3-f80b3932efe3\"}, {\"attributes\": {\"plot\": {\"subtype\": \"Figure\", \"type\": \"Plot\", \"id\": \"c898a21b-6587-4a64-9dbd-b12a4ec2a1ab\"}, \"overlay\": {\"type\": \"BoxAnnotation\", \"id\": \"789f5b27-08cf-4c76-8e6c-8ec4c07a066e\"}}, \"type\": \"BoxZoomTool\", \"id\": \"f750db02-b706-4e70-86d1-c6c526676303\"}, {\"attributes\": {\"plot\": {\"subtype\": \"Figure\", \"type\": \"Plot\", \"id\": \"c898a21b-6587-4a64-9dbd-b12a4ec2a1ab\"}, \"formatter\": {\"type\": \"BasicTickFormatter\", \"id\": \"530e8eb3-850e-4753-85e8-e58b02d76898\"}, \"ticker\": {\"type\": \"BasicTicker\", \"id\": \"b117e380-8ade-49eb-8d10-411575cd8524\"}}, \"type\": \"LinearAxis\", \"id\": \"b5f57307-9d81-4f55-821d-6297e08ee951\"}, {\"attributes\": {}, \"type\": \"ToolEvents\", \"id\": \"98f26aec-30de-468e-a84d-b85877644c89\"}, {\"attributes\": {\"nonselection_glyph\": null, \"data_source\": {\"type\": \"ColumnDataSource\", \"id\": \"8b920748-dd15-4a93-9fce-43dee5452e34\"}, \"selection_glyph\": null, \"hover_glyph\": null, \"glyph\": {\"type\": \"Rect\", \"id\": \"07889567-e644-49eb-837d-c444e1725f0e\"}}, \"type\": \"GlyphRenderer\", \"id\": \"eeb5ba0c-cfdc-4a77-a2cf-c42b854bbee0\"}, {\"attributes\": {}, \"type\": \"BasicTickFormatter\", \"id\": \"9ecad2ed-dd23-4d71-a93e-af223c461506\"}, {\"attributes\": {}, \"type\": \"BasicTicker\", \"id\": \"b270bf13-51aa-4114-9003-cd8714b3d639\"}, {\"attributes\": {\"major_label_orientation\": 0.7853981633974483, \"plot\": {\"subtype\": \"Chart\", \"type\": \"Plot\", \"id\": \"4da9ab72-b73b-49ae-baf7-f1ba84727de2\"}, \"axis_label\": \"x\", \"formatter\": {\"type\": \"CategoricalTickFormatter\", \"id\": \"adadf5a2-da39-44b7-bbf5-a9c780013881\"}, \"ticker\": {\"type\": \"CategoricalTicker\", \"id\": \"98e99021-27e6-443b-91ca-70b4ff8c5bcd\"}}, \"type\": \"CategoricalAxis\", \"id\": \"ae2aaf22-97f6-43b9-9190-58f1a34c5222\"}, {\"attributes\": {\"plot\": {\"subtype\": \"Chart\", \"type\": \"Plot\", \"id\": \"4da9ab72-b73b-49ae-baf7-f1ba84727de2\"}}, \"type\": \"PanTool\", \"id\": \"6ae30728-fddd-4001-ba68-38a539563b42\"}, {\"attributes\": {\"plot\": {\"subtype\": \"Chart\", \"type\": \"Plot\", \"id\": \"4da9ab72-b73b-49ae-baf7-f1ba84727de2\"}}, \"type\": \"ResetTool\", \"id\": \"fb630fe0-c464-4de5-a93f-33274b5b55d3\"}, {\"attributes\": {\"plot\": {\"subtype\": \"Chart\", \"type\": \"Plot\", \"id\": \"4da9ab72-b73b-49ae-baf7-f1ba84727de2\"}, \"overlay\": {\"type\": \"BoxAnnotation\", \"id\": \"46044925-c8bd-4fd3-b70d-ea81429d75b2\"}}, \"type\": \"BoxZoomTool\", \"id\": \"618384f1-2cd5-414c-ac10-d37b274ea152\"}, {\"attributes\": {\"plot\": {\"subtype\": \"Chart\", \"type\": \"Plot\", \"id\": \"4da9ab72-b73b-49ae-baf7-f1ba84727de2\"}, \"ticker\": {\"type\": \"BasicTicker\", \"id\": \"b270bf13-51aa-4114-9003-cd8714b3d639\"}, \"dimension\": 1}, \"type\": \"Grid\", \"id\": \"4de075cb-6443-40a1-9535-9f74a40a1049\"}, {\"attributes\": {\"nonselection_glyph\": null, \"data_source\": {\"type\": \"ColumnDataSource\", \"id\": \"a5d24ca4-bac7-4c42-b39b-959ae0a8f024\"}, \"selection_glyph\": null, \"hover_glyph\": null, \"glyph\": {\"type\": \"Rect\", \"id\": \"32bd9903-5ab1-4ff8-905c-612b7421ceee\"}}, \"type\": \"GlyphRenderer\", \"id\": \"217812f6-420c-4053-98c3-879ad67e9caf\"}, {\"attributes\": {}, \"type\": \"CategoricalTicker\", \"id\": \"98e99021-27e6-443b-91ca-70b4ff8c5bcd\"}, {\"attributes\": {}, \"type\": \"ToolEvents\", \"id\": \"9b2d1498-7ac1-4025-923f-78c0b3070ccf\"}, {\"attributes\": {\"plot\": {\"subtype\": \"Chart\", \"type\": \"Plot\", \"id\": \"4da9ab72-b73b-49ae-baf7-f1ba84727de2\"}}, \"type\": \"WheelZoomTool\", \"id\": \"a81f0515-8775-42e2-aa7b-516caee72d38\"}, {\"attributes\": {\"plot\": {\"subtype\": \"Figure\", \"type\": \"Plot\", \"id\": \"c898a21b-6587-4a64-9dbd-b12a4ec2a1ab\"}}, \"type\": \"ResizeTool\", \"id\": \"95912cbf-c7f6-49f0-afc5-f514e76fbdd6\"}, {\"attributes\": {\"line_color\": {\"value\": \"black\"}, \"line_alpha\": {\"value\": 1.0}, \"render_mode\": \"css\", \"bottom_units\": \"screen\", \"level\": \"overlay\", \"top_units\": \"screen\", \"fill_alpha\": {\"value\": 0.5}, \"plot\": null, \"left_units\": \"screen\", \"line_dash\": [4, 4], \"line_width\": {\"value\": 2}, \"right_units\": \"screen\", \"fill_color\": {\"value\": \"lightgrey\"}}, \"type\": \"BoxAnnotation\", \"id\": \"789f5b27-08cf-4c76-8e6c-8ec4c07a066e\"}, {\"attributes\": {\"plot\": {\"subtype\": \"Figure\", \"type\": \"Plot\", \"id\": \"ff8fb0c9-2611-4497-9d9d-ee5e2212f135\"}}, \"type\": \"HelpTool\", \"id\": \"21e087b4-3fef-4c45-a92b-5d202e177d6b\"}, {\"attributes\": {}, \"type\": \"BasicTicker\", \"id\": \"1f777017-9d3e-49f6-a959-370046ae0336\"}, {\"attributes\": {\"nonselection_glyph\": {\"type\": \"Circle\", \"id\": \"4143871c-d80e-4b03-9595-862e968fbd63\"}, \"data_source\": {\"type\": \"ColumnDataSource\", \"id\": \"c2326334-c1f7-406d-864c-152bd6908be0\"}, \"selection_glyph\": null, \"hover_glyph\": null, \"glyph\": {\"type\": \"Circle\", \"id\": \"0f2e567b-8cba-4149-b51a-5584c1721c23\"}}, \"type\": \"GlyphRenderer\", \"id\": \"83bf0ae9-c34e-459d-8683-27adc6d71b4f\"}, {\"attributes\": {\"plot\": {\"subtype\": \"Figure\", \"type\": \"Plot\", \"id\": \"c898a21b-6587-4a64-9dbd-b12a4ec2a1ab\"}}, \"type\": \"WheelZoomTool\", \"id\": \"b11f7343-a4a2-457b-b2d3-045f2e0e1956\"}, {\"attributes\": {\"callback\": null, \"factors\": [\"1\", \"2\", \"3\", \"4\", \"5\"]}, \"type\": \"FactorRange\", \"id\": \"e0a42688-7c5d-48bd-ba0e-18fa4c5194b0\"}, {\"attributes\": {\"plot\": {\"subtype\": \"Figure\", \"type\": \"Plot\", \"id\": \"c898a21b-6587-4a64-9dbd-b12a4ec2a1ab\"}, \"formatter\": {\"type\": \"BasicTickFormatter\", \"id\": \"f8db5130-cb5e-48c1-a9c9-93060b6a49c5\"}, \"ticker\": {\"type\": \"BasicTicker\", \"id\": \"35b1c1af-53ba-4413-8b88-0e1b239ec76b\"}}, \"type\": \"LinearAxis\", \"id\": \"4fe592fb-d630-4b17-a006-289951245e6a\"}, {\"attributes\": {\"plot\": {\"subtype\": \"Figure\", \"type\": \"Plot\", \"id\": \"ff8fb0c9-2611-4497-9d9d-ee5e2212f135\"}}, \"type\": \"ResetTool\", \"id\": \"82056546-7bb5-4ead-94bf-80ec75b2d209\"}, {\"attributes\": {\"line_color\": {\"value\": \"#1f77b4\"}, \"line_alpha\": {\"value\": 0.1}, \"fill_color\": {\"value\": \"#1f77b4\"}, \"fill_alpha\": {\"value\": 0.1}, \"y\": {\"field\": \"b\"}, \"x\": {\"field\": \"a\"}, \"size\": {\"units\": \"screen\", \"field\": \"size\"}}, \"type\": \"Circle\", \"id\": \"6306c44e-ed04-49af-b8d4-3c783cc2ea3a\"}, {\"attributes\": {}, \"type\": \"BasicTicker\", \"id\": \"b117e380-8ade-49eb-8d10-411575cd8524\"}, {\"attributes\": {\"callback\": null, \"column_names\": [\"line_color\", \"line_alpha\", \"color\", \"fill_alpha\", \"height\", \"width\", \"y\", \"x\"], \"data\": {\"line_color\": [\"white\"], \"line_alpha\": [1.0], \"chart_index\": [{\"y\": 5}], \"color\": [\"#f22c40\"], \"fill_alpha\": [0.8], \"height\": [1.0], \"width\": [0.8], \"y\": [5], \"x\": [\"5\"]}}, \"type\": \"ColumnDataSource\", \"id\": \"a5d24ca4-bac7-4c42-b39b-959ae0a8f024\"}, {\"attributes\": {\"plot\": {\"subtype\": \"Figure\", \"type\": \"Plot\", \"id\": \"c898a21b-6587-4a64-9dbd-b12a4ec2a1ab\"}}, \"type\": \"ResetTool\", \"id\": \"353402f1-429f-4600-b549-972aee0e8cd1\"}, {\"attributes\": {\"callback\": null, \"column_names\": [\"a\", \"c\", \"b\", \"size\", \"size\"], \"data\": {\"a\": [1, 2, 3, 4, 5], \"c\": [0, 10, 20, 30, 40], \"b\": [1, 4, 9, 16, 25], \"size\": [2, 4, 6, 8, 10]}}, \"type\": \"ColumnDataSource\", \"id\": \"c2326334-c1f7-406d-864c-152bd6908be0\"}, {\"attributes\": {\"plot\": {\"subtype\": \"Figure\", \"type\": \"Plot\", \"id\": \"ff8fb0c9-2611-4497-9d9d-ee5e2212f135\"}, \"ticker\": {\"type\": \"BasicTicker\", \"id\": \"1f777017-9d3e-49f6-a959-370046ae0336\"}, \"dimension\": 1}, \"type\": \"Grid\", \"id\": \"09d53b30-ea68-49e3-b6f9-c7adb6af4807\"}, {\"attributes\": {\"line_color\": {\"value\": \"black\"}, \"line_alpha\": {\"value\": 1.0}, \"render_mode\": \"css\", \"bottom_units\": \"screen\", \"level\": \"overlay\", \"top_units\": \"screen\", \"fill_alpha\": {\"value\": 0.5}, \"plot\": null, \"left_units\": \"screen\", \"line_dash\": [4, 4], \"line_width\": {\"value\": 2}, \"right_units\": \"screen\", \"fill_color\": {\"value\": \"lightgrey\"}}, \"type\": \"BoxAnnotation\", \"id\": \"9006a939-1be2-4c98-9670-96f63c99073b\"}, {\"attributes\": {\"line_color\": {\"value\": \"#1f77b4\"}, \"x\": {\"field\": \"a\"}, \"y\": {\"field\": \"b\"}, \"fill_color\": {\"value\": \"#1f77b4\"}, \"size\": {\"units\": \"screen\", \"value\": 30}}, \"type\": \"Circle\", \"id\": \"0f2e567b-8cba-4149-b51a-5584c1721c23\"}, {\"attributes\": {\"plot\": {\"subtype\": \"Figure\", \"type\": \"Plot\", \"id\": \"ff8fb0c9-2611-4497-9d9d-ee5e2212f135\"}, \"formatter\": {\"type\": \"BasicTickFormatter\", \"id\": \"58001de6-9bb6-41dc-ba07-f77890f39b7f\"}, \"ticker\": {\"type\": \"BasicTicker\", \"id\": \"67d3fc4f-5158-4fd3-b83d-af624a32399a\"}}, \"type\": \"LinearAxis\", \"id\": \"50b3fed4-8a18-4afa-b4c9-bc9a31cb6d3f\"}, {\"attributes\": {\"plot\": {\"subtype\": \"Figure\", \"type\": \"Plot\", \"id\": \"c898a21b-6587-4a64-9dbd-b12a4ec2a1ab\"}, \"ticker\": {\"type\": \"BasicTicker\", \"id\": \"35b1c1af-53ba-4413-8b88-0e1b239ec76b\"}, \"dimension\": 1}, \"type\": \"Grid\", \"id\": \"42909d3b-a2e1-4552-bda2-d81ae29d41cd\"}, {\"attributes\": {\"line_color\": {\"field\": \"line_color\"}, \"fill_color\": {\"field\": \"color\"}, \"fill_alpha\": {\"field\": \"fill_alpha\"}, \"height\": {\"units\": \"data\", \"field\": \"height\"}, \"width\": {\"units\": \"data\", \"field\": \"width\"}, \"y\": {\"field\": \"y\"}, \"x\": {\"field\": \"x\"}}, \"type\": \"Rect\", \"id\": \"4ce291ba-98e5-4be5-afda-ed014a8be8c9\"}, {\"attributes\": {}, \"type\": \"BasicTicker\", \"id\": \"67d3fc4f-5158-4fd3-b83d-af624a32399a\"}, {\"attributes\": {}, \"type\": \"CategoricalTickFormatter\", \"id\": \"adadf5a2-da39-44b7-bbf5-a9c780013881\"}, {\"attributes\": {\"line_color\": {\"value\": \"#1f77b4\"}, \"line_alpha\": {\"value\": 0.1}, \"fill_color\": {\"value\": \"#1f77b4\"}, \"fill_alpha\": {\"value\": 0.1}, \"y\": {\"field\": \"b\"}, \"x\": {\"field\": \"a\"}, \"size\": {\"units\": \"screen\", \"value\": 30}}, \"type\": \"Circle\", \"id\": \"4143871c-d80e-4b03-9595-862e968fbd63\"}, {\"attributes\": {\"nonselection_glyph\": null, \"data_source\": {\"type\": \"ColumnDataSource\", \"id\": \"f3e81304-10b3-4406-901c-5f1dbafd9e5c\"}, \"selection_glyph\": null, \"hover_glyph\": null, \"glyph\": {\"type\": \"Rect\", \"id\": \"06fa1263-2de3-4ac2-bd74-50220910c20d\"}}, \"type\": \"GlyphRenderer\", \"id\": \"10cc6f7a-dadf-4da7-8d4b-5f5cc539a0ac\"}, {\"attributes\": {\"plot\": {\"subtype\": \"Figure\", \"type\": \"Plot\", \"id\": \"ff8fb0c9-2611-4497-9d9d-ee5e2212f135\"}, \"ticker\": {\"type\": \"BasicTicker\", \"id\": \"67d3fc4f-5158-4fd3-b83d-af624a32399a\"}}, \"type\": \"Grid\", \"id\": \"5c821c76-5287-49a9-b290-bbb88357fef7\"}, {\"attributes\": {\"line_color\": {\"field\": \"line_color\"}, \"fill_color\": {\"field\": \"color\"}, \"fill_alpha\": {\"field\": \"fill_alpha\"}, \"height\": {\"units\": \"data\", \"field\": \"height\"}, \"width\": {\"units\": \"data\", \"field\": \"width\"}, \"y\": {\"field\": \"y\"}, \"x\": {\"field\": \"x\"}}, \"type\": \"Rect\", \"id\": \"06fa1263-2de3-4ac2-bd74-50220910c20d\"}, {\"attributes\": {\"plot\": {\"subtype\": \"Chart\", \"type\": \"Plot\", \"id\": \"4da9ab72-b73b-49ae-baf7-f1ba84727de2\"}}, \"type\": \"HelpTool\", \"id\": \"da8a2f97-4aef-477b-8364-541a589fe4fc\"}, {\"attributes\": {\"nonselection_glyph\": null, \"data_source\": {\"type\": \"ColumnDataSource\", \"id\": \"ef606afc-a9c1-41af-8d0c-24e97a63e36f\"}, \"selection_glyph\": null, \"hover_glyph\": null, \"glyph\": {\"type\": \"Rect\", \"id\": \"0a47f8a3-5786-405b-9ec3-f80b3932efe3\"}}, \"type\": \"GlyphRenderer\", \"id\": \"b4de50ed-dbba-46eb-8af8-d51503f4b1d3\"}, {\"attributes\": {\"line_color\": {\"field\": \"line_color\"}, \"fill_color\": {\"field\": \"color\"}, \"fill_alpha\": {\"field\": \"fill_alpha\"}, \"height\": {\"units\": \"data\", \"field\": \"height\"}, \"width\": {\"units\": \"data\", \"field\": \"width\"}, \"y\": {\"field\": \"y\"}, \"x\": {\"field\": \"x\"}}, \"type\": \"Rect\", \"id\": \"07889567-e644-49eb-837d-c444e1725f0e\"}, {\"attributes\": {\"callback\": null, \"column_names\": [\"line_color\", \"line_alpha\", \"color\", \"fill_alpha\", \"height\", \"width\", \"y\", \"x\"], \"data\": {\"line_color\": [\"white\"], \"line_alpha\": [1.0], \"chart_index\": [{\"y\": 1}], \"color\": [\"#f22c40\"], \"fill_alpha\": [0.8], \"height\": [1.0], \"width\": [0.8], \"y\": [1], \"x\": [\"1\"]}}, \"type\": \"ColumnDataSource\", \"id\": \"ef606afc-a9c1-41af-8d0c-24e97a63e36f\"}, {\"attributes\": {\"callback\": null}, \"type\": \"DataRange1d\", \"id\": \"58e92f11-3e5a-43eb-a2e9-f6477c35d602\"}, {\"attributes\": {\"plot\": {\"subtype\": \"Figure\", \"type\": \"Plot\", \"id\": \"ff8fb0c9-2611-4497-9d9d-ee5e2212f135\"}}, \"type\": \"PanTool\", \"id\": \"ed7be54a-089b-4c31-bbee-2d6c612a0069\"}, {\"attributes\": {\"callback\": null, \"column_names\": [\"line_color\", \"line_alpha\", \"color\", \"fill_alpha\", \"height\", \"width\", \"y\", \"x\"], \"data\": {\"line_color\": [\"white\"], \"line_alpha\": [1.0], \"chart_index\": [{\"y\": 4}], \"color\": [\"#f22c40\"], \"fill_alpha\": [0.8], \"height\": [1.0], \"width\": [0.8], \"y\": [4], \"x\": [\"4\"]}}, \"type\": \"ColumnDataSource\", \"id\": \"8b920748-dd15-4a93-9fce-43dee5452e34\"}, {\"attributes\": {}, \"type\": \"BasicTickFormatter\", \"id\": \"530e8eb3-850e-4753-85e8-e58b02d76898\"}, {\"attributes\": {\"line_color\": {\"field\": \"line_color\"}, \"fill_color\": {\"field\": \"color\"}, \"fill_alpha\": {\"field\": \"fill_alpha\"}, \"height\": {\"units\": \"data\", \"field\": \"height\"}, \"width\": {\"units\": \"data\", \"field\": \"width\"}, \"y\": {\"field\": \"y\"}, \"x\": {\"field\": \"x\"}}, \"type\": \"Rect\", \"id\": \"32bd9903-5ab1-4ff8-905c-612b7421ceee\"}, {\"attributes\": {\"x_range\": {\"type\": \"DataRange1d\", \"id\": \"58e92f11-3e5a-43eb-a2e9-f6477c35d602\"}, \"y_range\": {\"type\": \"DataRange1d\", \"id\": \"2f239294-5c8f-4007-ac6c-731c88684956\"}, \"renderers\": [{\"type\": \"LinearAxis\", \"id\": \"b5f57307-9d81-4f55-821d-6297e08ee951\"}, {\"type\": \"Grid\", \"id\": \"cd1db38c-0d80-428f-bf21-66aded0d06af\"}, {\"type\": \"LinearAxis\", \"id\": \"4fe592fb-d630-4b17-a006-289951245e6a\"}, {\"type\": \"Grid\", \"id\": \"42909d3b-a2e1-4552-bda2-d81ae29d41cd\"}, {\"type\": \"BoxAnnotation\", \"id\": \"789f5b27-08cf-4c76-8e6c-8ec4c07a066e\"}, {\"type\": \"GlyphRenderer\", \"id\": \"59ec9f7c-d745-42de-a498-71b82174f8c5\"}], \"below\": [{\"type\": \"LinearAxis\", \"id\": \"b5f57307-9d81-4f55-821d-6297e08ee951\"}], \"tool_events\": {\"type\": \"ToolEvents\", \"id\": \"07295626-67d1-4f1f-b4a2-9a6b566ee9da\"}, \"tools\": [{\"type\": \"PanTool\", \"id\": \"78f56862-bb23-45ff-b6e3-f56442347fa7\"}, {\"type\": \"WheelZoomTool\", \"id\": \"b11f7343-a4a2-457b-b2d3-045f2e0e1956\"}, {\"type\": \"BoxZoomTool\", \"id\": \"f750db02-b706-4e70-86d1-c6c526676303\"}, {\"type\": \"PreviewSaveTool\", \"id\": \"bf839f71-406e-4784-a577-a8b89cc78ac6\"}, {\"type\": \"ResizeTool\", \"id\": \"95912cbf-c7f6-49f0-afc5-f514e76fbdd6\"}, {\"type\": \"ResetTool\", \"id\": \"353402f1-429f-4600-b549-972aee0e8cd1\"}, {\"type\": \"HelpTool\", \"id\": \"fb12aa68-3d6a-4c5a-8eb7-5d7e858d9cfa\"}], \"left\": [{\"type\": \"LinearAxis\", \"id\": \"4fe592fb-d630-4b17-a006-289951245e6a\"}]}, \"type\": \"Plot\", \"id\": \"c898a21b-6587-4a64-9dbd-b12a4ec2a1ab\", \"subtype\": \"Figure\"}, {\"attributes\": {\"line_color\": {\"value\": \"#1f77b4\"}, \"x\": {\"field\": \"a\"}, \"y\": {\"field\": \"b\"}, \"fill_color\": {\"value\": \"#1f77b4\"}, \"size\": {\"units\": \"screen\", \"field\": \"size\"}}, \"type\": \"Circle\", \"id\": \"eca87956-9b59-4b1f-945e-d6baf97c6545\"}, {\"attributes\": {\"line_color\": {\"value\": \"black\"}, \"line_alpha\": {\"value\": 1.0}, \"render_mode\": \"css\", \"bottom_units\": \"screen\", \"level\": \"overlay\", \"top_units\": \"screen\", \"fill_alpha\": {\"value\": 0.5}, \"plot\": null, \"left_units\": \"screen\", \"line_dash\": [4, 4], \"line_width\": {\"value\": 2}, \"right_units\": \"screen\", \"fill_color\": {\"value\": \"lightgrey\"}}, \"type\": \"BoxAnnotation\", \"id\": \"46044925-c8bd-4fd3-b70d-ea81429d75b2\"}, {\"attributes\": {\"plot\": {\"subtype\": \"Figure\", \"type\": \"Plot\", \"id\": \"ff8fb0c9-2611-4497-9d9d-ee5e2212f135\"}}, \"type\": \"PreviewSaveTool\", \"id\": \"2cf0c398-82cd-45a9-95d8-25dfd4f51245\"}, {\"attributes\": {}, \"type\": \"BasicTickFormatter\", \"id\": \"58001de6-9bb6-41dc-ba07-f77890f39b7f\"}, {\"attributes\": {\"plot\": {\"subtype\": \"Figure\", \"type\": \"Plot\", \"id\": \"c898a21b-6587-4a64-9dbd-b12a4ec2a1ab\"}, \"ticker\": {\"type\": \"BasicTicker\", \"id\": \"b117e380-8ade-49eb-8d10-411575cd8524\"}}, \"type\": \"Grid\", \"id\": \"cd1db38c-0d80-428f-bf21-66aded0d06af\"}, {\"attributes\": {}, \"type\": \"BasicTickFormatter\", \"id\": \"f8db5130-cb5e-48c1-a9c9-93060b6a49c5\"}, {\"attributes\": {\"nonselection_glyph\": null, \"data_source\": {\"type\": \"ColumnDataSource\", \"id\": \"885e342a-7743-4c66-a85d-6480086862d5\"}, \"selection_glyph\": null, \"hover_glyph\": null, \"glyph\": {\"type\": \"Rect\", \"id\": \"4ce291ba-98e5-4be5-afda-ed014a8be8c9\"}}, \"type\": \"GlyphRenderer\", \"id\": \"87238ed3-0af3-43e8-9fc7-c449ed0331e8\"}, {\"attributes\": {\"plot\": {\"subtype\": \"Figure\", \"type\": \"Plot\", \"id\": \"c898a21b-6587-4a64-9dbd-b12a4ec2a1ab\"}}, \"type\": \"HelpTool\", \"id\": \"fb12aa68-3d6a-4c5a-8eb7-5d7e858d9cfa\"}, {\"attributes\": {}, \"type\": \"BasicTicker\", \"id\": \"35b1c1af-53ba-4413-8b88-0e1b239ec76b\"}, {\"attributes\": {\"callback\": null, \"column_names\": [\"line_color\", \"line_alpha\", \"color\", \"fill_alpha\", \"height\", \"width\", \"y\", \"x\"], \"data\": {\"line_color\": [\"white\"], \"line_alpha\": [1.0], \"chart_index\": [{\"y\": 2}], \"color\": [\"#f22c40\"], \"fill_alpha\": [0.8], \"height\": [1.0], \"width\": [0.8], \"y\": [2], \"x\": [\"2\"]}}, \"type\": \"ColumnDataSource\", \"id\": \"885e342a-7743-4c66-a85d-6480086862d5\"}, {\"attributes\": {\"nonselection_glyph\": {\"type\": \"Circle\", \"id\": \"6306c44e-ed04-49af-b8d4-3c783cc2ea3a\"}, \"data_source\": {\"type\": \"ColumnDataSource\", \"id\": \"c2326334-c1f7-406d-864c-152bd6908be0\"}, \"selection_glyph\": null, \"hover_glyph\": null, \"glyph\": {\"type\": \"Circle\", \"id\": \"eca87956-9b59-4b1f-945e-d6baf97c6545\"}}, \"type\": \"GlyphRenderer\", \"id\": \"59ec9f7c-d745-42de-a498-71b82174f8c5\"}, {\"attributes\": {\"callback\": null, \"end\": 1.05}, \"type\": \"Range1d\", \"id\": \"a8f0005e-7e4e-4f3c-927e-ca3d8a4d0b60\"}, {\"attributes\": {\"x_range\": {\"type\": \"FactorRange\", \"id\": \"e0a42688-7c5d-48bd-ba0e-18fa4c5194b0\"}, \"y_mapper_type\": \"auto\", \"title_text_font_size\": {\"value\": \"14pt\"}, \"title\": \"Simple Bar Chart Example\", \"y_range\": {\"type\": \"Range1d\", \"id\": \"a8f0005e-7e4e-4f3c-927e-ca3d8a4d0b60\"}, \"x_mapper_type\": \"auto\", \"yscale\": \"auto\", \"renderers\": [{\"type\": \"BoxAnnotation\", \"id\": \"46044925-c8bd-4fd3-b70d-ea81429d75b2\"}, {\"type\": \"GlyphRenderer\", \"id\": \"b4de50ed-dbba-46eb-8af8-d51503f4b1d3\"}, {\"type\": \"GlyphRenderer\", \"id\": \"87238ed3-0af3-43e8-9fc7-c449ed0331e8\"}, {\"type\": \"GlyphRenderer\", \"id\": \"10cc6f7a-dadf-4da7-8d4b-5f5cc539a0ac\"}, {\"type\": \"GlyphRenderer\", \"id\": \"eeb5ba0c-cfdc-4a77-a2cf-c42b854bbee0\"}, {\"type\": \"GlyphRenderer\", \"id\": \"217812f6-420c-4053-98c3-879ad67e9caf\"}, {\"type\": \"CategoricalAxis\", \"id\": \"ae2aaf22-97f6-43b9-9190-58f1a34c5222\"}, {\"type\": \"LinearAxis\", \"id\": \"b188bc72-1040-4e31-84f1-6ee49ed47371\"}, {\"type\": \"Grid\", \"id\": \"4de075cb-6443-40a1-9535-9f74a40a1049\"}], \"xgrid\": false, \"width\": 400, \"below\": [{\"type\": \"CategoricalAxis\", \"id\": \"ae2aaf22-97f6-43b9-9190-58f1a34c5222\"}], \"tool_events\": {\"type\": \"ToolEvents\", \"id\": \"98f26aec-30de-468e-a84d-b85877644c89\"}, \"xscale\": \"auto\", \"tools\": [{\"type\": \"PanTool\", \"id\": \"6ae30728-fddd-4001-ba68-38a539563b42\"}, {\"type\": \"WheelZoomTool\", \"id\": \"a81f0515-8775-42e2-aa7b-516caee72d38\"}, {\"type\": \"BoxZoomTool\", \"id\": \"618384f1-2cd5-414c-ac10-d37b274ea152\"}, {\"type\": \"PreviewSaveTool\", \"id\": \"9f26d545-526a-486b-942d-329137480844\"}, {\"type\": \"ResizeTool\", \"id\": \"72ae091e-3289-429b-b549-f7243ca53425\"}, {\"type\": \"ResetTool\", \"id\": \"fb630fe0-c464-4de5-a93f-33274b5b55d3\"}, {\"type\": \"HelpTool\", \"id\": \"da8a2f97-4aef-477b-8364-541a589fe4fc\"}], \"legend\": null, \"left\": [{\"type\": \"LinearAxis\", \"id\": \"b188bc72-1040-4e31-84f1-6ee49ed47371\"}]}, \"type\": \"Plot\", \"id\": \"4da9ab72-b73b-49ae-baf7-f1ba84727de2\", \"subtype\": \"Chart\"}, {\"attributes\": {\"callback\": null}, \"type\": \"DataRange1d\", \"id\": \"a8f6fe0c-da30-478b-9c12-f74e50dcedac\"}, {\"attributes\": {}, \"type\": \"ToolEvents\", \"id\": \"07295626-67d1-4f1f-b4a2-9a6b566ee9da\"}, {\"attributes\": {\"plot\": {\"subtype\": \"Chart\", \"type\": \"Plot\", \"id\": \"4da9ab72-b73b-49ae-baf7-f1ba84727de2\"}}, \"type\": \"PreviewSaveTool\", \"id\": \"9f26d545-526a-486b-942d-329137480844\"}, {\"attributes\": {\"plot\": {\"subtype\": \"Chart\", \"type\": \"Plot\", \"id\": \"4da9ab72-b73b-49ae-baf7-f1ba84727de2\"}, \"axis_label\": \"values\", \"formatter\": {\"type\": \"BasicTickFormatter\", \"id\": \"9ecad2ed-dd23-4d71-a93e-af223c461506\"}, \"ticker\": {\"type\": \"BasicTicker\", \"id\": \"b270bf13-51aa-4114-9003-cd8714b3d639\"}}, \"type\": \"LinearAxis\", \"id\": \"b188bc72-1040-4e31-84f1-6ee49ed47371\"}, {\"attributes\": {}, \"type\": \"BasicTickFormatter\", \"id\": \"f55db83c-db0f-478f-8c65-8eab80d16c36\"}, {\"attributes\": {\"plot\": {\"subtype\": \"Figure\", \"type\": \"Plot\", \"id\": \"ff8fb0c9-2611-4497-9d9d-ee5e2212f135\"}}, \"type\": \"ResizeTool\", \"id\": \"33f5f94f-3dd3-482b-906e-95223d02ac01\"}, {\"attributes\": {\"callback\": null}, \"type\": \"DataRange1d\", \"id\": \"5dff5557-a960-432c-ba71-9d501d783ad5\"}]}, \"title\": \"Bokeh Application\"}};\n",
       "            var render_items = [{\"notebook_comms_target\": \"abd4da5c-28ba-4cce-bcea-d3e8fa2cd5b4\", \"docid\": \"6866215a-4742-4fcd-a3bc-f3e88ad0df7a\", \"elementid\": \"43af5af5-fa72-4e63-ae63-8e4795b078eb\", \"modelid\": \"4da9ab72-b73b-49ae-baf7-f1ba84727de2\"}];\n",
       "            \n",
       "            Bokeh.embed.embed_items(docs_json, render_items);\n",
       "        });\n",
       "      },\n",
       "      function(Bokeh) {\n",
       "      }\n",
       "    ];\n",
       "  \n",
       "    function run_inline_js() {\n",
       "      for (var i = 0; i < inline_js.length; i++) {\n",
       "        inline_js[i](window.Bokeh);\n",
       "      }\n",
       "    }\n",
       "  \n",
       "    if (window._bokeh_is_loading === 0) {\n",
       "      console.log(\"Bokeh: BokehJS loaded, going straight to plotting\");\n",
       "      run_inline_js();\n",
       "    } else {\n",
       "      load_libs(js_urls, function() {\n",
       "        console.log(\"Bokeh: BokehJS plotting callback run at\", now());\n",
       "        run_inline_js();\n",
       "      });\n",
       "    }\n",
       "  }(this));\n",
       "</script>"
      ]
     },
     "metadata": {},
     "output_type": "display_data"
    },
    {
     "ename": "ImportError",
     "evalue": "No module named ipykernel.comm",
     "output_type": "error",
     "traceback": [
      "\u001b[1;31m---------------------------------------------------------------------------\u001b[0m",
      "\u001b[1;31mImportError\u001b[0m                               Traceback (most recent call last)",
      "\u001b[1;32m<ipython-input-11-6a3c2d68899c>\u001b[0m in \u001b[0;36m<module>\u001b[1;34m()\u001b[0m\n\u001b[1;32m----> 1\u001b[1;33m \u001b[0mshow\u001b[0m\u001b[1;33m(\u001b[0m\u001b[0mp\u001b[0m\u001b[1;33m)\u001b[0m\u001b[1;33m\u001b[0m\u001b[0m\n\u001b[0m",
      "\u001b[1;32mC:\\Users\\Kevin\\Anaconda\\lib\\site-packages\\bokeh\\io.py\u001b[0m in \u001b[0;36mshow\u001b[1;34m(obj, browser, new)\u001b[0m\n\u001b[0;32m    277\u001b[0m \u001b[1;33m\u001b[0m\u001b[0m\n\u001b[0;32m    278\u001b[0m     '''\n\u001b[1;32m--> 279\u001b[1;33m     \u001b[1;32mreturn\u001b[0m \u001b[0m_show_with_state\u001b[0m\u001b[1;33m(\u001b[0m\u001b[0mobj\u001b[0m\u001b[1;33m,\u001b[0m \u001b[0m_state\u001b[0m\u001b[1;33m,\u001b[0m \u001b[0mbrowser\u001b[0m\u001b[1;33m,\u001b[0m \u001b[0mnew\u001b[0m\u001b[1;33m)\u001b[0m\u001b[1;33m\u001b[0m\u001b[0m\n\u001b[0m\u001b[0;32m    280\u001b[0m \u001b[1;33m\u001b[0m\u001b[0m\n\u001b[0;32m    281\u001b[0m \u001b[1;32mdef\u001b[0m \u001b[0m_show_with_state\u001b[0m\u001b[1;33m(\u001b[0m\u001b[0mobj\u001b[0m\u001b[1;33m,\u001b[0m \u001b[0mstate\u001b[0m\u001b[1;33m,\u001b[0m \u001b[0mbrowser\u001b[0m\u001b[1;33m,\u001b[0m \u001b[0mnew\u001b[0m\u001b[1;33m)\u001b[0m\u001b[1;33m:\u001b[0m\u001b[1;33m\u001b[0m\u001b[0m\n",
      "\u001b[1;32mC:\\Users\\Kevin\\Anaconda\\lib\\site-packages\\bokeh\\io.py\u001b[0m in \u001b[0;36m_show_with_state\u001b[1;34m(obj, state, browser, new)\u001b[0m\n\u001b[0;32m    285\u001b[0m \u001b[1;33m\u001b[0m\u001b[0m\n\u001b[0;32m    286\u001b[0m     \u001b[1;32mif\u001b[0m \u001b[0mstate\u001b[0m\u001b[1;33m.\u001b[0m\u001b[0mnotebook\u001b[0m\u001b[1;33m:\u001b[0m\u001b[1;33m\u001b[0m\u001b[0m\n\u001b[1;32m--> 287\u001b[1;33m         \u001b[0mcomms_handle\u001b[0m \u001b[1;33m=\u001b[0m \u001b[0m_show_notebook_with_state\u001b[0m\u001b[1;33m(\u001b[0m\u001b[0mobj\u001b[0m\u001b[1;33m,\u001b[0m \u001b[0mstate\u001b[0m\u001b[1;33m)\u001b[0m\u001b[1;33m\u001b[0m\u001b[0m\n\u001b[0m\u001b[0;32m    288\u001b[0m \u001b[1;33m\u001b[0m\u001b[0m\n\u001b[0;32m    289\u001b[0m     \u001b[1;32melif\u001b[0m \u001b[0mstate\u001b[0m\u001b[1;33m.\u001b[0m\u001b[0mserver_enabled\u001b[0m\u001b[1;33m:\u001b[0m\u001b[1;33m\u001b[0m\u001b[0m\n",
      "\u001b[1;32mC:\\Users\\Kevin\\Anaconda\\lib\\site-packages\\bokeh\\io.py\u001b[0m in \u001b[0;36m_show_notebook_with_state\u001b[1;34m(obj, state)\u001b[0m\n\u001b[0;32m    307\u001b[0m         \u001b[0mcomms_target\u001b[0m \u001b[1;33m=\u001b[0m \u001b[0mstr\u001b[0m\u001b[1;33m(\u001b[0m\u001b[0muuid\u001b[0m\u001b[1;33m.\u001b[0m\u001b[0muuid4\u001b[0m\u001b[1;33m(\u001b[0m\u001b[1;33m)\u001b[0m\u001b[1;33m)\u001b[0m\u001b[1;33m\u001b[0m\u001b[0m\n\u001b[0;32m    308\u001b[0m         \u001b[0mpublish_display_data\u001b[0m\u001b[1;33m(\u001b[0m\u001b[1;33m{\u001b[0m\u001b[1;34m'text/html'\u001b[0m\u001b[1;33m:\u001b[0m \u001b[0mnotebook_div\u001b[0m\u001b[1;33m(\u001b[0m\u001b[0mobj\u001b[0m\u001b[1;33m,\u001b[0m \u001b[0mcomms_target\u001b[0m\u001b[1;33m)\u001b[0m\u001b[1;33m}\u001b[0m\u001b[1;33m)\u001b[0m\u001b[1;33m\u001b[0m\u001b[0m\n\u001b[1;32m--> 309\u001b[1;33m         \u001b[0mhandle\u001b[0m \u001b[1;33m=\u001b[0m \u001b[0m_CommsHandle\u001b[0m\u001b[1;33m(\u001b[0m\u001b[0mget_comms\u001b[0m\u001b[1;33m(\u001b[0m\u001b[0mcomms_target\u001b[0m\u001b[1;33m)\u001b[0m\u001b[1;33m,\u001b[0m \u001b[0mstate\u001b[0m\u001b[1;33m.\u001b[0m\u001b[0mdocument\u001b[0m\u001b[1;33m,\u001b[0m \u001b[0mstate\u001b[0m\u001b[1;33m.\u001b[0m\u001b[0mdocument\u001b[0m\u001b[1;33m.\u001b[0m\u001b[0mto_json\u001b[0m\u001b[1;33m(\u001b[0m\u001b[1;33m)\u001b[0m\u001b[1;33m)\u001b[0m\u001b[1;33m\u001b[0m\u001b[0m\n\u001b[0m\u001b[0;32m    310\u001b[0m         \u001b[0mstate\u001b[0m\u001b[1;33m.\u001b[0m\u001b[0mlast_comms_handle\u001b[0m \u001b[1;33m=\u001b[0m \u001b[0mhandle\u001b[0m\u001b[1;33m\u001b[0m\u001b[0m\n\u001b[0;32m    311\u001b[0m         \u001b[1;32mreturn\u001b[0m \u001b[0mhandle\u001b[0m\u001b[1;33m\u001b[0m\u001b[0m\n",
      "\u001b[1;32mC:\\Users\\Kevin\\Anaconda\\lib\\site-packages\\bokeh\\util\\notebook.py\u001b[0m in \u001b[0;36mget_comms\u001b[1;34m(target_name)\u001b[0m\n\u001b[0;32m    105\u001b[0m \u001b[1;33m\u001b[0m\u001b[0m\n\u001b[0;32m    106\u001b[0m     '''\n\u001b[1;32m--> 107\u001b[1;33m     \u001b[1;32mfrom\u001b[0m \u001b[0mipykernel\u001b[0m\u001b[1;33m.\u001b[0m\u001b[0mcomm\u001b[0m \u001b[1;32mimport\u001b[0m \u001b[0mComm\u001b[0m\u001b[1;33m\u001b[0m\u001b[0m\n\u001b[0m\u001b[0;32m    108\u001b[0m     \u001b[1;32mreturn\u001b[0m \u001b[0mComm\u001b[0m\u001b[1;33m(\u001b[0m\u001b[0mtarget_name\u001b[0m\u001b[1;33m=\u001b[0m\u001b[0mtarget_name\u001b[0m\u001b[1;33m,\u001b[0m \u001b[0mdata\u001b[0m\u001b[1;33m=\u001b[0m\u001b[1;33m{\u001b[0m\u001b[1;33m}\u001b[0m\u001b[1;33m)\u001b[0m\u001b[1;33m\u001b[0m\u001b[0m\n\u001b[0;32m    109\u001b[0m \u001b[1;33m\u001b[0m\u001b[0m\n",
      "\u001b[1;31mImportError\u001b[0m: No module named ipykernel.comm"
     ]
    }
   ],
   "source": [
    "show(p)"
   ]
  },
  {
   "cell_type": "code",
   "execution_count": null,
   "metadata": {
    "collapsed": false
   },
   "outputs": [],
   "source": [
    "#IRIS Data Set\n",
    "from sklearn.datasets import load_iris\n",
    "import pandas as pd\n",
    "iris = load_iris()\n",
    "df=pd.DataFrame(iris.data)\n",
    "df.columns=[\"petal_width\",\"petal_length\",\"sepal_width\",\"sepal_length\"]\n",
    "\n",
    "#Import library\n",
    "from bokeh.charts import BoxPlot,output_notebook, show\n",
    "\n",
    "data=df[[\"petal_length\",\"sepal_length\"]]\n",
    "\n",
    "# Output to Notebook\n",
    "output_notebook()\n",
    "\n",
    "# create a new line chat with a title and axis labels\n",
    "p = BoxPlot(data[\"petal_length\",\"sepal_length\"], width=400, height=400)\n"
   ]
  },
  {
   "cell_type": "code",
   "execution_count": null,
   "metadata": {
    "collapsed": false
   },
   "outputs": [],
   "source": [
    "#IRIS Data Set\n",
    "from sklearn.datasets import load_iris\n",
    "import pandas as pd\n",
    "iris = load_iris()\n",
    "df=pd.DataFrame(iris.data,i)"
   ]
  },
  {
   "cell_type": "code",
   "execution_count": null,
   "metadata": {
    "collapsed": false
   },
   "outputs": [],
   "source": [
    "from ggplot import *\n",
    "diamonds.head()"
   ]
  },
  {
   "cell_type": "code",
   "execution_count": null,
   "metadata": {
    "collapsed": true
   },
   "outputs": [],
   "source": [
    "from bokeh.charts import BoxPlot, output_notebook, show"
   ]
  },
  {
   "cell_type": "code",
   "execution_count": null,
   "metadata": {
    "collapsed": false
   },
   "outputs": [],
   "source": [
    "# Output to Notebook\n",
    "output_notebook()\n"
   ]
  },
  {
   "cell_type": "code",
   "execution_count": null,
   "metadata": {
    "collapsed": true
   },
   "outputs": [],
   "source": [
    "# create a new line chat with a title and axis labels\n",
    "p = BoxPlot(diamonds,values='carat', label='color', width=400, height=400)\n"
   ]
  },
  {
   "cell_type": "code",
   "execution_count": null,
   "metadata": {
    "collapsed": false
   },
   "outputs": [],
   "source": [
    "show(p)"
   ]
  },
  {
   "cell_type": "code",
   "execution_count": null,
   "metadata": {
    "collapsed": true
   },
   "outputs": [],
   "source": []
  },
  {
   "cell_type": "code",
   "execution_count": null,
   "metadata": {
    "collapsed": true
   },
   "outputs": [],
   "source": []
  }
 ],
 "metadata": {
  "kernelspec": {
   "display_name": "Python 2",
   "language": "python",
   "name": "python2"
  },
  "language_info": {
   "codemirror_mode": {
    "name": "ipython",
    "version": 2
   },
   "file_extension": ".py",
   "mimetype": "text/x-python",
   "name": "python",
   "nbconvert_exporter": "python",
   "pygments_lexer": "ipython2",
   "version": "2.7.11"
  }
 },
 "nbformat": 4,
 "nbformat_minor": 0
}
