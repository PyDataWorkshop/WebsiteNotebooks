{
 "cells": [
  {
   "cell_type": "markdown",
   "metadata": {
    "collapsed": false
   },
   "source": [
    "The Gambler's Fallacy\n",
    "================================\n",
    "Back to <a href=\"index.html\">Main Page</a>\n",
    "\n",
    "The Gambler's fallacy, also known as the Monte Carlo fallacy\n",
    "(because its most famous example happened in a Monte Carlo Casino in\n",
    "1913),and also referred to as the fallacy of the maturity of chances.\n",
    "\n",
    "This fallacy is the belief that if deviations from expected behaviour are\n",
    "observed in repeated independent trials of some random process, future\n",
    "deviations in the opposite direction are then more likely. (Wikipedia)\n",
    "\n",
    "#### Monte Carlo 1913\n",
    "- The most famous example of the gambler's fallacy occurred in a game of roulette at the Monte Carlo Casino on August 18, 1913, when the ball fell in black 26 times in a row. \n",
    "- This was an extremely uncommon occurrence, although no more nor less common than any of the other 67,108,863 sequences\n",
    "of 26 red or black. \n",
    "- Gamblers lost millions of francs betting against black, reasoning incorrectly that the streak was causing an \"imbalance\" in the randomness of the wheel, and that it had to be followed by a long streak of red.\n"
   ]
  },
  {
   "cell_type": "markdown",
   "metadata": {
    "collapsed": false
   },
   "source": [
    "#### Implementation\n",
    "\n",
    "Firstly let simulate the outcomes of a Roulette Wheel. Something ever\n",
    "simplistic will suffice here.\n",
    "\n",
    "- For the sake of simplicity, we will disregard ***Green*** and let  ***Black*** be\n",
    "signiffied by an outcome of 1 and ***Red*** signified by an outcome of 2.\n",
    "\n",
    "- For this we will use the `rand()` command, as well as the `ceil()`\n",
    "command, which rounds a value up to the next highest integer."
   ]
  },
  {
   "cell_type": "code",
   "execution_count": 7,
   "metadata": {
    "collapsed": false
   },
   "outputs": [
    {
     "name": "stdout",
     "output_type": "stream",
     "text": [
      "[0.22045338502709333,1.8571431406923953,1.0277811816844475,0.20043715709001297,0.1841501852427263]\n"
     ]
    }
   ],
   "source": [
    "X = 2*rand(5)\n",
    "println(X)\n"
   ]
  },
  {
   "cell_type": "code",
   "execution_count": 8,
   "metadata": {
    "collapsed": false
   },
   "outputs": [
    {
     "name": "stdout",
     "output_type": "stream",
     "text": [
      "[1,2,2,1,1]\n"
     ]
    }
   ],
   "source": [
    "println( round(Int32,ceil(X))   ) #One for Red, Two for Black"
   ]
  },
  {
   "cell_type": "markdown",
   "metadata": {},
   "source": [
    "#### repeated colours\n",
    "\n",
    "What is of interest is the number of repeated outcomes. \n",
    "\n",
    "What we could do is to construct a `for` loop so as to monitor how often a colour repeats.\n",
    "\n",
    "Each time a new colour comes up, the sequence counter gets set to 1. If the next spin results in the same colour, the sequence number is set to 2, if it happens again, the next sequence number is 3, and so on.\n",
    "\n",
    "Firstly let set up a basic `for` loop to generate the colours. Ths code is more elaborate than the approach we used already, but it is easy to use this for studying repetitions.\n"
   ]
  },
  {
   "cell_type": "code",
   "execution_count": 9,
   "metadata": {
    "collapsed": false
   },
   "outputs": [],
   "source": [
    "M=100\n",
    "\n",
    "Colour=[]\n",
    "for(i in 1:M)\n",
    "        NextCol = round(Int32,ceil(2*rand(1)))\n",
    "        Colour = [Colour;NextCol]\n",
    "end"
   ]
  },
  {
   "cell_type": "markdown",
   "metadata": {},
   "source": [
    "If the current colour is the same as the last, then the current value in the sequence number vector is 1 more than the last.\n",
    "\n",
    "Otherwise the current sequence number is reset to 1."
   ]
  },
  {
   "cell_type": "code",
   "execution_count": 10,
   "metadata": {
    "collapsed": false
   },
   "outputs": [
    {
     "data": {
      "text/plain": [
       "3-element Array{Int32,1}:\n",
       " 1\n",
       " 2\n",
       " 1"
      ]
     },
     "execution_count": 10,
     "metadata": {},
     "output_type": "execute_result"
    }
   ],
   "source": [
    "Colour= round(Int32,ceil(2*rand(3)))"
   ]
  },
  {
   "cell_type": "code",
   "execution_count": 11,
   "metadata": {
    "collapsed": false
   },
   "outputs": [],
   "source": [
    "M=100\n",
    "for(i in 2:M)\n",
    "        NextCol = round(Int32,ceil(2*rand(i)))\n",
    "        Colour = [Colour ; NextCol]\n",
    "end"
   ]
  },
  {
   "cell_type": "code",
   "execution_count": 12,
   "metadata": {
    "collapsed": false
   },
   "outputs": [],
   "source": [
    "M=10000\n",
    "SeqNo=ones(M)\n",
    "Colour=round(Int32,ceil(2*rand(M)))\n",
    "\n",
    "for(i in 2:M)\n",
    "    if ( Colour[i] == Colour[i-1] )\n",
    "        SeqNo[i] = SeqNo[i-1]+1  \n",
    "    end\n",
    "end"
   ]
  },
  {
   "cell_type": "code",
   "execution_count": 13,
   "metadata": {
    "collapsed": false
   },
   "outputs": [
    {
     "data": {
      "text/plain": [
       "10000x2 Array{Float64,2}:\n",
       " 2.0  1.0\n",
       " 1.0  1.0\n",
       " 1.0  2.0\n",
       " 2.0  1.0\n",
       " 1.0  1.0\n",
       " 1.0  2.0\n",
       " 2.0  1.0\n",
       " 2.0  2.0\n",
       " 2.0  3.0\n",
       " 2.0  4.0\n",
       " 2.0  5.0\n",
       " 1.0  1.0\n",
       " 2.0  1.0\n",
       " ⋮       \n",
       " 1.0  3.0\n",
       " 2.0  1.0\n",
       " 2.0  2.0\n",
       " 1.0  1.0\n",
       " 1.0  2.0\n",
       " 2.0  1.0\n",
       " 1.0  1.0\n",
       " 2.0  1.0\n",
       " 1.0  1.0\n",
       " 2.0  1.0\n",
       " 2.0  2.0\n",
       " 2.0  3.0"
      ]
     },
     "execution_count": 13,
     "metadata": {},
     "output_type": "execute_result"
    }
   ],
   "source": [
    "[Colour SeqNo]"
   ]
  },
  {
   "cell_type": "markdown",
   "metadata": {
    "collapsed": false
   },
   "source": [
    "#### Getting Chain lengths\n"
   ]
  },
  {
   "cell_type": "code",
   "execution_count": 16,
   "metadata": {
    "collapsed": false
   },
   "outputs": [
    {
     "data": {
      "text/plain": [
       "4933-element Array{Any,1}:\n",
       " 1.0\n",
       " 2.0\n",
       " 1.0\n",
       " 2.0\n",
       " 5.0\n",
       " 1.0\n",
       " 1.0\n",
       " 1.0\n",
       " 2.0\n",
       " 7.0\n",
       " 3.0\n",
       " 1.0\n",
       " 1.0\n",
       " ⋮  \n",
       " 3.0\n",
       " 3.0\n",
       " 1.0\n",
       " 1.0\n",
       " 3.0\n",
       " 2.0\n",
       " 2.0\n",
       " 1.0\n",
       " 1.0\n",
       " 1.0\n",
       " 1.0\n",
       " 3.0"
      ]
     },
     "execution_count": 16,
     "metadata": {},
     "output_type": "execute_result"
    }
   ],
   "source": [
    "n=size(SeqNo)[1]\n",
    "chainlengths=[]\n",
    "for i in 1:(n-1)\n",
    "    if SeqNo[i] >= SeqNo[i+1]    \n",
    "        push!(chainlengths,SeqNo[i])\n",
    "    end\n",
    "end\n",
    "# The last item will necessarily be a chainlength also.\n",
    "push!(chainlengths,SeqNo[end])"
   ]
  },
  {
   "cell_type": "code",
   "execution_count": 17,
   "metadata": {
    "collapsed": false
   },
   "outputs": [
    {
     "data": {
      "text/plain": [
       "4933-element Array{Any,1}:\n",
       "  1.0\n",
       "  1.0\n",
       "  1.0\n",
       "  1.0\n",
       "  1.0\n",
       "  1.0\n",
       "  1.0\n",
       "  1.0\n",
       "  1.0\n",
       "  1.0\n",
       "  1.0\n",
       "  1.0\n",
       "  1.0\n",
       "  ⋮  \n",
       "  9.0\n",
       "  9.0\n",
       "  9.0\n",
       "  9.0\n",
       "  9.0\n",
       "  9.0\n",
       " 10.0\n",
       " 10.0\n",
       " 10.0\n",
       " 11.0\n",
       " 12.0\n",
       " 13.0"
      ]
     },
     "execution_count": 17,
     "metadata": {},
     "output_type": "execute_result"
    }
   ],
   "source": [
    "sort(chainlengths)"
   ]
  }
 ],
 "metadata": {
  "kernelspec": {
   "display_name": "Julia 0.4.5",
   "language": "julia",
   "name": "julia-0.4"
  },
  "language_info": {
   "file_extension": ".jl",
   "mimetype": "application/julia",
   "name": "julia",
   "version": "0.4.5"
  }
 },
 "nbformat": 4,
 "nbformat_minor": 0
}
