{
 "cells": [
  {
   "cell_type": "markdown",
   "metadata": {},
   "source": [
    "\n",
    "Mouse In A Maze\n",
    "===================\n",
    "A mouse is in a room with four exits at the centre of a maze. \n",
    "\n",
    "- Exit A leads outside the maze after 4 minutes. \n",
    "- Exit B leads back to the room after 2 minutes. \n",
    "- Exit C leads back to the room after 5 minutes. \n",
    "- Exit D leads back to the room after 6 minutes.\n",
    "\n",
    "Every time the mouse makes a choice, it is equally likely to choose any of the four\n",
    "exits. Let T be the total time taken for the mouse to leave the maze.\n",
    "\n",
    "1. Find E(T):\n",
    "2. Given that the mouse last left the room 3 minutes ago, find the probability that\n",
    "the mouse has chosen the escape route (Exit A).\n",
    "3. Starting at the room, find the probability that the mouse escapes in exactly 6\n",
    "minutes."
   ]
  },
  {
   "cell_type": "code",
   "execution_count": 12,
   "metadata": {
    "collapsed": false
   },
   "outputs": [
    {
     "data": {
      "text/plain": [
       "4-element Array{ASCIIString,1}:\n",
       " \"A\"\n",
       " \"B\"\n",
       " \"C\"\n",
       " \"D\""
      ]
     },
     "execution_count": 12,
     "metadata": {},
     "output_type": "execute_result"
    }
   ],
   "source": [
    "Doors = [\"A\",\"B\",\"C\",\"D\"]\n"
   ]
  },
  {
   "cell_type": "code",
   "execution_count": 13,
   "metadata": {
    "collapsed": false
   },
   "outputs": [
    {
     "data": {
      "text/plain": [
       "5-element Array{Float64,1}:\n",
       " 0.481149 \n",
       " 0.347582 \n",
       " 0.383001 \n",
       " 0.7752   \n",
       " 0.0570295"
      ]
     },
     "execution_count": 13,
     "metadata": {},
     "output_type": "execute_result"
    }
   ],
   "source": [
    "rand(5)"
   ]
  },
  {
   "cell_type": "code",
   "execution_count": 14,
   "metadata": {
    "collapsed": false
   },
   "outputs": [
    {
     "data": {
      "text/plain": [
       "\"B\""
      ]
     },
     "execution_count": 14,
     "metadata": {},
     "output_type": "execute_result"
    }
   ],
   "source": [
    "ChooseDoor = Doors[rand(1:end)]\n",
    "ChooseDoor"
   ]
  },
  {
   "cell_type": "code",
   "execution_count": 15,
   "metadata": {
    "collapsed": false
   },
   "outputs": [
    {
     "data": {
      "text/plain": [
       "true"
      ]
     },
     "execution_count": 15,
     "metadata": {},
     "output_type": "execute_result"
    }
   ],
   "source": [
    "InMaze = true"
   ]
  },
  {
   "cell_type": "code",
   "execution_count": 16,
   "metadata": {
    "collapsed": false
   },
   "outputs": [
    {
     "data": {
      "text/plain": [
       "Bool"
      ]
     },
     "execution_count": 16,
     "metadata": {},
     "output_type": "execute_result"
    }
   ],
   "source": [
    "eltype(InMaze) #Boolean"
   ]
  },
  {
   "cell_type": "code",
   "execution_count": 17,
   "metadata": {
    "collapsed": false
   },
   "outputs": [
    {
     "data": {
      "text/plain": [
       "\"A\""
      ]
     },
     "execution_count": 17,
     "metadata": {},
     "output_type": "execute_result"
    }
   ],
   "source": [
    "ChooseDoor = Doors[rand(1:end)]\n",
    "\n",
    "if ChooseDoor==\"A\"\n",
    "    InMaze =  false\n",
    "end\n",
    "\n",
    "ChooseDoor = Doors[rand(1:end)]\n"
   ]
  },
  {
   "cell_type": "code",
   "execution_count": 18,
   "metadata": {
    "collapsed": false
   },
   "outputs": [
    {
     "data": {
      "text/plain": [
       "true"
      ]
     },
     "execution_count": 18,
     "metadata": {},
     "output_type": "execute_result"
    }
   ],
   "source": [
    "ChooseDoor==\"A\""
   ]
  },
  {
   "cell_type": "code",
   "execution_count": 19,
   "metadata": {
    "collapsed": false
   },
   "outputs": [
    {
     "name": "stdout",
     "output_type": "stream",
     "text": [
      "C\n",
      "B\n",
      "C\n",
      "A\n"
     ]
    }
   ],
   "source": [
    "TimeTaken =0\n",
    "InMaze = true\n",
    "while (InMaze == true)\n",
    "    ChooseDoor = Doors[rand(1:end)]\n",
    "        if ChooseDoor==\"A\"\n",
    "            TimeTaken =TimeTaken+4\n",
    "            InMaze =  false\n",
    "        end\n",
    "        if ChooseDoor==\"B\"\n",
    "            TimeTaken =TimeTaken+2\n",
    "            InMaze =  true \n",
    "        end\n",
    "        if ChooseDoor==\"C\"\n",
    "            TimeTaken =TimeTaken+5\n",
    "            InMaze =  true  \n",
    "        end\n",
    "        if ChooseDoor==\"D\"\n",
    "            TimeTaken =TimeTaken+6\n",
    "            InMaze =  true\n",
    "        end\n",
    "    println(ChooseDoor)\n",
    "    # println(TimeTaken)\n",
    "end\n",
    "\n",
    "    \n",
    "    \n",
    "    \n",
    "    \n"
   ]
  },
  {
   "cell_type": "code",
   "execution_count": 22,
   "metadata": {
    "collapsed": true
   },
   "outputs": [],
   "source": [
    "TimesDistribution=[]\n",
    "N= 10000000\n",
    "for i in 1:N\n",
    "    TimeTaken =0\n",
    "    InMaze = true\n",
    "    while (InMaze == true)\n",
    "        ChooseDoor = Doors[rand(1:end)]\n",
    "        if ChooseDoor==\"A\"\n",
    "            TimeTaken =TimeTaken+4\n",
    "            InMaze =  false\n",
    "        end\n",
    "        if ChooseDoor==\"B\"\n",
    "            TimeTaken =TimeTaken+2\n",
    "            InMaze =  true \n",
    "        end\n",
    "        if ChooseDoor==\"C\"\n",
    "            TimeTaken =TimeTaken+5\n",
    "            InMaze =  true  \n",
    "        end\n",
    "        if ChooseDoor==\"D\"\n",
    "            TimeTaken =TimeTaken+6\n",
    "            InMaze =  true\n",
    "        end\n",
    "     end\n",
    "    push!(TimesDistribution,TimeTaken)\n",
    "end    \n",
    "\n",
    "    "
   ]
  },
  {
   "cell_type": "code",
   "execution_count": 21,
   "metadata": {
    "collapsed": false
   },
   "outputs": [
    {
     "data": {
      "text/plain": [
       "144-element Array{Any,1}:\n",
       "   4\n",
       "   6\n",
       "   8\n",
       "   9\n",
       "  10\n",
       "  11\n",
       "  12\n",
       "  13\n",
       "  14\n",
       "  15\n",
       "  16\n",
       "  17\n",
       "  18\n",
       "   ⋮\n",
       " 140\n",
       " 141\n",
       " 142\n",
       " 144\n",
       " 148\n",
       " 151\n",
       " 155\n",
       " 157\n",
       " 171\n",
       " 172\n",
       " 176\n",
       " 205"
      ]
     },
     "execution_count": 21,
     "metadata": {},
     "output_type": "execute_result"
    }
   ],
   "source": [
    "sort(unique(TimesDistribution))"
   ]
  },
  {
   "cell_type": "code",
   "execution_count": 37,
   "metadata": {
    "collapsed": false
   },
   "outputs": [
    {
     "data": {
      "text/plain": [
       "0.3125073"
      ]
     },
     "execution_count": 37,
     "metadata": {},
     "output_type": "execute_result"
    }
   ],
   "source": [
    "length(TimesDistribution[TimesDistribution.<=6])/N"
   ]
  },
  {
   "cell_type": "code",
   "execution_count": 36,
   "metadata": {
    "collapsed": false
   },
   "outputs": [
    {
     "data": {
      "text/plain": [
       "10000000-element Array{Any,1}:\n",
       "   4\n",
       "   4\n",
       "   4\n",
       "   4\n",
       "   4\n",
       "   4\n",
       "   4\n",
       "   4\n",
       "   4\n",
       "   4\n",
       "   4\n",
       "   4\n",
       "   4\n",
       "   ⋮\n",
       " 211\n",
       " 211\n",
       " 212\n",
       " 213\n",
       " 213\n",
       " 214\n",
       " 216\n",
       " 222\n",
       " 224\n",
       " 224\n",
       " 226\n",
       " 245"
      ]
     },
     "execution_count": 36,
     "metadata": {},
     "output_type": "execute_result"
    }
   ],
   "source": [
    "sort!(TimesDistribution)"
   ]
  },
  {
   "cell_type": "code",
   "execution_count": 26,
   "metadata": {
    "collapsed": false
   },
   "outputs": [
    {
     "data": {
      "text/plain": [
       "4"
      ]
     },
     "execution_count": 26,
     "metadata": {},
     "output_type": "execute_result"
    }
   ],
   "source": [
    "TimesDistribution[Int64(N/2)]"
   ]
  },
  {
   "cell_type": "code",
   "execution_count": 27,
   "metadata": {
    "collapsed": false
   },
   "outputs": [
    {
     "data": {
      "text/plain": [
       "17.0071132"
      ]
     },
     "execution_count": 27,
     "metadata": {},
     "output_type": "execute_result"
    }
   ],
   "source": [
    "mean(TimesDistribution)"
   ]
  },
  {
   "cell_type": "code",
   "execution_count": 28,
   "metadata": {
    "collapsed": false
   },
   "outputs": [
    {
     "data": {
      "text/plain": [
       "5000000"
      ]
     },
     "execution_count": 28,
     "metadata": {},
     "output_type": "execute_result"
    }
   ],
   "source": [
    "Int64(N/2)\n"
   ]
  },
  {
   "cell_type": "code",
   "execution_count": 29,
   "metadata": {
    "collapsed": false
   },
   "outputs": [
    {
     "data": {
      "text/plain": [
       "10000000"
      ]
     },
     "execution_count": 29,
     "metadata": {},
     "output_type": "execute_result"
    }
   ],
   "source": [
    "N"
   ]
  },
  {
   "cell_type": "code",
   "execution_count": 30,
   "metadata": {
    "collapsed": false
   },
   "outputs": [
    {
     "data": {
      "text/plain": [
       "Int32"
      ]
     },
     "execution_count": 30,
     "metadata": {},
     "output_type": "execute_result"
    }
   ],
   "source": [
    "eltype(N)"
   ]
  },
  {
   "cell_type": "code",
   "execution_count": 31,
   "metadata": {
    "collapsed": false
   },
   "outputs": [
    {
     "data": {
      "text/plain": [
       "5.0e6"
      ]
     },
     "execution_count": 31,
     "metadata": {},
     "output_type": "execute_result"
    }
   ],
   "source": [
    "N/2"
   ]
  },
  {
   "cell_type": "code",
   "execution_count": 32,
   "metadata": {
    "collapsed": false
   },
   "outputs": [
    {
     "data": {
      "text/plain": [
       "Float64"
      ]
     },
     "execution_count": 32,
     "metadata": {},
     "output_type": "execute_result"
    }
   ],
   "source": [
    "eltype(N/2)"
   ]
  },
  {
   "cell_type": "code",
   "execution_count": null,
   "metadata": {
    "collapsed": true
   },
   "outputs": [],
   "source": []
  }
 ],
 "metadata": {
  "kernelspec": {
   "display_name": "Julia 0.4.5",
   "language": "julia",
   "name": "julia-0.4"
  },
  "language_info": {
   "file_extension": ".jl",
   "mimetype": "application/julia",
   "name": "julia",
   "version": "0.4.5"
  }
 },
 "nbformat": 4,
 "nbformat_minor": 0
}
