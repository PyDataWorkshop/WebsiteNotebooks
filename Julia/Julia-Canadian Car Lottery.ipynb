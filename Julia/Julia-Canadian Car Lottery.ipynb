{
 "cells": [
  {
   "cell_type": "markdown",
   "metadata": {},
   "source": [
    "Canadian Car Lottery\n",
    "================================\n",
    "\n",
    "Back to <a href=\"index.html\">main page</a>\n",
    "\n",
    "- ***The Drunkard's Walk: How Randomness Rules Our Lives*** is a 2008 popular science book by American physicist and author Leonard Mlodinow\n",
    "\n",
    "\n",
    "- A few years ago Canadian lottery officials learned the importance of\n",
    "careful counting the hard way when they decided to give back some\n",
    "unclaimed prize money that had accumulated.\n",
    "- They purchased 500 cars as bonus prizes and programmed a computer\n",
    "to determine the winners by randomly selecting 500 numbers from their\n",
    "list of 2.4 million subscriber numbers.\n",
    "- The officials published the unsorted list of 500 winning numbers, promis-\n",
    "ing an automobile for each number listed.\n",
    "- To their embarrassment, one individual claimed (rightly) that he had\n",
    "won two cars.\n",
    "- With over 2 million numbers to choose from, how could the computer\n",
    "have randomly chosen the same number twice?\n",
    "- When pulling from a pool of 2.4 million, as in the case of the Canadian\n",
    "lottery, it takes many more than 500 numbers to have an even chance of\n",
    "a repeat.\n",
    "- But still that possibility should not have been ignored. The chances of\n",
    "a match come out, in fact, to about 5 percent. Not huge, but it could\n",
    "have been accounted for by having the computer cross each number off\n",
    "the list as it was chosen.\n",
    "- For the record, the Canadian lottery requested the lucky fellow to forgo\n",
    "the second car, but he said no.\n",
    "\n",
    "#### Inplementation\n",
    "- Pick 500 Ticket Numbers from population of size 2400000\n",
    "- Sampling with replacement\n",
    "- What is the probability of at least one ticket getting selected more than once\n",
    "- First, let us generate a random draw"
   ]
  },
  {
   "cell_type": "code",
   "execution_count": 10,
   "metadata": {
    "collapsed": false
   },
   "outputs": [
    {
     "data": {
      "text/plain": [
       "1"
      ]
     },
     "execution_count": 10,
     "metadata": {},
     "output_type": "execute_result"
    }
   ],
   "source": [
    "trunc(Int32,1.54)"
   ]
  },
  {
   "cell_type": "code",
   "execution_count": 79,
   "metadata": {
    "collapsed": false
   },
   "outputs": [
    {
     "data": {
      "text/plain": [
       "10-element Array{Float64,1}:\n",
       "      1.7854e6 \n",
       "      1.67527e6\n",
       "      2.06689e6\n",
       " 978564.0      \n",
       "      1.07221e6\n",
       " 528351.0      \n",
       "      1.80167e6\n",
       " 317087.0      \n",
       " 297682.0      \n",
       " 647819.0      "
      ]
     },
     "execution_count": 79,
     "metadata": {},
     "output_type": "execute_result"
    }
   ],
   "source": [
    "n=500;pop=2400000\n",
    "\n",
    "X= ceil(pop*rand(n));\n",
    "\n",
    "X[1:10]"
   ]
  },
  {
   "cell_type": "markdown",
   "metadata": {},
   "source": [
    "- While not absolutely necessary, we will convert X into a set of integers."
   ]
  },
  {
   "cell_type": "code",
   "execution_count": 80,
   "metadata": {
    "collapsed": false
   },
   "outputs": [
    {
     "data": {
      "text/plain": [
       "10-element Array{Int32,1}:\n",
       " 1785399\n",
       " 1675266\n",
       " 2066894\n",
       "  978564\n",
       " 1072208\n",
       "  528351\n",
       " 1801671\n",
       "  317087\n",
       "  297682\n",
       "  647819"
      ]
     },
     "execution_count": 80,
     "metadata": {},
     "output_type": "execute_result"
    }
   ],
   "source": [
    "X=round(Int32,X)[1:10]"
   ]
  },
  {
   "cell_type": "code",
   "execution_count": 11,
   "metadata": {
    "collapsed": false
   },
   "outputs": [
    {
     "data": {
      "text/plain": [
       "3-element Array{Int32,1}:\n",
       " 4\n",
       " 5\n",
       " 6"
      ]
     },
     "execution_count": 11,
     "metadata": {},
     "output_type": "execute_result"
    }
   ],
   "source": [
    "X=[4,4,5,6]\n",
    "Y = unique(X)"
   ]
  },
  {
   "cell_type": "code",
   "execution_count": 18,
   "metadata": {
    "collapsed": false
   },
   "outputs": [
    {
     "name": "stdout",
     "output_type": "stream",
     "text": [
      "(4,)\n",
      "(3,)\n",
      "true\n"
     ]
    }
   ],
   "source": [
    "println( size(X) )\n",
    "println( size(Y) )\n",
    "println( size(X) != size(Y) )"
   ]
  },
  {
   "cell_type": "code",
   "execution_count": 20,
   "metadata": {
    "collapsed": false
   },
   "outputs": [
    {
     "data": {
      "text/plain": [
       "2"
      ]
     },
     "execution_count": 20,
     "metadata": {},
     "output_type": "execute_result"
    }
   ],
   "source": [
    "1+true"
   ]
  },
  {
   "cell_type": "code",
   "execution_count": null,
   "metadata": {
    "collapsed": false
   },
   "outputs": [],
   "source": [
    "count=0;n=500;pop=2400000;M=100000\n",
    "\n",
    "for (i in 1:M)\n",
    "    X= ceil(pop*rand(n))\n",
    "    X=round(Int32,X)\n",
    "    count=count+(size(X)!=size(unique(X)))\n",
    "end\n",
    "count/M *100"
   ]
  },
  {
   "cell_type": "markdown",
   "metadata": {},
   "source": [
    "- In the case of duplicates, find out what they are\n",
    "- will return an empty array in the case of no duplicates"
   ]
  },
  {
   "cell_type": "code",
   "execution_count": 82,
   "metadata": {
    "collapsed": false
   },
   "outputs": [],
   "source": [
    "Same=[0]\n",
    "for (i in 2:size(X)[1])\n",
    "    Same=[Same; sum([sort(X)[i]==sort(X)[i-1]])]\n",
    "end"
   ]
  },
  {
   "cell_type": "code",
   "execution_count": 83,
   "metadata": {
    "collapsed": false
   },
   "outputs": [
    {
     "data": {
      "text/plain": [
       "0-element Array{Int32,1}"
      ]
     },
     "execution_count": 83,
     "metadata": {},
     "output_type": "execute_result"
    }
   ],
   "source": [
    "sort(X)[Same.==1]"
   ]
  },
  {
   "cell_type": "code",
   "execution_count": null,
   "metadata": {
    "collapsed": true
   },
   "outputs": [],
   "source": []
  },
  {
   "cell_type": "code",
   "execution_count": null,
   "metadata": {
    "collapsed": true
   },
   "outputs": [],
   "source": []
  }
 ],
 "metadata": {
  "kernelspec": {
   "display_name": "Julia 0.4.5",
   "language": "julia",
   "name": "julia-0.4"
  },
  "language_info": {
   "file_extension": ".jl",
   "mimetype": "application/julia",
   "name": "julia",
   "version": "0.4.5"
  }
 },
 "nbformat": 4,
 "nbformat_minor": 0
}
