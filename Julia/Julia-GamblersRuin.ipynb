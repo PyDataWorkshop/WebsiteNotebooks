{
 "cells": [
  {
   "cell_type": "markdown",
   "metadata": {},
   "source": [
    "Gambler's Ruin with Julia\n",
    "================================\n",
    "\n",
    "Back to <a href=\"index.html\">main page</a>"
   ]
  },
  {
   "cell_type": "markdown",
   "metadata": {},
   "source": [
    "#### Part 1. Introduction to  Gambler's Ruin\n",
    "Consider a gambler who starts with an initial fortune of 1 dollar and then on each successive gamble\n",
    "either wins 1 dollar or loses 1 dollar independent of the past with probabilities p and q = 1-p respectively.\n",
    "\n",
    "Suppose the gambler has a starting kitty of A. This gamblers places bets with the Banker,\n",
    "who has an initial fortune B. We will look at the game from the perspective of the gambler\n",
    "only. The Banker is, by convention, the richer of the two.\n",
    "- Probability of successful gamble for gambler : p\n",
    "- Probability of unsuccessful gamble for gambler : q (where q = 1 - p )\n",
    "- Ratio of success probability to failure success: s = p=q\n",
    "- Conventionally the game is biased in favour of the Banker (i.e. q > p and s < 1)\n",
    "\n",
    "Let ***R*** denote the Gamblers total fortune after the n􀀀th gamble.\n",
    "If the Gambler wins the first game, his wealth becomes R = A + 1. \n",
    "If he loses the first\n",
    "gamble, his wealth becomes R = A 􀀀 1.\n",
    "The entire sum of money at stake is the Jackpot i.e.\n",
    "A + B. \n",
    "The game ends when the Gambler wins the Jackpot (Rn = A + B) or loses everything\n",
    "(Rn = 0).\n",
    "\n"
   ]
  },
  {
   "cell_type": "markdown",
   "metadata": {},
   "source": [
    " #### Part 2. Some Useful Commands\n",
    " \n",
    " - `rand()` - uniform random number generator\n",
    " - `sign()` - Sign function (returns -1 for a negative number,0 for zero, 1 for positive)\n",
    " - `cumsum()` - cumulative sum of an array of numbers"
   ]
  },
  {
   "cell_type": "code",
   "execution_count": 13,
   "metadata": {
    "collapsed": false
   },
   "outputs": [
    {
     "data": {
      "text/plain": [
       "3-element Array{Float64,1}:\n",
       " 0.322973\n",
       " 0.635995\n",
       " 0.681598"
      ]
     },
     "execution_count": 13,
     "metadata": {},
     "output_type": "execute_result"
    }
   ],
   "source": [
    "rand(3) # 3 uniformly distributed numbers (0 to 1)"
   ]
  },
  {
   "cell_type": "code",
   "execution_count": 14,
   "metadata": {
    "collapsed": false
   },
   "outputs": [
    {
     "data": {
      "text/plain": [
       "2-element Array{Float64,1}:\n",
       "  1.0\n",
       " -1.0"
      ]
     },
     "execution_count": 14,
     "metadata": {},
     "output_type": "execute_result"
    }
   ],
   "source": [
    "sign([0.54,-0.65])"
   ]
  },
  {
   "cell_type": "code",
   "execution_count": 15,
   "metadata": {
    "collapsed": false
   },
   "outputs": [
    {
     "data": {
      "text/plain": [
       "0"
      ]
     },
     "execution_count": 15,
     "metadata": {},
     "output_type": "execute_result"
    }
   ],
   "source": [
    "sign(0)"
   ]
  },
  {
   "cell_type": "markdown",
   "metadata": {},
   "source": [
    "#### simulation of 10 rounds of fair gambling. "
   ]
  },
  {
   "cell_type": "markdown",
   "metadata": {},
   "source": [
    "- Gambler Loses : outcome is -1 (probability is 50%) \n",
    "- Gambler wins  : outcome is 1 (probability is 50%)"
   ]
  },
  {
   "cell_type": "code",
   "execution_count": 16,
   "metadata": {
    "collapsed": false
   },
   "outputs": [
    {
     "data": {
      "text/plain": [
       "10-element Array{Float64,1}:\n",
       "  1.0\n",
       "  1.0\n",
       "  1.0\n",
       "  1.0\n",
       "  1.0\n",
       " -1.0\n",
       "  1.0\n",
       " -1.0\n",
       "  1.0\n",
       " -1.0"
      ]
     },
     "execution_count": 16,
     "metadata": {},
     "output_type": "execute_result"
    }
   ],
   "source": [
    "X = sign(0.5-rand(10)) # 50% chance of win or loss"
   ]
  },
  {
   "cell_type": "code",
   "execution_count": 17,
   "metadata": {
    "collapsed": false
   },
   "outputs": [
    {
     "data": {
      "text/plain": [
       "10-element Array{Float64,1}:\n",
       " 1.0\n",
       " 2.0\n",
       " 3.0\n",
       " 4.0\n",
       " 5.0\n",
       " 4.0\n",
       " 5.0\n",
       " 4.0\n",
       " 5.0\n",
       " 4.0"
      ]
     },
     "execution_count": 17,
     "metadata": {},
     "output_type": "execute_result"
    }
   ],
   "source": [
    "cumsum(X)"
   ]
  },
  {
   "cell_type": "markdown",
   "metadata": {
    "collapsed": true
   },
   "source": [
    "Suppose Gambler Starts with initial fund A = 20"
   ]
  },
  {
   "cell_type": "code",
   "execution_count": 18,
   "metadata": {
    "collapsed": false
   },
   "outputs": [
    {
     "data": {
      "text/plain": [
       "11-element Array{Float64,1}:\n",
       " 20.0\n",
       " 21.0\n",
       " 22.0\n",
       " 23.0\n",
       " 24.0\n",
       " 23.0\n",
       " 22.0\n",
       " 21.0\n",
       " 22.0\n",
       " 21.0\n",
       " 20.0"
      ]
     },
     "execution_count": 18,
     "metadata": {},
     "output_type": "execute_result"
    }
   ],
   "source": [
    "A = 20;\n",
    "cumsum([A;sign(0.5-rand(10))])"
   ]
  },
  {
   "cell_type": "markdown",
   "metadata": {},
   "source": [
    "###### - Suppose Gambler has only 45% chance of winning (p=0.45). \n",
    "- Simulated for 100 rounds (n=100)."
   ]
  },
  {
   "cell_type": "code",
   "execution_count": 19,
   "metadata": {
    "collapsed": false
   },
   "outputs": [
    {
     "data": {
      "text/plain": [
       "101-element Array{Float64,1}:\n",
       " 20.0\n",
       " 19.0\n",
       " 20.0\n",
       " 21.0\n",
       " 20.0\n",
       " 21.0\n",
       " 20.0\n",
       " 19.0\n",
       " 18.0\n",
       " 19.0\n",
       " 20.0\n",
       " 21.0\n",
       " 22.0\n",
       "  ⋮  \n",
       "  9.0\n",
       "  8.0\n",
       "  7.0\n",
       "  6.0\n",
       "  7.0\n",
       "  6.0\n",
       "  5.0\n",
       "  4.0\n",
       "  5.0\n",
       "  4.0\n",
       "  3.0\n",
       "  4.0"
      ]
     },
     "execution_count": 19,
     "metadata": {},
     "output_type": "execute_result"
    }
   ],
   "source": [
    "A = 20;p=0.45; n=100\n",
    "cumsum([A;sign(p-rand(n))])"
   ]
  },
  {
   "cell_type": "markdown",
   "metadata": {},
   "source": [
    "#### Working with Relational Operators\n",
    "- create a simple array of some integers\n",
    "- create a logical check to see if each number is greater than 3\n",
    "- compute the frequency and proportion"
   ]
  },
  {
   "cell_type": "code",
   "execution_count": 20,
   "metadata": {
    "collapsed": false
   },
   "outputs": [
    {
     "data": {
      "text/plain": [
       "9-element BitArray{1}:\n",
       "  true\n",
       "  true\n",
       "  true\n",
       " false\n",
       " false\n",
       "  true\n",
       " false\n",
       "  true\n",
       "  true"
      ]
     },
     "execution_count": 20,
     "metadata": {},
     "output_type": "execute_result"
    }
   ],
   "source": [
    "X = [5 ,60, 6, 1,3,7,0,4,7]\n",
    "X .> 3\n"
   ]
  },
  {
   "cell_type": "code",
   "execution_count": 21,
   "metadata": {
    "collapsed": false
   },
   "outputs": [
    {
     "data": {
      "text/plain": [
       "10-element Array{Int32,1}:\n",
       "  7\n",
       "  5\n",
       " 60\n",
       "  6\n",
       "  1\n",
       "  3\n",
       "  7\n",
       "  0\n",
       "  4\n",
       "  7"
      ]
     },
     "execution_count": 21,
     "metadata": {},
     "output_type": "execute_result"
    }
   ],
   "source": [
    "unshift!(X,7)"
   ]
  },
  {
   "cell_type": "code",
   "execution_count": 22,
   "metadata": {
    "collapsed": false
   },
   "outputs": [
    {
     "data": {
      "text/plain": [
       "10-element Array{Int32,1}:\n",
       "  7\n",
       "  5\n",
       " 60\n",
       "  6\n",
       "  1\n",
       "  3\n",
       "  7\n",
       "  0\n",
       "  4\n",
       "  7"
      ]
     },
     "execution_count": 22,
     "metadata": {},
     "output_type": "execute_result"
    }
   ],
   "source": [
    "X"
   ]
  },
  {
   "cell_type": "code",
   "execution_count": 23,
   "metadata": {
    "collapsed": false
   },
   "outputs": [
    {
     "name": "stdout",
     "output_type": "stream",
     "text": [
      "7\n",
      "0.7\n",
      "false\n"
     ]
    }
   ],
   "source": [
    "println( sum(X.>3)  ) # frequency\n",
    "println( mean(X.>3) ) # proportion\n",
    "println( all(X.>3)  ) # are all greater than 3\n",
    "println( any(X.>3)  ) # are any greater than 3\n"
   ]
  },
  {
   "cell_type": "markdown",
   "metadata": {},
   "source": [
    "### What is probability of being broke after 100 rounds of gambling?\n",
    "- Suppose gambler does not have to settle up until the end\n",
    "- Opening balance is A and probability of winning is p\n"
   ]
  },
  {
   "cell_type": "code",
   "execution_count": 24,
   "metadata": {
    "collapsed": false
   },
   "outputs": [],
   "source": [
    "M=100000\n",
    "A = 16;p=0.40; n=100\n",
    "\n",
    "closing=[]  #closing balance\n",
    "for j in 1:M\n",
    "    balance=cumsum([A;sign(p-rand(n))])\n",
    "    push!(closing,balance[end])\n",
    "end\n",
    "\n",
    "# unshift!, shift!, pop!, push!"
   ]
  },
  {
   "cell_type": "code",
   "execution_count": 25,
   "metadata": {
    "collapsed": false
   },
   "outputs": [
    {
     "data": {
      "text/plain": [
       "30.064999999999998"
      ]
     },
     "execution_count": 25,
     "metadata": {},
     "output_type": "execute_result"
    },
    {
     "name": "stdout",
     "output_type": "stream",
     "text": [
      "true\n"
     ]
    }
   ],
   "source": [
    "sum(sign(closing).==1)/M *100"
   ]
  },
  {
   "cell_type": "markdown",
   "metadata": {},
   "source": [
    "#### what is the probability of the gambler ending up with more money?"
   ]
  },
  {
   "cell_type": "code",
   "execution_count": 26,
   "metadata": {
    "collapsed": false
   },
   "outputs": [
    {
     "data": {
      "text/plain": [
       "2.707"
      ]
     },
     "execution_count": 26,
     "metadata": {},
     "output_type": "execute_result"
    }
   ],
   "source": [
    "sum(closing.>=A)/M *100"
   ]
  },
  {
   "cell_type": "code",
   "execution_count": 27,
   "metadata": {
    "collapsed": false
   },
   "outputs": [
    {
     "data": {
      "text/plain": [
       "false"
      ]
     },
     "execution_count": 27,
     "metadata": {},
     "output_type": "execute_result"
    }
   ],
   "source": [
    "n=500\n",
    "balance=cumsum([A;sign(p-rand(n))])\n",
    "all(balance .>= 0)"
   ]
  },
  {
   "cell_type": "code",
   "execution_count": 28,
   "metadata": {
    "collapsed": true
   },
   "outputs": [],
   "source": [
    "M=100000\n",
    "A =12;p=0.45; n=100\n",
    "\n",
    "solvent=[]  #closing balance\n",
    "for j in 1:M\n",
    "    balance=cumsum([A;sign(p-rand(n))])\n",
    "    all(balance .>= 0)\n",
    "    push!(solvent,all(balance .>= 0))\n",
    "end"
   ]
  },
  {
   "cell_type": "code",
   "execution_count": 29,
   "metadata": {
    "collapsed": false
   },
   "outputs": [
    {
     "data": {
      "text/plain": [
       "47.296"
      ]
     },
     "execution_count": 29,
     "metadata": {},
     "output_type": "execute_result"
    }
   ],
   "source": [
    "round(((sum(solvent)/M)*100),4)"
   ]
  },
  {
   "cell_type": "markdown",
   "metadata": {},
   "source": [
    "**Remark: **\n",
    "- If the gambler has zero funds, no further gambling is possible. \n",
    "- Let us assume that it will happen eventually, but we don't know when this will happen.\n",
    "- Here we will use a `while` loop."
   ]
  },
  {
   "cell_type": "code",
   "execution_count": 30,
   "metadata": {
    "collapsed": false
   },
   "outputs": [
    {
     "name": "stdout",
     "output_type": "stream",
     "text": [
      "["
     ]
    }
   ],
   "source": [
    "kitty = 15 ;i=0;p=0.40;\n",
    "sign(kitty)\n",
    "\n",
    "while kitty[end] > 0.0 \n",
    "    i += 1\n",
    "    kitty = kitty + sign(p-rand(1))\n",
    "\n",
    "end    \n",
    "\n",
    "println(kitty)\n",
    "println(i)"
   ]
  },
  {
   "cell_type": "code",
   "execution_count": 31,
   "metadata": {
    "collapsed": false
   },
   "outputs": [],
   "source": [
    "durations=[]\n",
    "\n",
    "for m =1:100000\n",
    "    kitty = 25 ;i=0;p=0.45;\n",
    "    while kitty[end] > 0.0 \n",
    "       i += 1\n",
    "       kitty = kitty + sign(p-rand(1))\n",
    "\n",
    "    end  \n",
    "    # println(i)\n",
    "    push!(durations,i)\n",
    "end"
   ]
  },
  {
   "cell_type": "code",
   "execution_count": 32,
   "metadata": {
    "collapsed": false
   },
   "outputs": [
    {
     "data": {
      "text/plain": [
       "249.18136"
      ]
     },
     "execution_count": 32,
     "metadata": {},
     "output_type": "execute_result"
    },
    {
     "name": "stdout",
     "output_type": "stream",
     "text": [
      "0.0]\n",
      "51\n"
     ]
    }
   ],
   "source": [
    "mean(durations)"
   ]
  },
  {
   "cell_type": "code",
   "execution_count": 33,
   "metadata": {
    "collapsed": false
   },
   "outputs": [
    {
     "data": {
      "text/plain": [
       "100000-element Array{Any,1}:\n",
       "   27\n",
       "   29\n",
       "   29\n",
       "   31\n",
       "   33\n",
       "   33\n",
       "   33\n",
       "   33\n",
       "   35\n",
       "   35\n",
       "   35\n",
       "   35\n",
       "   35\n",
       "    ⋮\n",
       " 1497\n",
       " 1509\n",
       " 1519\n",
       " 1535\n",
       " 1547\n",
       " 1553\n",
       " 1579\n",
       " 1613\n",
       " 1619\n",
       " 1715\n",
       " 1785\n",
       " 2249"
      ]
     },
     "execution_count": 33,
     "metadata": {},
     "output_type": "execute_result"
    }
   ],
   "source": [
    "sort(durations)"
   ]
  },
  {
   "cell_type": "markdown",
   "metadata": {
    "collapsed": true
   },
   "source": [
    "#### Banker with Finite Resources"
   ]
  },
  {
   "cell_type": "markdown",
   "metadata": {
    "collapsed": true
   },
   "source": [
    "Suppose that the Gambler's counterpart, the Banker, has finite resources also. \n",
    "- Gambler's initial wealth `A`\n",
    "- Banker's initial wealth 'B'\n",
    "- Gambling ends when one loses everything, and other wins jackpot. (A+B)"
   ]
  },
  {
   "cell_type": "code",
   "execution_count": 34,
   "metadata": {
    "collapsed": true
   },
   "outputs": [],
   "source": [
    "A=20;B=25; gamblerwins = 0;M=100000\n",
    "\n",
    "durations=[]\n",
    "kitty=A;\n",
    "\n",
    "for m =1:M\n",
    "    kitty = 25 ;i=0;p=0.48;\n",
    "    while kitty[end] > 0.0 \n",
    "        if kitty[end] == (A+B) \n",
    "            gamblerwins+= 1\n",
    "            break\n",
    "        end\n",
    "       i += 1\n",
    "       kitty = kitty + sign(p-rand(1))\n",
    "\n",
    "    end  \n",
    "    # println(i)\n",
    "    push!(durations,i)\n",
    "end"
   ]
  },
  {
   "cell_type": "code",
   "execution_count": 35,
   "metadata": {
    "collapsed": false
   },
   "outputs": [
    {
     "data": {
      "text/plain": [
       "17.814"
      ]
     },
     "execution_count": 35,
     "metadata": {},
     "output_type": "execute_result"
    }
   ],
   "source": [
    "(gamblerwins/M) *100"
   ]
  },
  {
   "cell_type": "code",
   "execution_count": 36,
   "metadata": {
    "collapsed": false
   },
   "outputs": [
    {
     "data": {
      "text/plain": [
       "425.05478"
      ]
     },
     "execution_count": 36,
     "metadata": {},
     "output_type": "execute_result"
    }
   ],
   "source": [
    "mean(durations)"
   ]
  },
  {
   "cell_type": "code",
   "execution_count": 37,
   "metadata": {
    "collapsed": false
   },
   "outputs": [
    {
     "data": {
      "text/plain": [
       "335.0"
      ]
     },
     "execution_count": 37,
     "metadata": {},
     "output_type": "execute_result"
    }
   ],
   "source": [
    "median(durations)"
   ]
  },
  {
   "cell_type": "code",
   "execution_count": null,
   "metadata": {
    "collapsed": true
   },
   "outputs": [],
   "source": []
  },
  {
   "cell_type": "code",
   "execution_count": null,
   "metadata": {
    "collapsed": true
   },
   "outputs": [],
   "source": []
  },
  {
   "cell_type": "code",
   "execution_count": null,
   "metadata": {
    "collapsed": true
   },
   "outputs": [],
   "source": []
  }
 ],
 "metadata": {
  "kernelspec": {
   "display_name": "Julia 0.4.5",
   "language": "julia",
   "name": "julia-0.4"
  },
  "language_info": {
   "file_extension": ".jl",
   "mimetype": "application/julia",
   "name": "julia",
   "version": "0.4.5"
  }
 },
 "nbformat": 4,
 "nbformat_minor": 0
}
