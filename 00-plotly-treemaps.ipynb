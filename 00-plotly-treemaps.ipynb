{
 "cells": [
  {
   "cell_type": "code",
   "execution_count": 1,
   "metadata": {
    "collapsed": false
   },
   "outputs": [
    {
     "ename": "ImportError",
     "evalue": "No module named 'squarify'",
     "output_type": "error",
     "traceback": [
      "\u001b[1;31m---------------------------------------------------------------------------\u001b[0m",
      "\u001b[1;31mImportError\u001b[0m                               Traceback (most recent call last)",
      "\u001b[1;32m<ipython-input-1-e1df5aec9650>\u001b[0m in \u001b[0;36m<module>\u001b[1;34m()\u001b[0m\n\u001b[0;32m      2\u001b[0m \u001b[1;32mimport\u001b[0m \u001b[0mplotly\u001b[0m\u001b[1;33m.\u001b[0m\u001b[0mgraph_objs\u001b[0m \u001b[1;32mas\u001b[0m \u001b[0mgo\u001b[0m\u001b[1;33m\u001b[0m\u001b[0m\n\u001b[0;32m      3\u001b[0m \u001b[1;33m\u001b[0m\u001b[0m\n\u001b[1;32m----> 4\u001b[1;33m \u001b[1;32mimport\u001b[0m \u001b[0msquarify\u001b[0m\u001b[1;33m\u001b[0m\u001b[0m\n\u001b[0m\u001b[0;32m      5\u001b[0m \u001b[1;33m\u001b[0m\u001b[0m\n\u001b[0;32m      6\u001b[0m \u001b[0mx\u001b[0m \u001b[1;33m=\u001b[0m \u001b[1;36m0.\u001b[0m\u001b[1;33m\u001b[0m\u001b[0m\n",
      "\u001b[1;31mImportError\u001b[0m: No module named 'squarify'"
     ]
    }
   ],
   "source": [
    "import plotly.plotly as py\n",
    "import plotly.graph_objs as go\n",
    "\n",
    "import squarify\n",
    "\n",
    "x = 0.\n",
    "y = 0.\n",
    "width = 100.\n",
    "height = 100.\n",
    "\n",
    "values = [500, 433, 78, 25, 25, 7]\n",
    "\n",
    "normed = squarify.normalize_sizes(values, width, height)\n",
    "rects = squarify.squarify(normed, x, y, width, height)\n",
    "\n",
    "# Choose colors from http://colorbrewer2.org/ under \"Export\"\n",
    "color_brewer = ['rgb(166,206,227)','rgb(31,120,180)','rgb(178,223,138)',\n",
    "                'rgb(51,160,44)','rgb(251,154,153)','rgb(227,26,28)',\n",
    "                'rgb(253,191,111)','rgb(255,127,0)','rgb(202,178,214)',\n",
    "                'rgb(106,61,154)','rgb(255,255,153)','rgb(177,89,40)']\n",
    "shapes = []\n",
    "annotations = []\n",
    "counter = 0\n",
    "\n",
    "for r in rects:\n",
    "    shapes.append( \n",
    "        dict(\n",
    "            type = 'rect', \n",
    "            x0 = r['x'], \n",
    "            y0 = r['y'], \n",
    "            x1 = r['x']+r['dx'], \n",
    "            y1 = r['y']+r['dy'],\n",
    "            line = dict( width = 2 ),\n",
    "            fillcolor = color_brewer[counter]\n",
    "        ) \n",
    "    )\n",
    "    annotations.append(\n",
    "        dict(\n",
    "            x = r['x']+(r['dx']/2),\n",
    "            y = r['y']+(r['dy']/2),\n",
    "            text = values[counter],\n",
    "            showarrow = False\n",
    "        )\n",
    "    )\n",
    "    counter = counter + 1\n",
    "    if counter >= len(color_brewer):\n",
    "        counter = 0\n",
    "\n",
    "# For hover text\n",
    "trace0 = go.Scatter(\n",
    "    x = [ r['x']+(r['dx']/2) for r in rects ], \n",
    "    y = [ r['y']+(r['dy']/2) for r in rects ],\n",
    "    text = [ str(v) for v in values ], \n",
    "    mode = 'text',\n",
    ")\n",
    "        \n",
    "layout = dict(\n",
    "    height=700, \n",
    "    width=700,\n",
    "    xaxis=dict(showgrid=False,zeroline=False),\n",
    "    yaxis=dict(showgrid=False,zeroline=False),\n",
    "    shapes=shapes,\n",
    "    annotations=annotations,\n",
    "    hovermode='closest'\n",
    ")\n",
    "\n",
    "# With hovertext\n",
    "figure = dict(data=[trace0], layout=layout)\n",
    "\n",
    "# Without hovertext\n",
    "# figure = dict(data=[Scatter()], layout=layout)\n",
    "\n",
    "py.iplot(figure, filename='squarify-treemap')"
   ]
  },
  {
   "cell_type": "code",
   "execution_count": null,
   "metadata": {
    "collapsed": true
   },
   "outputs": [],
   "source": []
  }
 ],
 "metadata": {
  "kernelspec": {
   "display_name": "Python 3",
   "language": "python",
   "name": "python3"
  },
  "language_info": {
   "codemirror_mode": {
    "name": "ipython",
    "version": 3
   },
   "file_extension": ".py",
   "mimetype": "text/x-python",
   "name": "python",
   "nbconvert_exporter": "python",
   "pygments_lexer": "ipython3",
   "version": "3.5.1"
  }
 },
 "nbformat": 4,
 "nbformat_minor": 0
}
